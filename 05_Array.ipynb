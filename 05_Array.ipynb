{
 "cells": [
  {
   "cell_type": "code",
   "execution_count": 4,
   "metadata": {},
   "outputs": [],
   "source": [
    "from typing import List\n",
    "import sys"
   ]
  },
  {
   "cell_type": "markdown",
   "metadata": {},
   "source": [
    "\n",
    "# Segregate 0s and 1s in an array\n",
    "\n",
    "You are given an array of 0s and 1s in random order. Segregate 0s on left side and 1s on right side of the array. Traverse array only once.\n",
    "\n",
    "```java\n",
    "Input array   =  [0, 1, 0, 1, 0, 0, 1, 1, 1, 0] \n",
    "Output array =  [0, 0, 0, 0, 0, 1, 1, 1, 1, 1] \n",
    "```"
   ]
  },
  {
   "cell_type": "markdown",
   "metadata": {},
   "source": [
    "### Idea\n",
    "\n",
    "[Dutch National Flag](http://users.monash.edu/~lloyd/tildeAlgDS/Sort/Flag/)\n",
    "\n",
    "- For this kind of problem, keep number of pointer (left, right, mid etc) == number of unique elements in the array\n",
    "\n",
    "> Dijkstra used the Dutch National Flag Problem* as a structured programming exercise in program derivation and program proof. Given `N' objects coloured red, white or blue, sort them so that objects of the same colour are adjacent, with the colours in the order red, white and blue.\n",
    "\n",
    "![image](http://users.monash.edu/~lloyd/tildeAlgDS/Sort/PICS/Flag.gif)\n",
    "\n",
    "### Two Colours\n",
    "\n",
    "It is easiest to consider just two \"colours\", {zero,one}, first. The algorithm maintains three sections (possibly empty) in the array a[ ]:\n",
    "\n",
    "```java\n",
    "    a[1..Lo-1] zeroes\n",
    "    a[Lo..Hi] unknown\n",
    "    a[Hi+1..N] ones\n",
    "```\n",
    "The unknown section is shrunk while maintaining these conditions:\n",
    "\n",
    "```java\n",
    "        Lo := 1; Hi := N;\n",
    "        while Lo <= Hi do\n",
    "            Invariant: a[1..Lo-1] are all zero and a[Hi+1..N] are all one; a[Lo..Hi] are unknown.\n",
    "            if a[Lo] = 0 then Lo++\n",
    "            else swap a[Lo] and a[Hi]; Hi--\n",
    "```\n",
    "\n",
    "**--- 2-way Partitioning ---**"
   ]
  },
  {
   "cell_type": "code",
   "execution_count": 31,
   "metadata": {},
   "outputs": [],
   "source": [
    "def segrigate_0_1(arr:List):\n",
    "    \n",
    "    left, right = 0, len(arr)-1\n",
    "    \n",
    "    while left < right:\n",
    "        \n",
    "        while arr[left] == 0 and left < right: left += 1\n",
    "        while arr[right] == 1 and right > left: right -= 1\n",
    "        \n",
    "        arr[left], arr[right] = arr[right], arr[left]\n",
    "        \n",
    "    return arr"
   ]
  },
  {
   "cell_type": "code",
   "execution_count": 32,
   "metadata": {},
   "outputs": [
    {
     "data": {
      "text/plain": [
       "[0, 0, 0, 0, 0, 1, 1, 1, 1, 1]"
      ]
     },
     "execution_count": 32,
     "metadata": {},
     "output_type": "execute_result"
    }
   ],
   "source": [
    "arr   =  [0, 1, 0, 1, 0, 0, 1, 1, 1, 0]\n",
    "segrigate_0_1(arr)"
   ]
  },
  {
   "cell_type": "code",
   "execution_count": 9,
   "metadata": {},
   "outputs": [
    {
     "data": {
      "text/plain": [
       "[0, 0, 0, 0, 1, 1]"
      ]
     },
     "execution_count": 9,
     "metadata": {},
     "output_type": "execute_result"
    }
   ],
   "source": [
    "arr   =  [1, 0, 0, 0,  0, 1]\n",
    "segrigate_0_1(arr)"
   ]
  },
  {
   "cell_type": "markdown",
   "metadata": {},
   "source": [
    "## Sort an array of 0s, 1s and 2s\n",
    "\n",
    "Given an array A[] consisting 0s, 1s and 2s. The task is to write a function that sorts the given array. The functions should put all 0s first, then all 1s and all 2s in last.\n",
    "\n",
    "Examples:\n",
    "\n",
    "```java\n",
    "    Input: {0, 1, 2, 0, 1, 2}\n",
    "    Output: {0, 0, 1, 1, 2, 2}\n",
    "\n",
    "\n",
    "    Input: {0, 1, 1, 0, 1, 2, 1, 2, 0, 0, 0, 1}\n",
    "    Output: {0, 0, 0, 0, 0, 1, 1, 1, 1, 1, 2, 2} \n",
    "```\n",
    "\n"
   ]
  },
  {
   "cell_type": "markdown",
   "metadata": {},
   "source": [
    "### Idea\n",
    "\n",
    "The problem was posed with three colours, here `0', `1' and `2'. The array is divided into four sections:\n",
    "\n",
    "```java\n",
    "    a[1..Lo-1] zeroes (red)\n",
    "    a[Lo..Mid-] ones (white)\n",
    "    a[Mid..Hi] unknown\n",
    "    a[Hi+1..N] twos (blue)\n",
    "```\n",
    "\n",
    "The unknown region is shrunk while maintaining these conditions\n",
    "\n",
    "```java\n",
    "        Lo := 1; Mid := 1; Hi := N;\n",
    "        while Mid <= Hi do\n",
    "            Invariant: a[1..Lo-1]=0 and a[Lo..Mid-1]=1 and a[Hi+1..N]=2; a[Mid..Hi] are unknown.\n",
    "            case a[Mid] in\n",
    "                0: swap a[Lo] and a[Mid]; Lo++; Mid++\n",
    "                1: Mid++\n",
    "                2: swap a[Mid] and a[Hi]; Hi--\n",
    "```\n",
    "**--- Dutch National Flag Algorithm, or 3-way Partitioning ---**"
   ]
  },
  {
   "cell_type": "code",
   "execution_count": 27,
   "metadata": {},
   "outputs": [],
   "source": [
    "def segrigate_0_1_2(arr:List):\n",
    "    \n",
    "    left,mid, right = 0,0, len(arr)-1\n",
    "    \n",
    "    while mid <= right:\n",
    "        \n",
    "        if arr[mid] == 0:\n",
    "            arr[left], arr[mid] = arr[mid], arr[left]\n",
    "            mid += 1\n",
    "            left += 1\n",
    "        elif arr[mid] == 1: mid += 1\n",
    "        else:\n",
    "            arr[mid], arr[right] = arr[right], arr[mid]\n",
    "            right -= 1\n",
    "        \n",
    "    return arr"
   ]
  },
  {
   "cell_type": "code",
   "execution_count": 28,
   "metadata": {},
   "outputs": [
    {
     "data": {
      "text/plain": [
       "'0 0 1 2 2'"
      ]
     },
     "execution_count": 28,
     "metadata": {},
     "output_type": "execute_result"
    }
   ],
   "source": [
    "arr   =  [0 ,2 ,1 ,2 ,0]\n",
    "op = segrigate_0_1_2(arr)\n",
    "\" \".join(map(str, op))"
   ]
  },
  {
   "cell_type": "code",
   "execution_count": 24,
   "metadata": {},
   "outputs": [
    {
     "data": {
      "text/plain": [
       "'0 2 1 2 0'"
      ]
     },
     "execution_count": 24,
     "metadata": {},
     "output_type": "execute_result"
    }
   ],
   "source": [
    "\" \".join(map(str, op))"
   ]
  },
  {
   "cell_type": "markdown",
   "metadata": {},
   "source": [
    "# Find Equilibrium index\n",
    "\n",
    "```java\n",
    "Input: A[] = {-7, 1, 5, 2, -4, 3, 0}\n",
    "Output: 3\n",
    "```"
   ]
  },
  {
   "cell_type": "code",
   "execution_count": 34,
   "metadata": {},
   "outputs": [],
   "source": []
  },
  {
   "cell_type": "code",
   "execution_count": null,
   "metadata": {},
   "outputs": [],
   "source": []
  },
  {
   "cell_type": "code",
   "execution_count": 41,
   "metadata": {},
   "outputs": [],
   "source": [
    "# assumption array has >=3 elements\n",
    "\n",
    "def get_equilibrium_point(arr:List):\n",
    "    n = len(arr)\n",
    "    if n==1: return 1\n",
    "    elif n>=3:\n",
    "        left_sum = arr[0]\n",
    "        idx = 1\n",
    "        right_sum = sum(arr[2:])\n",
    "\n",
    "        while idx <n-1:\n",
    "            if left_sum == right_sum: return idx+1\n",
    "\n",
    "            left_sum += arr[idx]\n",
    "            idx += 1\n",
    "            right_sum -= arr[idx]\n",
    "\n",
    "        return -1\n",
    "    return -1"
   ]
  },
  {
   "cell_type": "code",
   "execution_count": 42,
   "metadata": {},
   "outputs": [
    {
     "data": {
      "text/plain": [
       "-1"
      ]
     },
     "execution_count": 42,
     "metadata": {},
     "output_type": "execute_result"
    }
   ],
   "source": [
    "#arr = [-7, 1, 5, 2, -4, 3, 0]\n",
    "arr = [1,2,3]\n",
    "get_equilibrium_point(arr)"
   ]
  },
  {
   "cell_type": "markdown",
   "metadata": {},
   "source": [
    "# Find Leaders in the Array\n",
    "\n",
    "Given an array of positive integers. Your task is to find the `leaders` in the array.\n",
    "Note: An element of array is leader if it is `greater than or equal to all the elements to its right side`. Also, the rightmost element is always a leader. "
   ]
  },
  {
   "cell_type": "code",
   "execution_count": 18,
   "metadata": {},
   "outputs": [],
   "source": [
    "def find_leaders(arr:List, arr_size:int):\n",
    "    max_so_far=-sys.maxsize+1\n",
    "    result = []\n",
    "    for i in range(arr_size-1, -1, -1):\n",
    "        if arr[i] > max_so_far:\n",
    "            result.append(arr[i])\n",
    "            max_so_far = arr[i]\n",
    "            \n",
    "    return [i for i in reversed(result)]"
   ]
  },
  {
   "cell_type": "code",
   "execution_count": 20,
   "metadata": {},
   "outputs": [],
   "source": [
    "arr = [16,17,4,3,5,2]\n",
    "\n",
    "arr = [10,9,8,7,6,5,4]\n",
    "\n",
    "n = len(arr)\n",
    "op = find_leaders(arr,n)"
   ]
  },
  {
   "cell_type": "code",
   "execution_count": 21,
   "metadata": {},
   "outputs": [
    {
     "data": {
      "text/plain": [
       "'10 9 8 7 6 5 4'"
      ]
     },
     "execution_count": 21,
     "metadata": {},
     "output_type": "execute_result"
    }
   ],
   "source": [
    "\" \".join(map(str,op))"
   ]
  },
  {
   "cell_type": "markdown",
   "metadata": {},
   "source": [
    "# Subarray with given sum\n",
    "\n",
    "Given an unsorted array A of size N of non-negative integers, find a continuous sub-array which adds to a given number S."
   ]
  },
  {
   "cell_type": "code",
   "execution_count": 16,
   "metadata": {},
   "outputs": [],
   "source": [
    "def subarray_with_sum(arr:List[int], arr_size:int, target_sum:int):\n",
    "    \n",
    "    sum_val = arr[0]\n",
    "    start = 0\n",
    "    i = 1\n",
    "    n = arr_size\n",
    "    \n",
    "    while i<=n:\n",
    "        \n",
    "        while sum_val > target_sum and start < i - 1:\n",
    "            sum_val = sum_val - arr[start]\n",
    "            start += 1\n",
    "        \n",
    "        if sum_val == target_sum:\n",
    "            return [start+1, i]\n",
    "        \n",
    "        if i<n:\n",
    "            sum_val = sum_val + arr[i]\n",
    "        \n",
    "        i += 1\n",
    "    \n",
    "    return [-1]"
   ]
  },
  {
   "cell_type": "code",
   "execution_count": 19,
   "metadata": {},
   "outputs": [
    {
     "data": {
      "text/plain": [
       "'2 5'"
      ]
     },
     "execution_count": 19,
     "metadata": {},
     "output_type": "execute_result"
    }
   ],
   "source": [
    "#arr = [1, 2, 3, 7, 5]\n",
    "arr = [15, 2, 4, 8, 9, 5, 10, 23]\n",
    "n = len(arr)\n",
    "#target = 12\n",
    "target = 23\n",
    "op = subarray_with_sum(arr,n,target)\n",
    "\" \".join(map(str,op))"
   ]
  },
  {
   "cell_type": "markdown",
   "metadata": {},
   "source": [
    "# Kadane Algo: Largest Sum Contiguous Subarray\n",
    "\n",
    "Write an efficient program to find the `sum of contiguous subarray` within a one-dimensional array of numbers which has the largest sum. \n",
    "\n",
    "![image](https://media.geeksforgeeks.org/wp-content/cdn-uploads/kadane-Algorithm.png)"
   ]
  },
  {
   "cell_type": "markdown",
   "metadata": {},
   "source": [
    "## Most accurate implemention: \n",
    "\n",
    "It works even if all integers are negative."
   ]
  },
  {
   "cell_type": "code",
   "execution_count": 53,
   "metadata": {},
   "outputs": [],
   "source": [
    "def largest_subarray_sum(arr:List[int], arr_size:int):\n",
    "    \n",
    "    sum_so_far = arr[0]\n",
    "    max_so_far = arr[0]\n",
    "    \n",
    "    for i in range(1,arr_size):\n",
    "        sum_so_far = max(arr[i], sum_so_far+arr[i])\n",
    "        max_so_far = max(sum_so_far, max_so_far)\n",
    "            \n",
    "    return max_so_far"
   ]
  },
  {
   "cell_type": "markdown",
   "metadata": {},
   "source": [
    "## Partially accurate implemention: \n",
    "\n",
    "It doesn't work if all integers are negative."
   ]
  },
  {
   "cell_type": "code",
   "execution_count": 55,
   "metadata": {},
   "outputs": [],
   "source": [
    "def maxSubArraySum(a,size): \n",
    "      \n",
    "    max_so_far = 0\n",
    "    max_ending_here = 0\n",
    "      \n",
    "    for i in range(0, size): \n",
    "        max_ending_here = max_ending_here + a[i] \n",
    "        if max_ending_here < 0: \n",
    "            max_ending_here = 0\n",
    "          \n",
    "        # Do not compare for all elements. Compare only    \n",
    "        # when  max_ending_here > 0 \n",
    "        elif (max_so_far < max_ending_here): \n",
    "            max_so_far = max_ending_here \n",
    "              \n",
    "    return max_so_far "
   ]
  },
  {
   "cell_type": "code",
   "execution_count": 56,
   "metadata": {},
   "outputs": [
    {
     "data": {
      "text/plain": [
       "(-1, 0)"
      ]
     },
     "execution_count": 56,
     "metadata": {},
     "output_type": "execute_result"
    }
   ],
   "source": [
    "# Driver function to check the above function  \n",
    "arr = [-1,-2,-3,-4,-5]\n",
    "arr_size = len(arr)\n",
    "largest_subarray_sum(arr, arr_size), maxSubArraySum(arr, arr_size)"
   ]
  },
  {
   "cell_type": "code",
   "execution_count": 31,
   "metadata": {},
   "outputs": [],
   "source": [
    "def in_place_merge_sort(arr1:List[int], arr2:List[int]):\n",
    "    arr_size_1 = len(arr1)\n",
    "    arr_size_2 = len(arr2)\n",
    "    \n",
    "    i = 0\n",
    "    # print(f\"arr_size_1:{arr_size_1}, arr_size_2:{arr_size_2}\")\n",
    "    while i < arr_size_1-1:\n",
    "        \n",
    "        while arr1[i] < arr2[0]:\n",
    "            # print(f\"i:{i}, arr1[i]:{arr1[i]}, arr2[0]: {arr2[0]}\")\n",
    "            i += 1\n",
    "        \n",
    "        arr1[i], arr2[0] = arr2[0], arr1[i]\n",
    "        arr2 = sorted(arr2) #mlog(m)\n",
    "        \n",
    "    return arr1, arr2\n",
    "        "
   ]
  },
  {
   "cell_type": "code",
   "execution_count": 28,
   "metadata": {},
   "outputs": [],
   "source": [
    "arr1 = [2, 3, 8, 13]\n",
    "arr2 = [1, 5, 9, 10, 15, 20]"
   ]
  },
  {
   "cell_type": "code",
   "execution_count": 29,
   "metadata": {},
   "outputs": [
    {
     "name": "stdout",
     "output_type": "stream",
     "text": [
      "arr_size_1:4, arr_size_2:6\n",
      "swapping...\n",
      "i:0, arr1[i]:1, arr2[0]: 2\n",
      "swapping...\n",
      "i:1, arr1[i]:2, arr2[0]: 3\n",
      "swapping...\n",
      "i:2, arr1[i]:3, arr2[0]: 5\n",
      "swapping...\n"
     ]
    }
   ],
   "source": [
    "out_arr_1, out_arr_2 = in_place_merge_sort(arr1, arr2)"
   ]
  },
  {
   "cell_type": "code",
   "execution_count": 30,
   "metadata": {},
   "outputs": [
    {
     "data": {
      "text/plain": [
       "([1, 2, 3, 5], [8, 9, 10, 13, 15, 20])"
      ]
     },
     "execution_count": 30,
     "metadata": {},
     "output_type": "execute_result"
    }
   ],
   "source": [
    "out_arr_1, out_arr_2"
   ]
  },
  {
   "cell_type": "code",
   "execution_count": null,
   "metadata": {},
   "outputs": [],
   "source": []
  }
 ],
 "metadata": {
  "kernelspec": {
   "display_name": "Python [conda env:py36] *",
   "language": "python",
   "name": "conda-env-py36-py"
  },
  "language_info": {
   "codemirror_mode": {
    "name": "ipython",
    "version": 3
   },
   "file_extension": ".py",
   "mimetype": "text/x-python",
   "name": "python",
   "nbconvert_exporter": "python",
   "pygments_lexer": "ipython3",
   "version": "3.6.9"
  },
  "toc-autonumbering": true
 },
 "nbformat": 4,
 "nbformat_minor": 4
}
