{
 "cells": [
  {
   "cell_type": "code",
   "execution_count": 1,
   "metadata": {},
   "outputs": [],
   "source": [
    "from typing import List"
   ]
  },
  {
   "cell_type": "markdown",
   "metadata": {},
   "source": [
    "\n",
    "# Segregate 0s and 1s in an array\n",
    "\n",
    "You are given an array of 0s and 1s in random order. Segregate 0s on left side and 1s on right side of the array. Traverse array only once.\n",
    "\n",
    "```java\n",
    "Input array   =  [0, 1, 0, 1, 0, 0, 1, 1, 1, 0] \n",
    "Output array =  [0, 0, 0, 0, 0, 1, 1, 1, 1, 1] \n",
    "```"
   ]
  },
  {
   "cell_type": "markdown",
   "metadata": {},
   "source": [
    "### Idea\n",
    "\n",
    "[Dutch National Flag](http://users.monash.edu/~lloyd/tildeAlgDS/Sort/Flag/)\n",
    "\n",
    "- For this kind of problem, keep number of pointer (left, right, mid etc) == number of unique elements in the array\n",
    "\n",
    "> Dijkstra used the Dutch National Flag Problem* as a structured programming exercise in program derivation and program proof. Given `N' objects coloured red, white or blue, sort them so that objects of the same colour are adjacent, with the colours in the order red, white and blue.\n",
    "\n",
    "![image](http://users.monash.edu/~lloyd/tildeAlgDS/Sort/PICS/Flag.gif)\n",
    "\n",
    "### Two Colours\n",
    "\n",
    "It is easiest to consider just two \"colours\", {zero,one}, first. The algorithm maintains three sections (possibly empty) in the array a[ ]:\n",
    "\n",
    "```java\n",
    "    a[1..Lo-1] zeroes\n",
    "    a[Lo..Hi] unknown\n",
    "    a[Hi+1..N] ones\n",
    "```\n",
    "The unknown section is shrunk while maintaining these conditions:\n",
    "\n",
    "```java\n",
    "        Lo := 1; Hi := N;\n",
    "        while Lo <= Hi do\n",
    "            Invariant: a[1..Lo-1] are all zero and a[Hi+1..N] are all one; a[Lo..Hi] are unknown.\n",
    "            if a[Lo] = 0 then Lo++\n",
    "            else swap a[Lo] and a[Hi]; Hi--\n",
    "```\n",
    "\n",
    "**--- 2-way Partitioning ---**"
   ]
  },
  {
   "cell_type": "code",
   "execution_count": 31,
   "metadata": {},
   "outputs": [],
   "source": [
    "def segrigate_0_1(arr:List):\n",
    "    \n",
    "    left, right = 0, len(arr)-1\n",
    "    \n",
    "    while left < right:\n",
    "        \n",
    "        while arr[left] == 0 and left < right: left += 1\n",
    "        while arr[right] == 1 and right > left: right -= 1\n",
    "        \n",
    "        arr[left], arr[right] = arr[right], arr[left]\n",
    "        \n",
    "    return arr"
   ]
  },
  {
   "cell_type": "code",
   "execution_count": 32,
   "metadata": {},
   "outputs": [
    {
     "data": {
      "text/plain": [
       "[0, 0, 0, 0, 0, 1, 1, 1, 1, 1]"
      ]
     },
     "execution_count": 32,
     "metadata": {},
     "output_type": "execute_result"
    }
   ],
   "source": [
    "arr   =  [0, 1, 0, 1, 0, 0, 1, 1, 1, 0]\n",
    "segrigate_0_1(arr)"
   ]
  },
  {
   "cell_type": "code",
   "execution_count": 9,
   "metadata": {},
   "outputs": [
    {
     "data": {
      "text/plain": [
       "[0, 0, 0, 0, 1, 1]"
      ]
     },
     "execution_count": 9,
     "metadata": {},
     "output_type": "execute_result"
    }
   ],
   "source": [
    "arr   =  [1, 0, 0, 0,  0, 1]\n",
    "segrigate_0_1(arr)"
   ]
  },
  {
   "cell_type": "markdown",
   "metadata": {},
   "source": [
    "## Sort an array of 0s, 1s and 2s\n",
    "\n",
    "Given an array A[] consisting 0s, 1s and 2s. The task is to write a function that sorts the given array. The functions should put all 0s first, then all 1s and all 2s in last.\n",
    "\n",
    "Examples:\n",
    "\n",
    "```java\n",
    "    Input: {0, 1, 2, 0, 1, 2}\n",
    "    Output: {0, 0, 1, 1, 2, 2}\n",
    "\n",
    "\n",
    "    Input: {0, 1, 1, 0, 1, 2, 1, 2, 0, 0, 0, 1}\n",
    "    Output: {0, 0, 0, 0, 0, 1, 1, 1, 1, 1, 2, 2} \n",
    "```\n",
    "\n"
   ]
  },
  {
   "cell_type": "markdown",
   "metadata": {},
   "source": [
    "### Idea\n",
    "\n",
    "The problem was posed with three colours, here `0', `1' and `2'. The array is divided into four sections:\n",
    "\n",
    "```java\n",
    "    a[1..Lo-1] zeroes (red)\n",
    "    a[Lo..Mid-] ones (white)\n",
    "    a[Mid..Hi] unknown\n",
    "    a[Hi+1..N] twos (blue)\n",
    "```\n",
    "\n",
    "The unknown region is shrunk while maintaining these conditions\n",
    "\n",
    "```java\n",
    "        Lo := 1; Mid := 1; Hi := N;\n",
    "        while Mid <= Hi do\n",
    "            Invariant: a[1..Lo-1]=0 and a[Lo..Mid-1]=1 and a[Hi+1..N]=2; a[Mid..Hi] are unknown.\n",
    "            case a[Mid] in\n",
    "                0: swap a[Lo] and a[Mid]; Lo++; Mid++\n",
    "                1: Mid++\n",
    "                2: swap a[Mid] and a[Hi]; Hi--\n",
    "```\n",
    "**--- Dutch National Flag Algorithm, or 3-way Partitioning ---**"
   ]
  },
  {
   "cell_type": "code",
   "execution_count": 27,
   "metadata": {},
   "outputs": [],
   "source": [
    "def segrigate_0_1_2(arr:List):\n",
    "    \n",
    "    left,mid, right = 0,0, len(arr)-1\n",
    "    \n",
    "    while mid <= right:\n",
    "        \n",
    "        if arr[mid] == 0:\n",
    "            arr[left], arr[mid] = arr[mid], arr[left]\n",
    "            mid += 1\n",
    "            left += 1\n",
    "        elif arr[mid] == 1: mid += 1\n",
    "        else:\n",
    "            arr[mid], arr[right] = arr[right], arr[mid]\n",
    "            right -= 1\n",
    "        \n",
    "    return arr"
   ]
  },
  {
   "cell_type": "code",
   "execution_count": 28,
   "metadata": {},
   "outputs": [
    {
     "data": {
      "text/plain": [
       "'0 0 1 2 2'"
      ]
     },
     "execution_count": 28,
     "metadata": {},
     "output_type": "execute_result"
    }
   ],
   "source": [
    "arr   =  [0 ,2 ,1 ,2 ,0]\n",
    "op = segrigate_0_1_2(arr)\n",
    "\" \".join(map(str, op))"
   ]
  },
  {
   "cell_type": "code",
   "execution_count": 24,
   "metadata": {},
   "outputs": [
    {
     "data": {
      "text/plain": [
       "'0 2 1 2 0'"
      ]
     },
     "execution_count": 24,
     "metadata": {},
     "output_type": "execute_result"
    }
   ],
   "source": [
    "\" \".join(map(str, op))"
   ]
  },
  {
   "cell_type": "markdown",
   "metadata": {},
   "source": [
    "# Find Equilibrium index\n",
    "\n",
    "```java\n",
    "Input: A[] = {-7, 1, 5, 2, -4, 3, 0}\n",
    "Output: 3\n",
    "```"
   ]
  },
  {
   "cell_type": "code",
   "execution_count": 34,
   "metadata": {},
   "outputs": [],
   "source": []
  },
  {
   "cell_type": "code",
   "execution_count": null,
   "metadata": {},
   "outputs": [],
   "source": []
  },
  {
   "cell_type": "code",
   "execution_count": 41,
   "metadata": {},
   "outputs": [],
   "source": [
    "# assumption array has >=3 elements\n",
    "\n",
    "def get_equilibrium_point(arr:List):\n",
    "    n = len(arr)\n",
    "    if n==1: return 1\n",
    "    elif n>=3:\n",
    "        left_sum = arr[0]\n",
    "        idx = 1\n",
    "        right_sum = sum(arr[2:])\n",
    "\n",
    "        while idx <n-1:\n",
    "            if left_sum == right_sum: return idx+1\n",
    "\n",
    "            left_sum += arr[idx]\n",
    "            idx += 1\n",
    "            right_sum -= arr[idx]\n",
    "\n",
    "        return -1\n",
    "    return -1"
   ]
  },
  {
   "cell_type": "code",
   "execution_count": 42,
   "metadata": {},
   "outputs": [
    {
     "data": {
      "text/plain": [
       "-1"
      ]
     },
     "execution_count": 42,
     "metadata": {},
     "output_type": "execute_result"
    }
   ],
   "source": [
    "#arr = [-7, 1, 5, 2, -4, 3, 0]\n",
    "arr = [1,2,3]\n",
    "get_equilibrium_point(arr)"
   ]
  },
  {
   "cell_type": "code",
   "execution_count": null,
   "metadata": {},
   "outputs": [],
   "source": []
  }
 ],
 "metadata": {
  "kernelspec": {
   "display_name": "Python [conda env:py36] *",
   "language": "python",
   "name": "conda-env-py36-py"
  },
  "language_info": {
   "codemirror_mode": {
    "name": "ipython",
    "version": 3
   },
   "file_extension": ".py",
   "mimetype": "text/x-python",
   "name": "python",
   "nbconvert_exporter": "python",
   "pygments_lexer": "ipython3",
   "version": "3.6.9"
  },
  "toc-autonumbering": true
 },
 "nbformat": 4,
 "nbformat_minor": 4
}
