{
 "cells": [
  {
   "cell_type": "code",
   "execution_count": 4,
   "metadata": {},
   "outputs": [],
   "source": [
    "from typing import List, Dict"
   ]
  },
  {
   "cell_type": "markdown",
   "metadata": {},
   "source": [
    "# Problem Statement 1\n",
    "Given a binary tree and a number ‘S’, find all paths from root-to-leaf such that the sum of all the node values of each path equals ‘S’."
   ]
  },
  {
   "cell_type": "code",
   "execution_count": 7,
   "metadata": {},
   "outputs": [
    {
     "name": "stdout",
     "output_type": "stream",
     "text": [
      "Tree paths with sum 23: [[12, 7, 4], [12, 1, 10]]\n"
     ]
    }
   ],
   "source": [
    "class TreeNode:\n",
    "    def __init__(self, val:int, left=None, right=None):\n",
    "        self.val = val\n",
    "        self.left = left\n",
    "        self.right = right\n",
    "\n",
    "def find_paths(root, sum_val):\n",
    "    all_paths = []\n",
    "    current_path = []\n",
    "    find_paths_recursive(root, sum_val, current_path, all_paths)\n",
    "    return all_paths\n",
    "\n",
    "def find_paths_recursive(current_node:TreeNode, sum_val:int, current_path:List, all_paths:List):\n",
    "    \n",
    "    if current_node is None: return\n",
    "    \n",
    "    current_path.append(current_node.val)\n",
    "    \n",
    "    if current_node.val == sum_val and current_node.left is None and current_node.right is None:\n",
    "        all_paths.append(list(current_path))\n",
    "    else:\n",
    "        find_paths_recursive(current_node.left, sum_val - current_node.val, current_path, all_paths)\n",
    "        find_paths_recursive(current_node.right, sum_val - current_node.val, current_path, all_paths)\n",
    "    \n",
    "    \n",
    "    #backtrack\n",
    "    del current_path[-1]\n",
    "\n",
    "def main():\n",
    "    root = TreeNode(12)\n",
    "    root.left = TreeNode(7)\n",
    "    root.right = TreeNode(1)\n",
    "    root.left.left = TreeNode(4)\n",
    "    root.right.left = TreeNode(10)\n",
    "    root.right.right = TreeNode(5)\n",
    "    sum_val = 23\n",
    "    print(f\"Tree paths with sum {sum_val}: {str(find_paths(root, sum_val))}\")\n",
    "\n",
    "\n",
    "main()\n"
   ]
  },
  {
   "cell_type": "markdown",
   "metadata": {},
   "source": [
    "# Problem Statement 2\n",
    "Given a binary tree where each node can only have a digit (0-9) value, each  will represent a number. Find the total sum of all the numbers represented by all paths."
   ]
  },
  {
   "cell_type": "code",
   "execution_count": 18,
   "metadata": {},
   "outputs": [
    {
     "name": "stdout",
     "output_type": "stream",
     "text": [
      "Total Sum of Path Numbers: 332\n"
     ]
    }
   ],
   "source": [
    "def find_sum_of_path_numbers(root:TreeNode):\n",
    "    if root is None: return -1\n",
    "    \n",
    "    current_path = []\n",
    "    all_paths = []\n",
    "    find_all_paths_recursive(root, current_path, all_paths)\n",
    "    return get_sum_from_paths(all_paths)\n",
    "    \n",
    "\n",
    "\n",
    "def get_sum_from_paths(all_paths):\n",
    "    \n",
    "    tot = 0\n",
    "    for path in all_paths:\n",
    "        tot += int(\"\".join([str(i) for i in path]))\n",
    "    return tot\n",
    "        \n",
    "\n",
    "def find_all_paths_recursive(current_node:TreeNode, current_path:List, all_paths:List):\n",
    "    \n",
    "    if current_node is None: return \n",
    "    \n",
    "    current_path.append(current_node.val)\n",
    "    \n",
    "    if current_node.left is None and current_node.right is None:\n",
    "        all_paths.append(list(current_path))\n",
    "    else:\n",
    "        find_all_paths_recursive(current_node.left, current_path, all_paths)\n",
    "        find_all_paths_recursive(current_node.right, current_path, all_paths)\n",
    "        \n",
    "    \n",
    "    # backtrack\n",
    "    del current_path[-1]\n",
    "\n",
    "\n",
    "def main2():\n",
    "    root = TreeNode(1)\n",
    "    root.left = TreeNode(0)\n",
    "    root.right = TreeNode(1)\n",
    "    root.left.left = TreeNode(1)\n",
    "    root.right.left = TreeNode(6)\n",
    "    root.right.right = TreeNode(5)\n",
    "    print(f\"Total Sum of Path Numbers: {find_sum_of_path_numbers(root)}\")\n",
    "\n",
    "\n",
    "main2()"
   ]
  },
  {
   "cell_type": "code",
   "execution_count": 10,
   "metadata": {},
   "outputs": [],
   "source": [
    "dd = [[1, 0, 1], [1, 1, 6], [1, 1, 5]]\n"
   ]
  },
  {
   "cell_type": "code",
   "execution_count": 16,
   "metadata": {},
   "outputs": [
    {
     "data": {
      "text/plain": [
       "101"
      ]
     },
     "execution_count": 16,
     "metadata": {},
     "output_type": "execute_result"
    }
   ],
   "source": []
  },
  {
   "cell_type": "code",
   "execution_count": null,
   "metadata": {},
   "outputs": [],
   "source": []
  }
 ],
 "metadata": {
  "kernelspec": {
   "display_name": "Python 3",
   "language": "python",
   "name": "python3"
  },
  "language_info": {
   "codemirror_mode": {
    "name": "ipython",
    "version": 3
   },
   "file_extension": ".py",
   "mimetype": "text/x-python",
   "name": "python",
   "nbconvert_exporter": "python",
   "pygments_lexer": "ipython3",
   "version": "3.6.9"
  }
 },
 "nbformat": 4,
 "nbformat_minor": 4
}
