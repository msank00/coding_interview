{
 "cells": [
  {
   "cell_type": "markdown",
   "metadata": {},
   "source": [
    "- [top-25-interview-questions](https://www.geeksforgeeks.org/top-25-interview-questions/)\n",
    "\n",
    "#### A unsorted array of integers is given; you need to find the max product formed my multiplying three numbers. (You cannot sort the array, watch out when there are negative numbers)"
   ]
  },
  {
   "cell_type": "code",
   "execution_count": 26,
   "metadata": {},
   "outputs": [
    {
     "name": "stdout",
     "output_type": "stream",
     "text": [
      "400\n"
     ]
    }
   ],
   "source": [
    "a = [4, 3, 1, 2, -5, -20, 10, 5, 8, 4]\n",
    "\n",
    "\n",
    "def get_mult_of_max_three(a):\n",
    "    max1, max2, max3 = -9999, -9999, -9999\n",
    "    for i in a:\n",
    "        if i >= max1:\n",
    "            max3 = max2\n",
    "            max2 = max1\n",
    "            max1 = i\n",
    "\n",
    "        if i >= max2 and i < max1:\n",
    "            max3 = max2\n",
    "            max2 = i\n",
    "        if i >= max3 and i < max2:\n",
    "            max3 = i\n",
    "\n",
    "    return max1 * max2 * max3\n",
    "\n",
    "\n",
    "print(get_mult_of_max_three(a))"
   ]
  },
  {
   "cell_type": "markdown",
   "metadata": {},
   "source": [
    "- time complexity $O(n)$"
   ]
  },
  {
   "cell_type": "markdown",
   "metadata": {},
   "source": [
    "#### Find if two rectangles overlap"
   ]
  },
  {
   "cell_type": "code",
   "execution_count": 58,
   "metadata": {},
   "outputs": [],
   "source": [
    "class point:\n",
    "    def __init__(self, x, y):\n",
    "        self.x = x\n",
    "        self.y = y\n",
    "\n",
    "\n",
    "class rectangle:\n",
    "    def __init__(self, p1, p2, p3, p4):\n",
    "        self.p1 = p1\n",
    "        self.p2 = p2\n",
    "        self.p3 = p3\n",
    "        self.p4 = p4\n",
    "\n",
    "    def __repr__(self):\n",
    "        return f\"points:\\np1:({self.p1.x},{self.p1.y}), \\np2:({self.p2.x},{self.p2.y}), \\np3:({self.p3.x},{self.p3.y}), \\np4:({self.p4.x},{self.p4.y})\""
   ]
  },
  {
   "cell_type": "code",
   "execution_count": 68,
   "metadata": {},
   "outputs": [],
   "source": [
    "p1, p2, p3, p4 = point(1, 1), point(2, 1), point(2, 2), point(1, 2)\n",
    "# p5, p6, p7, p8 = point(3,1), point(4,1), point(4,2), point(3,2) #rec2\n",
    "p5, p6, p7, p8 = point(1.5, 1), point(4, 1), point(4, 2), point(1.5, 2)  # rec3\n",
    "\n",
    "rec1 = rectangle(p1, p2, p3, p4)\n",
    "rec2 = rectangle(p5, p6, p7, p8)"
   ]
  },
  {
   "cell_type": "code",
   "execution_count": 69,
   "metadata": {},
   "outputs": [
    {
     "name": "stdout",
     "output_type": "stream",
     "text": [
      "points:\n",
      "p1:(1,1), \n",
      "p2:(2,1), \n",
      "p3:(2,2), \n",
      "p4:(1,2)\n",
      "points:\n",
      "p1:(1.5,1), \n",
      "p2:(4,1), \n",
      "p3:(4,2), \n",
      "p4:(1.5,2)\n"
     ]
    },
    {
     "data": {
      "text/plain": [
       "(None, None)"
      ]
     },
     "execution_count": 69,
     "metadata": {},
     "output_type": "execute_result"
    }
   ],
   "source": [
    "print(rec1), print(rec2)"
   ]
  },
  {
   "cell_type": "code",
   "execution_count": 78,
   "metadata": {},
   "outputs": [],
   "source": [
    "def check_rectangle_overlap(rec1, rec2):\n",
    "\n",
    "    if rec2.p1.x > rec1.p2.x:\n",
    "        return False\n",
    "    elif rec2.p1.y > rec1.p3.y:\n",
    "        return False\n",
    "\n",
    "    return True"
   ]
  },
  {
   "cell_type": "code",
   "execution_count": 79,
   "metadata": {},
   "outputs": [
    {
     "data": {
      "text/plain": [
       "True"
      ]
     },
     "execution_count": 79,
     "metadata": {},
     "output_type": "execute_result"
    }
   ],
   "source": [
    "check_rectangle_overlap(rec1, rec2)"
   ]
  },
  {
   "cell_type": "markdown",
   "metadata": {},
   "source": [
    "#### Find the number which is not repeated in Array of integers, others are present for two times."
   ]
  },
  {
   "cell_type": "code",
   "execution_count": 91,
   "metadata": {},
   "outputs": [],
   "source": [
    "a = [2, 2, 3, 4, 4, 3, 5, 5, 6, 6, 7, 7, 3]"
   ]
  },
  {
   "cell_type": "code",
   "execution_count": 92,
   "metadata": {},
   "outputs": [],
   "source": [
    "res = a[0]\n",
    "for i in a[1:]:\n",
    "    res = res ^ i"
   ]
  },
  {
   "cell_type": "code",
   "execution_count": 93,
   "metadata": {},
   "outputs": [
    {
     "data": {
      "text/plain": [
       "3"
      ]
     },
     "execution_count": 93,
     "metadata": {},
     "output_type": "execute_result"
    }
   ],
   "source": [
    "res"
   ]
  },
  {
   "cell_type": "markdown",
   "metadata": {},
   "source": [
    "#### Reversing of Arrays ([solution](https://www.geeksforgeeks.org/write-a-program-to-reverse-an-array/))"
   ]
  },
  {
   "cell_type": "code",
   "execution_count": 97,
   "metadata": {},
   "outputs": [
    {
     "data": {
      "text/plain": [
       "[7, 6, 5, 4, 3, 2, 1]"
      ]
     },
     "execution_count": 97,
     "metadata": {},
     "output_type": "execute_result"
    }
   ],
   "source": [
    "a = [1, 2, 3, 4, 5, 6, 7]\n",
    "\n",
    "start = 0\n",
    "end = len(a) - 1\n",
    "\n",
    "while start < end:\n",
    "    a[start], a[end] = a[end], a[start]\n",
    "    start += 1\n",
    "    end -= 1\n",
    "\n",
    "a"
   ]
  },
  {
   "cell_type": "markdown",
   "metadata": {},
   "source": [
    "####  Print a given matrix in spiral form ([solution](https://www.geeksforgeeks.org/print-a-given-matrix-in-spiral-form/))\n",
    "\n",
    "The above problem can be solved using four for loops which prints all the elements. Every for loop defines a single direction movement along with the matrix. \n",
    "\n",
    "- The first for loop represents the movement from left to right\n",
    "- The second crawl represents the movement from top to bottom\n",
    "- The third represents the movement from the right to left\n",
    "- The fourth represents the movement from bottom to up. The four variable along with their use is given below."
   ]
  },
  {
   "cell_type": "code",
   "execution_count": 100,
   "metadata": {},
   "outputs": [
    {
     "name": "stdout",
     "output_type": "stream",
     "text": [
      "1 2 3 4 5 6 12 18 17 16 15 14 13 7 7 8 9 10 11 "
     ]
    }
   ],
   "source": [
    "def spiralPrint(R, C, a):\n",
    "    start_row = 0\n",
    "    start_col = 0\n",
    "    end_row = R\n",
    "    end_col = C\n",
    "\n",
    "    while start_row < end_row and start_col < end_col:\n",
    "\n",
    "        # printing first row\n",
    "        for i in range(start_col, end_col):\n",
    "            print(a[start_row][i], end=\" \")\n",
    "\n",
    "        start_row += 1\n",
    "\n",
    "        # printing last column:\n",
    "        for i in range(start_row, end_row):\n",
    "            print(a[i][end_col - 1], end=\" \")\n",
    "\n",
    "        end_col -= 1\n",
    "\n",
    "        # printing last row\n",
    "        if start_row < end_row:\n",
    "            for i in range(end_col - 1, start_col - 1, -1):\n",
    "                print(a[end_row - 1][i], end=\" \")\n",
    "\n",
    "            end_row -= 1\n",
    "\n",
    "        if start_col < end_col:\n",
    "            for i in range(end_row - 1, start_row - 1, -1):\n",
    "                print(a[i][start_col], end=\" \")\n",
    "\n",
    "\n",
    "# Driver Code\n",
    "a = [[1, 2, 3, 4, 5, 6], [7, 8, 9, 10, 11, 12], [13, 14, 15, 16, 17, 18]]\n",
    "\n",
    "R = 3\n",
    "C = 6\n",
    "spiralPrint(R, C, a)"
   ]
  },
  {
   "cell_type": "code",
   "execution_count": null,
   "metadata": {},
   "outputs": [],
   "source": []
  },
  {
   "cell_type": "code",
   "execution_count": null,
   "metadata": {},
   "outputs": [],
   "source": []
  }
 ],
 "metadata": {
  "hide_input": false,
  "kernelspec": {
   "display_name": "Python [conda env:py36]",
   "language": "python",
   "name": "conda-env-py36-py"
  },
  "language_info": {
   "codemirror_mode": {
    "name": "ipython",
    "version": 3
   },
   "file_extension": ".py",
   "mimetype": "text/x-python",
   "name": "python",
   "nbconvert_exporter": "python",
   "pygments_lexer": "ipython3",
   "version": "3.6.8"
  },
  "toc": {
   "base_numbering": 1,
   "nav_menu": {},
   "number_sections": true,
   "sideBar": true,
   "skip_h1_title": false,
   "title_cell": "Table of Contents",
   "title_sidebar": "Contents",
   "toc_cell": false,
   "toc_position": {},
   "toc_section_display": true,
   "toc_window_display": true
  },
  "varInspector": {
   "cols": {
    "lenName": 16,
    "lenType": 16,
    "lenVar": 40
   },
   "kernels_config": {
    "python": {
     "delete_cmd_postfix": "",
     "delete_cmd_prefix": "del ",
     "library": "var_list.py",
     "varRefreshCmd": "print(var_dic_list())"
    },
    "r": {
     "delete_cmd_postfix": ") ",
     "delete_cmd_prefix": "rm(",
     "library": "var_list.r",
     "varRefreshCmd": "cat(var_dic_list()) "
    }
   },
   "types_to_exclude": [
    "module",
    "function",
    "builtin_function_or_method",
    "instance",
    "_Feature"
   ],
   "window_display": false
  }
 },
 "nbformat": 4,
 "nbformat_minor": 2
}
