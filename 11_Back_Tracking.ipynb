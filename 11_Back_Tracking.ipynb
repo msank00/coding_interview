{
 "cells": [
  {
   "cell_type": "markdown",
   "metadata": {},
   "source": [
    "- [Back_Tracking_Explained](https://medium.com/@andreaiacono/backtracking-explained-7450d6ef9e1a)\n",
    "- [top-20-backtracking-algorithm-interview-questions](https://www.geeksforgeeks.org/top-20-backtracking-algorithm-interview-questions/)"
   ]
  },
  {
   "cell_type": "markdown",
   "metadata": {},
   "source": [
    "# General pattern in Backtracking\n",
    "\n",
    "- In back tracking you are looking for all the solution state. Now it's kind of a `n-way` tree. From each solution state you can go to some `k` child nodes. \n",
    "- That's why in backtracking we see `recursion` call inside a `for loop`. \n",
    "- And after the `for loop` there will be a backtracking step to come back to the previous node for rerouting the search direction to the `sibling` "
   ]
  },
  {
   "cell_type": "code",
   "execution_count": 30,
   "metadata": {},
   "outputs": [],
   "source": [
    "import numpy as np"
   ]
  },
  {
   "cell_type": "markdown",
   "metadata": {},
   "source": [
    "# Permutaiton of a String"
   ]
  },
  {
   "cell_type": "code",
   "execution_count": 6,
   "metadata": {},
   "outputs": [
    {
     "name": "stdout",
     "output_type": "stream",
     "text": [
      "ABC\n",
      "ACB\n",
      "BAC\n",
      "BCA\n",
      "CBA\n",
      "CAB\n"
     ]
    }
   ],
   "source": [
    "def permutation(s,start:int, end:int):\n",
    "    if start == end:\n",
    "        print(\"\".join(s))\n",
    "    for i in range(start, end):\n",
    "        s[start], s[i] = s[i], s[start]\n",
    "        permutation(s,start+1, end)\n",
    "        s[start], s[i] = s[i], s[start] # backtrack\n",
    "\n",
    "s = \"ABC\"\n",
    "s = list(s)\n",
    "n = len(s)\n",
    "permutation(s,0,n)"
   ]
  },
  {
   "cell_type": "markdown",
   "metadata": {},
   "source": [
    "# Rat Maze"
   ]
  },
  {
   "cell_type": "markdown",
   "metadata": {},
   "source": [
    "## Idea:\n",
    "\n",
    "Here we have 2 types of move (x+1, y) and (x,y+1). Now we could have done like\n",
    "\n",
    "```py\n",
    "for move in moves:\n",
    "    x, y = move.x, move.y\n",
    "    if safe(x,y):\n",
    "        sol[x][y] = 1\n",
    "        if rat_maze(moves[:]): reutn True\n",
    "        sol[x][y] = 0\n",
    "        return False\n",
    "```\n",
    "However intead of using the `for loop` we have used the 2 moves in the `if condition` inside"
   ]
  },
  {
   "cell_type": "code",
   "execution_count": 34,
   "metadata": {},
   "outputs": [],
   "source": [
    "def is_safe(x :int, y:int, maze, n):\n",
    "    \n",
    "    if x>=0 and x<n and y>=0 and y<n and maze[x][y] == 1:\n",
    "        return True\n",
    "    else:\n",
    "        return False\n",
    "\n",
    "def solve_maze_util(maze, sol, x:int, y:int, n:int):\n",
    "    \n",
    "    if x == n - 1 and y == n - 1: \n",
    "        sol[x][y] = 1\n",
    "        return True\n",
    "    \n",
    "    if is_safe(x,y,maze, n):\n",
    "        \n",
    "        sol[x][y] = 1\n",
    "        \n",
    "        if solve_maze_util(maze, sol, x+1, y, n): return True\n",
    "        if solve_maze_util(maze, sol, x, y+1, n): return True\n",
    "        \n",
    "        # back track\n",
    "        sol[x][y] = 0\n",
    "        \n",
    "    \n",
    "    return False\n",
    "\n",
    "def solve_maze(maze):\n",
    "    n = len(maze)\n",
    "    sol = [[0 for i in range(n)] for j in range(n)]\n",
    "    \n",
    "    res = solve_maze_util(maze, sol, 0 , 0, n)\n",
    "    \n",
    "    print(np.array(sol))\n",
    "    return res"
   ]
  },
  {
   "cell_type": "code",
   "execution_count": null,
   "metadata": {},
   "outputs": [],
   "source": []
  },
  {
   "cell_type": "code",
   "execution_count": 33,
   "metadata": {},
   "outputs": [
    {
     "name": "stdout",
     "output_type": "stream",
     "text": [
      "[[1 0 0 0]\n",
      " [1 1 0 0]\n",
      " [0 1 0 0]\n",
      " [0 1 1 1]]\n"
     ]
    },
    {
     "data": {
      "text/plain": [
       "True"
      ]
     },
     "execution_count": 33,
     "metadata": {},
     "output_type": "execute_result"
    }
   ],
   "source": [
    "maze = [[1, 0, 0, 0], \n",
    "        [1, 1, 0, 1], \n",
    "        [0, 1, 0, 0], \n",
    "        [1, 1, 1, 1]]\n",
    "solve_maze(maze)"
   ]
  },
  {
   "cell_type": "markdown",
   "metadata": {},
   "source": [
    "# Sudoku "
   ]
  },
  {
   "cell_type": "code",
   "execution_count": null,
   "metadata": {},
   "outputs": [],
   "source": []
  }
 ],
 "metadata": {
  "kernelspec": {
   "display_name": "Python [conda env:py36] *",
   "language": "python",
   "name": "conda-env-py36-py"
  },
  "language_info": {
   "codemirror_mode": {
    "name": "ipython",
    "version": 3
   },
   "file_extension": ".py",
   "mimetype": "text/x-python",
   "name": "python",
   "nbconvert_exporter": "python",
   "pygments_lexer": "ipython3",
   "version": "3.6.9"
  },
  "toc-autonumbering": true
 },
 "nbformat": 4,
 "nbformat_minor": 4
}
