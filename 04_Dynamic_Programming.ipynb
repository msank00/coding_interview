{
 "cells": [
  {
   "cell_type": "markdown",
   "metadata": {},
   "source": [
    "# Beginner Level\n",
    "\n",
    "**Reference**\n",
    "\n",
    "- [TopCoder](https://www.topcoder.com/community/competitive-programming/tutorials/dynamic-programming-from-novice-to-advanced/)\n",
    "\n",
    "- First define `State` that represents a `subproblem` and we need to find a solution for it"
   ]
  },
  {
   "cell_type": "code",
   "execution_count": null,
   "metadata": {},
   "outputs": [],
   "source": [
    "import numpy as np\n",
    "import pandas as pd"
   ]
  },
  {
   "cell_type": "markdown",
   "metadata": {},
   "source": [
    "## Q1\n",
    "**Given a list of N coins, their values (V1, V2, … , VN), and the total sum S. Find the minimum number of coins the sum of which is S (we can use as many coins of one type as we want), or report that it’s not possible to select coins in such a way that they sum up to S.**\n",
    "\n",
    "- S = 11\n",
    "- Vc = [1,3,5]"
   ]
  },
  {
   "cell_type": "markdown",
   "metadata": {},
   "source": [
    "### IDEA\n",
    "\n",
    "- `Bottom up` approach with `memoization`\n",
    "- Subproblem: smaller `sum_value` $\\lt S$\n",
    "\n",
    "```py\n",
    "for each subproblem \n",
    "    for each coin_value:\n",
    "        Do solve for that subproblem\n",
    "```"
   ]
  },
  {
   "cell_type": "code",
   "execution_count": null,
   "metadata": {},
   "outputs": [],
   "source": [
    "def min_coin_count(S: int, Vc: list):\n",
    "    coin_count = [np.PINF] * (S + 1)\n",
    "    assert len(coin_count) == S + 1\n",
    "\n",
    "    coin_count[0] = 0\n",
    "\n",
    "    for sum_value in range(0, S + 1):\n",
    "        for coin_value in Vc:\n",
    "            if coin_value <= sum_value and coin_count[sum_value - coin_value] + 1 < coin_count[sum_value]:\n",
    "                coin_count[sum_value] = coin_count[sum_value - coin_value] + 1\n",
    "\n",
    "    return coin_count[-1]"
   ]
  },
  {
   "cell_type": "code",
   "execution_count": null,
   "metadata": {},
   "outputs": [],
   "source": [
    "S = 30\n",
    "Vc = [5,10,25]"
   ]
  },
  {
   "cell_type": "code",
   "execution_count": null,
   "metadata": {},
   "outputs": [],
   "source": [
    "c = min_coin_count(S, Vc)\n",
    "if c == np.PINF:\n",
    "    print(\"No such combination\")\n",
    "else:\n",
    "    print(f\"Minimum coin count: {c}\")\n",
    "    "
   ]
  },
  {
   "cell_type": "markdown",
   "metadata": {},
   "source": [
    "# Entry Level\n",
    "\n",
    "## Q\n",
    "\n",
    "**Given a value N, if we want to make change for N cents, and we have `infinite supply` of each of S = { S1, S2, .. , Sm} valued coins, how many ways can we make the change? The order of coins doesn’t matter.**\n",
    "\n",
    "**For example, for N = 4 and S = {1,2,3}, there are four solutions: {1,1,1,1},{1,1,2},{2,2},{1,3}. So output should be 4. For N = 10 and S = {2, 5, 3, 6}, there are five solutions: {2,2,2,2,2}, {2,2,3,3}, {2,2,6}, {2,3,5} and {5,5}. So the output should be 5**\n",
    "\n",
    "- Like the old problem, here is a slight catch, i.e the `infinite suppy` of the coin for each value. This makes it little different than if there is no infinite supply. \n",
    "- Also this problem is close to another beginner problem where someone can walk a stairs in 1, 2 and 3 steps. Now in how many ways he can cover stairs with n steps. like for n=4 (1,1,1,1), (1,2,1), (1,1,2) ,(2,1,1), (2,2), (1,3), (3,1). Here (1,1,2) and (2,1,1) are 2 different solution i.e their order is different. But in this problelm the order is not differentiable. so both (1,1,2) and (2,1,1) will be same solution.\n",
    "\n",
    "So keeping these subtle changes in mind. \n",
    "\n",
    "How the 2 problems (stair problem and coin change with infinite suppy) are same?\n",
    "\n",
    "Both have a common theme to solve, i.e, \n",
    "- For _stair problem_ you think like, the last step you may take by 1 step or 2 step or 3 step and remaining subproblem size becomes (n-1), (n-2) and (n-3) respectively and then solve them using bottom up manner after filling the base solution.\n",
    "- For _coin change with infinite suppy_ , you can think like you can either use the $i^{th}$"
   ]
  },
  {
   "cell_type": "code",
   "execution_count": null,
   "metadata": {},
   "outputs": [],
   "source": [
    "## Solution without DP: Simple Recursion"
   ]
  },
  {
   "cell_type": "markdown",
   "metadata": {},
   "source": [
    "## Q\n",
    "\n",
    "**Given a sequence of N numbers – A[0] , A[1] , …, A[N-1] . Find the length of the `longest non-decreasing sequence (LNDS)`**\n",
    "\n",
    "- **Define State**: Let’s define a state `i` as being the `len(LNDS)` which has its last number `A[i]`. This state carries only data about the length of this sequence. Remember the starting index of NDLS may be anywhere indexed beteween `0 to i` \n",
    "\n",
    "Let's say we have below numbers\n",
    "\n",
    "```py\n",
    "A = [5, 3, 4, 8, 6, 7]\n",
    "```\n",
    "\n",
    "then for \n",
    "- `i = 1`,  `state[i]=1` denotes the LNDS which has it's last number `A[i]==3` \n",
    "- `i = 2`,  `state[i]=2` denotes the LNDS which has it's last number `A[i]==4` \n",
    "- `i = 3`,  `state[i]=3` denotes the LNDS which has it's last number `A[i]==8` \n",
    "\n",
    "we need to find `state[5]` where last number is `A[5]=7`\n",
    "\n",
    "Also note that the for `state[i]`, the last element of the LNDS is `A[i]`, but the actual Non Decreasing Sequence may contain $\\gt 1$ elements."
   ]
  },
  {
   "cell_type": "code",
   "execution_count": null,
   "metadata": {},
   "outputs": [],
   "source": [
    "A = [5,3,4,8,6,7]"
   ]
  },
  {
   "cell_type": "markdown",
   "metadata": {},
   "source": [
    "**Base Solutionn**\n",
    "- Each element is a single element LNDS. We initialize it with a solution of 1, which consists only of the i-th number itself."
   ]
  },
  {
   "cell_type": "code",
   "execution_count": null,
   "metadata": {},
   "outputs": [],
   "source": [
    "state = [1]*len(A)"
   ]
  },
  {
   "cell_type": "code",
   "execution_count": null,
   "metadata": {},
   "outputs": [],
   "source": [
    "for i in range(len(A)):\n",
    "    for j in range(i+1):\n",
    "        if A[i] > A[j] and state[j]+1>state[i]:\n",
    "            state[i] = state[j]+1"
   ]
  },
  {
   "cell_type": "code",
   "execution_count": null,
   "metadata": {},
   "outputs": [],
   "source": [
    "state"
   ]
  },
  {
   "cell_type": "markdown",
   "metadata": {},
   "source": [
    "# Intermediate\n",
    "\n",
    "## Q\n",
    "**A table composed of N x M cells, each having a certain quantity of apples, is given. You start from the upper-left corner. At each step you can go down or right one cell. Find the maximum number of apples you can collect.**"
   ]
  },
  {
   "cell_type": "code",
   "execution_count": null,
   "metadata": {},
   "outputs": [],
   "source": [
    "def get_max_apple(A:list):\n",
    "    state = np.zeros(shape=np.array(A).shape)\n",
    "    state = state.tolist()\n",
    "    \n",
    "    nrow = np.array(A).shape[0]\n",
    "    ncol = np.array(A).shape[1]\n",
    "    \n",
    "    # solving the base state\n",
    "    tot = 0\n",
    "    for i in range(nrow):\n",
    "        tot += A[i][0]\n",
    "        state[i][0] = tot\n",
    "\n",
    "    # solving the base state\n",
    "    tot = 0\n",
    "    for j in range(ncol):\n",
    "        tot += A[0][j]\n",
    "        state[0][j] = tot\n",
    "\n",
    "\n",
    "    for i in range(1,nrow):\n",
    "        for j in range(1,ncol):\n",
    "            state[i][j] = A[i][j] + max(state[i][j-1], state[i-1][j])\n",
    "\n",
    "    return state[-1][-1]"
   ]
  },
  {
   "cell_type": "code",
   "execution_count": null,
   "metadata": {},
   "outputs": [],
   "source": [
    "A = [[1,2,3, 4],[5,6, 7,8],[9,10,11,12],[13,14,15,16]]\n",
    "res = get_max_apple(A)\n",
    "res"
   ]
  },
  {
   "cell_type": "markdown",
   "metadata": {},
   "source": [
    "# Upper-Intermediate\n",
    "\n",
    "- dealing DP problems which have an additional condition besides the values that must be calculated\n",
    "\n",
    "**Karel is a frustrated painter who works by day in an electrical repair shop. Inspired by the color-coded bands on resistors, he is painting a series of long, narrow canvases with bold colored stripes. However, Karel is lazy and wants to minimize the number of brush strokes it takes to paint each canvas.\n",
    "Abbreviating each color to a single uppercase letter, Karel would write the stripe pattern red-green-blue-green-red as \"RGBGR\" (quotes added for clarity). It would take him three brush strokes to paint this pattern. The first stroke would cover the entire canvas in red (RRRRR). The second stroke would leave a band of red on either side and fill in the rest with green (RGGGR). The final brush stroke would fill in the blue stripe in the center (RGBGR).\n",
    "Given a stripe pattern stripes as a String, calculate the minimum number of brush strokes required to paint that pattern.**"
   ]
  },
  {
   "cell_type": "markdown",
   "metadata": {},
   "source": [
    "## Why failing?\n",
    "\n",
    "- linear thinking... only a single pass \n",
    "\n",
    "## Solution:\n",
    "\n",
    "- focus on start and end position of the stripe\n",
    "- the color\n",
    "----\n",
    "- Since we  will deduce the colors from the input, a state can rely on just the starting and ending positions only. \n",
    "\n",
    "- The key to this questions is the fact that two adjacent chars who share the same color can be painted in one stroke. \n",
    "\n",
    "**State Transition Formula** is : Let `f(i,j)` be the `minimum number of strokes` to paint `S[i..j]`, then we have. \n",
    "\n",
    "- `f(i,i)`: obviously it requires one 1 stroke ; // a single character \n",
    "- `f(i,j)`: we will break the input into two parts, and compute their costs `f(i,k)` and `f(k+1,j)` for `i<=k<j`.  When combining the two costs, we need to consider the following cases: \n",
    "  - if `S[i] == S[j]` then we can save 1 stroke ==> `f(i,j) = f(i,k) + f(k+1, j) -1`\n",
    "  - if `S[k] == S[k+1]` then we can also save 1 stroke ==> `f(i,j) = f(i,k) + f(k+1,j) -1`\n",
    "  - we compare these two cases because they are same-color cases on the boudaries of two subproblems. \n",
    "  \n",
    "Now the difficulty is in the programming: when calculating f(i,j), we need to make sure `f(i+1,j)` and `f(i, j-1)` are available. From a visual perspective, we are computing a upper triangluar matrix based on the input string. Initially the diagonal can be easily filled with values of `1`. \n",
    "\n",
    "\n",
    "- [Solution](https://massivealgorithms.blogspot.com/2018/12/topcoder-stripepainter-srm-150-div-1.html)"
   ]
  },
  {
   "cell_type": "code",
   "execution_count": 104,
   "metadata": {},
   "outputs": [],
   "source": [
    "def get_state(A):\n",
    "    n = len(A) \n",
    "    return n, np.zeros((n,n))    "
   ]
  },
  {
   "cell_type": "code",
   "execution_count": 4,
   "metadata": {},
   "outputs": [],
   "source": [
    "def init_base_solution(state, n):\n",
    "    for start in range(n):\n",
    "        state[start][start] = 1\n",
    "\n",
    "    return state"
   ]
  },
  {
   "cell_type": "markdown",
   "metadata": {},
   "source": [
    "## still failing. Why ?\n",
    "\n",
    "The if else condition is wrong. Because now for each subproblem `state[start][k]` and `state[k+1][end]` we need to check the both end of the stripes, whether they are equal are not. So check:\n",
    "\n",
    "- if `A[start] == A[k]` and `A[start] == A[end]`\n",
    "- if `A[k] == A[k+1]` and `A[k+1] == A[end]`"
   ]
  },
  {
   "cell_type": "code",
   "execution_count": 105,
   "metadata": {},
   "outputs": [],
   "source": [
    "# A = \"A A B B C C D D C C B B A A\".split(\" \")\n",
    "# A = \"A B A C A D A\".split(\" \")\n",
    "# A = \"B E C B B D D E E B A B D C A D E A A E A B C A C B D B E E C D E D E A C A C C B E D A B E D A D D\".split(\" \")"
   ]
  },
  {
   "cell_type": "code",
   "execution_count": 85,
   "metadata": {},
   "outputs": [],
   "source": [
    "import math\n",
    "import sys"
   ]
  },
  {
   "cell_type": "code",
   "execution_count": 101,
   "metadata": {},
   "outputs": [],
   "source": [
    "def min_paint(sol, n):\n",
    "    for size in range(1,n):\n",
    "        for start in range(n):\n",
    "\n",
    "            end = start+size\n",
    "\n",
    "            if end >= n: \n",
    "                continue\n",
    "\n",
    "            min_val = sys.maxsize\n",
    "\n",
    "            for k in range(start, end):\n",
    "                min_val = min(min_val, sol[start][k]+sol[k+1][end])\n",
    "                \n",
    "                # NOTE: now we have to subproblems S[from..x] and S[x+1..to]  \n",
    "                # We need to consider the equlity cases for both ends of subproblems:\n",
    "                # i.e. S[from]==S[x], S[from]==[to], S[x] == S[x+1] and S[x+1] == S[to] \n",
    "                \n",
    "                # The following statements only considers the equality case between the two subproblems\n",
    "                # i.e., (1) stripe[from] = stripe[x+1], (2) stripe[x] and stripes[x+1] \n",
    "                \n",
    "                # It is unnecessary to compare the equality cases inside the two subproblems:\n",
    "                # i.e., (2) stripe[from] == stripe[x]  and (2) stripe[x+1] and stripe[to] \n",
    "                # as these cases will be considered when dealing with those subproblems. \n",
    "\n",
    "\n",
    "                if A[k] == A[k+1]:\n",
    "                    min_val = min(min_val, sol[start][k]+sol[k+1][end]-1)\n",
    "                if A[start] == A[end]:\n",
    "                    min_val = min(min_val, sol[start][k]+sol[k+1][end]-1)\n",
    "\n",
    "\n",
    "            sol[start][end]=min_val;        \n",
    "\n",
    "    return sol"
   ]
  },
  {
   "cell_type": "code",
   "execution_count": 102,
   "metadata": {},
   "outputs": [],
   "source": [
    "A = \"A B A C A D A\".split(\" \")\n",
    "n, empty_sol = get_state(A)\n",
    "init_sol = init_base_solution(empty_sol, n)\n",
    "sol = min_paint(init_sol, n)"
   ]
  },
  {
   "cell_type": "code",
   "execution_count": 103,
   "metadata": {},
   "outputs": [
    {
     "data": {
      "text/plain": [
       "array([[1., 2., 2., 3., 3., 4., 4.],\n",
       "       [0., 1., 2., 3., 3., 4., 4.],\n",
       "       [0., 0., 1., 2., 2., 3., 3.],\n",
       "       [0., 0., 0., 1., 2., 3., 3.],\n",
       "       [0., 0., 0., 0., 1., 2., 2.],\n",
       "       [0., 0., 0., 0., 0., 1., 2.],\n",
       "       [0., 0., 0., 0., 0., 0., 1.]])"
      ]
     },
     "execution_count": 103,
     "metadata": {},
     "output_type": "execute_result"
    }
   ],
   "source": [
    "sol"
   ]
  },
  {
   "cell_type": "code",
   "execution_count": null,
   "metadata": {},
   "outputs": [],
   "source": []
  }
 ],
 "metadata": {
  "hide_input": false,
  "kernelspec": {
   "display_name": "Python [conda env:py36]",
   "language": "python",
   "name": "conda-env-py36-py"
  },
  "language_info": {
   "codemirror_mode": {
    "name": "ipython",
    "version": 3
   },
   "file_extension": ".py",
   "mimetype": "text/x-python",
   "name": "python",
   "nbconvert_exporter": "python",
   "pygments_lexer": "ipython3",
   "version": "3.6.8"
  },
  "toc": {
   "base_numbering": 1,
   "nav_menu": {},
   "number_sections": true,
   "sideBar": true,
   "skip_h1_title": false,
   "title_cell": "Table of Contents",
   "title_sidebar": "Contents",
   "toc_cell": false,
   "toc_position": {
    "height": "calc(100% - 180px)",
    "left": "10px",
    "top": "150px",
    "width": "194.2px"
   },
   "toc_section_display": true,
   "toc_window_display": true
  },
  "varInspector": {
   "cols": {
    "lenName": 16,
    "lenType": 16,
    "lenVar": 40
   },
   "kernels_config": {
    "python": {
     "delete_cmd_postfix": "",
     "delete_cmd_prefix": "del ",
     "library": "var_list.py",
     "varRefreshCmd": "print(var_dic_list())"
    },
    "r": {
     "delete_cmd_postfix": ") ",
     "delete_cmd_prefix": "rm(",
     "library": "var_list.r",
     "varRefreshCmd": "cat(var_dic_list()) "
    }
   },
   "types_to_exclude": [
    "module",
    "function",
    "builtin_function_or_method",
    "instance",
    "_Feature"
   ],
   "window_display": false
  }
 },
 "nbformat": 4,
 "nbformat_minor": 2
}
