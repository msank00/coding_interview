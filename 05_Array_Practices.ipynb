{
 "cells": [
  {
   "cell_type": "markdown",
   "metadata": {},
   "source": [
    "# Longest Substring with no repeatition \n",
    "\n",
    "Given a string, find the length of the longest substring which has no repeating characters.\n",
    "\n",
    "**Solution:**\n",
    "\n",
    "We can use a HashMap to remember the last index of each character we have processed. Whenever we get a repeating character we will shrink our sliding window to ensure that we always have distinct characters in the sliding window."
   ]
  },
  {
   "cell_type": "code",
   "execution_count": 11,
   "metadata": {},
   "outputs": [],
   "source": [
    "def lengthOfLongestSubstring(s: str) -> int:\n",
    "    start = 0\n",
    "    char_index_map = {}\n",
    "    max_length = 0\n",
    "\n",
    "    for end in range(len(s)):\n",
    "\n",
    "        end_char = s[end]\n",
    "        \n",
    "        print(f\"end_idx: {end}, char: {end_char}\")\n",
    "\n",
    "        if end_char in char_index_map:\n",
    "            print(\">\\t end char in char_index_map\")\n",
    "            print(f\">\\t start:{start}, end_char:{end_char}, char_index_map[end_char]: {char_index_map[end_char]}\")\n",
    "            print(char_index_map)\n",
    "            start = max(start, char_index_map[end_char] + 1)\n",
    "            print(f\">\\t new start: {start}\")\n",
    "\n",
    "        # insert the index of the end_char in the map\n",
    "        char_index_map[end_char] = end\n",
    "        max_length = max(max_length, end - start + 1)\n",
    "        print(f\"max length so far: {max_length}, substring: {s[start:end+1]}\")\n",
    "        \n",
    "        print(\"=\"*10)\n",
    "\n",
    "    return max_length"
   ]
  },
  {
   "cell_type": "code",
   "execution_count": 14,
   "metadata": {},
   "outputs": [
    {
     "name": "stdout",
     "output_type": "stream",
     "text": [
      "end_idx: 0, char: a\n",
      "max length so far: 1, substring: a\n",
      "==========\n",
      "end_idx: 1, char: b\n",
      "max length so far: 2, substring: ab\n",
      "==========\n",
      "end_idx: 2, char: c\n",
      "max length so far: 3, substring: abc\n",
      "==========\n",
      "end_idx: 3, char: a\n",
      ">\t end char in char_index_map\n",
      ">\t start:0, end_char:a, char_index_map[end_char]: 0\n",
      "{'a': 0, 'b': 1, 'c': 2}\n",
      ">\t new start: 1\n",
      "max length so far: 3, substring: bca\n",
      "==========\n",
      "end_idx: 4, char: b\n",
      ">\t end char in char_index_map\n",
      ">\t start:1, end_char:b, char_index_map[end_char]: 1\n",
      "{'a': 3, 'b': 1, 'c': 2}\n",
      ">\t new start: 2\n",
      "max length so far: 3, substring: cab\n",
      "==========\n",
      "end_idx: 5, char: c\n",
      ">\t end char in char_index_map\n",
      ">\t start:2, end_char:c, char_index_map[end_char]: 2\n",
      "{'a': 3, 'b': 4, 'c': 2}\n",
      ">\t new start: 3\n",
      "max length so far: 3, substring: abc\n",
      "==========\n",
      "end_idx: 6, char: b\n",
      ">\t end char in char_index_map\n",
      ">\t start:3, end_char:b, char_index_map[end_char]: 4\n",
      "{'a': 3, 'b': 4, 'c': 5}\n",
      ">\t new start: 5\n",
      "max length so far: 3, substring: cb\n",
      "==========\n",
      "end_idx: 7, char: b\n",
      ">\t end char in char_index_map\n",
      ">\t start:5, end_char:b, char_index_map[end_char]: 6\n",
      "{'a': 3, 'b': 6, 'c': 5}\n",
      ">\t new start: 7\n",
      "max length so far: 3, substring: b\n",
      "==========\n"
     ]
    },
    {
     "data": {
      "text/plain": [
       "3"
      ]
     },
     "execution_count": 14,
     "metadata": {},
     "output_type": "execute_result"
    }
   ],
   "source": [
    "lengthOfLongestSubstring(\"abcabcbb\")"
   ]
  },
  {
   "cell_type": "code",
   "execution_count": null,
   "metadata": {},
   "outputs": [],
   "source": []
  }
 ],
 "metadata": {
  "kernelspec": {
   "display_name": "Python 3",
   "language": "python",
   "name": "python3"
  },
  "language_info": {
   "codemirror_mode": {
    "name": "ipython",
    "version": 3
   },
   "file_extension": ".py",
   "mimetype": "text/x-python",
   "name": "python",
   "nbconvert_exporter": "python",
   "pygments_lexer": "ipython3",
   "version": "3.6.9"
  },
  "toc": {
   "base_numbering": 1,
   "nav_menu": {},
   "number_sections": true,
   "sideBar": true,
   "skip_h1_title": false,
   "title_cell": "Table of Contents",
   "title_sidebar": "Contents",
   "toc_cell": false,
   "toc_position": {},
   "toc_section_display": true,
   "toc_window_display": false
  }
 },
 "nbformat": 4,
 "nbformat_minor": 2
}
