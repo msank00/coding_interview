{
 "cells": [
  {
   "cell_type": "markdown",
   "metadata": {},
   "source": [
    "\n",
    "[![Binder](https://mybinder.org/badge_logo.svg)](https://mybinder.org/v2/gh/msank00/coding_interview/master)\n",
    "\n",
    "### Lowest Common Ancester\n",
    "\n",
    "- [iDeserve](https://www.youtube.com/watch?v=NBcqBddFbZw&list=PLamzFoFxwoNjPfxzaWqs7cZGsPYy0x_gI)\n",
    "- [G4G](https://www.geeksforgeeks.org/lowest-common-ancestor-binary-tree-set-1/)"
   ]
  },
  {
   "cell_type": "code",
   "execution_count": 2,
   "metadata": {},
   "outputs": [],
   "source": [
    "class node:\n",
    "    def __init__(self, key):\n",
    "        self.key = key\n",
    "        self.left = None\n",
    "        self.right = None\n",
    "\n",
    "def find_lowest_common_ancestor(root, A, B):\n",
    "    if root is None: return None\n",
    "    \n",
    "    if root.key == A or root.key == B:\n",
    "        return root\n",
    "    \n",
    "    left_lca = find_lowest_common_ancestor(root.left, A, B)\n",
    "    right_lca = find_lowest_common_ancestor(root.right, A, B)\n",
    "    \n",
    "    if left_lca and right_lca:\n",
    "        return root\n",
    "    \n",
    "    if left_lca is None:\n",
    "        return right_lca\n",
    "    else:\n",
    "        return left_lca"
   ]
  },
  {
   "cell_type": "code",
   "execution_count": 3,
   "metadata": {},
   "outputs": [],
   "source": [
    "def get_tree():\n",
    "    root = node(1)\n",
    "    root.left = node(2)\n",
    "    root.right = node(3)\n",
    "    root.left.left = node(4)\n",
    "    root.left.right = node(5)\n",
    "    root.left.right.left = node(7)\n",
    "    root.left.right.right = node(8)\n",
    "    return root"
   ]
  },
  {
   "cell_type": "code",
   "execution_count": 4,
   "metadata": {},
   "outputs": [
    {
     "data": {
      "text/plain": [
       "2"
      ]
     },
     "execution_count": 4,
     "metadata": {},
     "output_type": "execute_result"
    }
   ],
   "source": [
    "root = get_tree()\n",
    "find_lowest_common_ancestor(root, 4, 8).key"
   ]
  },
  {
   "cell_type": "markdown",
   "metadata": {},
   "source": [
    "### Tree Traversal"
   ]
  },
  {
   "cell_type": "code",
   "execution_count": 5,
   "metadata": {},
   "outputs": [],
   "source": [
    "class node:\n",
    "    def __init__(self, key):\n",
    "        self.key = key\n",
    "        self.left = None\n",
    "        self.right = None\n",
    "        \n",
    "root = get_tree()"
   ]
  },
  {
   "cell_type": "code",
   "execution_count": 6,
   "metadata": {},
   "outputs": [],
   "source": [
    "def inorder_traversal(root):\n",
    "    if root:\n",
    "        inorder_traversal(root.left)\n",
    "        print(root.key, end=\" \")\n",
    "        inorder_traversal(root.right)\n",
    "    \n",
    "def preorder_traversal(root):\n",
    "    if root:\n",
    "        print(root.key, end=\" \")\n",
    "        preorder_traversal(root.left)\n",
    "        preorder_traversal(root.right)\n",
    "    \n",
    "        \n",
    "def postorder_traversal(root):\n",
    "    if root:\n",
    "        postorder_traversal(root.left)\n",
    "        postorder_traversal(root.right)\n",
    "        print(root.key, end=\" \")"
   ]
  },
  {
   "cell_type": "markdown",
   "metadata": {},
   "source": [
    "#### Level Order Traversal\n",
    "\n",
    "```py\n",
    "Create an empty queue for level order traversal\n",
    "Enque the root\n",
    "While\n",
    "    Print from the queue\n",
    "    node = pop the first element\n",
    "    Enqueue node.left\n",
    "    Enqueue node.right\n",
    "```\n",
    "\n",
    "**Q:** What will happen if we enqueue `node.right` before `node.left`"
   ]
  },
  {
   "cell_type": "code",
   "execution_count": 7,
   "metadata": {},
   "outputs": [],
   "source": [
    "def level_order_traversal(root):\n",
    "    \n",
    "    if root is None: return root\n",
    "\n",
    "    q = []\n",
    "    q.append(root)\n",
    "    \n",
    "    while (len(q)>0):\n",
    "        print(q[0].key, end=\" \")\n",
    "        node = q.pop(0)\n",
    "        if node.left: q.append(node.left)\n",
    "        if node.right: q.append(node.right)"
   ]
  },
  {
   "cell_type": "code",
   "execution_count": 8,
   "metadata": {},
   "outputs": [
    {
     "name": "stdout",
     "output_type": "stream",
     "text": [
      "1 2 3 4 5 7 8 "
     ]
    }
   ],
   "source": [
    "root = get_tree()\n",
    "level_order_traversal(root)"
   ]
  },
  {
   "cell_type": "markdown",
   "metadata": {},
   "source": [
    "#### Get the height of a binary tree"
   ]
  },
  {
   "cell_type": "code",
   "execution_count": 9,
   "metadata": {},
   "outputs": [],
   "source": [
    "def get_height(root):\n",
    "    if root is None: return 0\n",
    "    return max(get_height(root.left), get_height(root.right)) + 1"
   ]
  },
  {
   "cell_type": "code",
   "execution_count": 10,
   "metadata": {},
   "outputs": [
    {
     "data": {
      "text/plain": [
       "4"
      ]
     },
     "execution_count": 10,
     "metadata": {},
     "output_type": "execute_result"
    }
   ],
   "source": [
    "root = get_tree()\n",
    "get_height(root)"
   ]
  },
  {
   "cell_type": "markdown",
   "metadata": {},
   "source": [
    "#### Level Order Traversal (method 2)"
   ]
  },
  {
   "cell_type": "code",
   "execution_count": 19,
   "metadata": {},
   "outputs": [],
   "source": [
    "def level_order_traversal_2(root:node, height:int):\n",
    "    for i in range(height):\n",
    "        print_given_level(root, i)\n",
    "        \n",
    "def print_given_level(root, height):\n",
    "    if root is None: return \n",
    "    if (height==0): print(root.key, end=\" \")\n",
    "        \n",
    "    print_given_level(root.left, height-1)\n",
    "    print_given_level(root.right, height-1)\n"
   ]
  },
  {
   "cell_type": "code",
   "execution_count": 20,
   "metadata": {},
   "outputs": [
    {
     "name": "stdout",
     "output_type": "stream",
     "text": [
      "1 2 3 4 5 7 8 "
     ]
    }
   ],
   "source": [
    "root = get_tree()\n",
    "height = get_height(root)\n",
    "level_order_traversal_2(root, height)"
   ]
  },
  {
   "cell_type": "markdown",
   "metadata": {},
   "source": [
    "###"
   ]
  },
  {
   "cell_type": "code",
   "execution_count": null,
   "metadata": {},
   "outputs": [],
   "source": []
  }
 ],
 "metadata": {
  "hide_input": false,
  "kernelspec": {
   "display_name": "Python 3",
   "language": "python",
   "name": "python3"
  },
  "language_info": {
   "codemirror_mode": {
    "name": "ipython",
    "version": 3
   },
   "file_extension": ".py",
   "mimetype": "text/x-python",
   "name": "python",
   "nbconvert_exporter": "python",
   "pygments_lexer": "ipython3",
   "version": "3.6.8"
  },
  "toc": {
   "base_numbering": 1,
   "nav_menu": {},
   "number_sections": true,
   "sideBar": true,
   "skip_h1_title": false,
   "title_cell": "Table of Contents",
   "title_sidebar": "Contents",
   "toc_cell": false,
   "toc_position": {},
   "toc_section_display": true,
   "toc_window_display": true
  },
  "varInspector": {
   "cols": {
    "lenName": 16,
    "lenType": 16,
    "lenVar": 40
   },
   "kernels_config": {
    "python": {
     "delete_cmd_postfix": "",
     "delete_cmd_prefix": "del ",
     "library": "var_list.py",
     "varRefreshCmd": "print(var_dic_list())"
    },
    "r": {
     "delete_cmd_postfix": ") ",
     "delete_cmd_prefix": "rm(",
     "library": "var_list.r",
     "varRefreshCmd": "cat(var_dic_list()) "
    }
   },
   "types_to_exclude": [
    "module",
    "function",
    "builtin_function_or_method",
    "instance",
    "_Feature"
   ],
   "window_display": false
  }
 },
 "nbformat": 4,
 "nbformat_minor": 2
}
