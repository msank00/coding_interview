{
 "cells": [
  {
   "cell_type": "markdown",
   "metadata": {},
   "source": [
    "\n",
    "[![Binder](https://mybinder.org/badge_logo.svg)](https://mybinder.org/v2/gh/msank00/coding_interview/master)\n",
    "\n",
    "### Lowest Common Ancester\n",
    "\n",
    "\n",
    "#### Greedy Approach\n",
    "\n",
    "- Method 1 (By Storing root to n1 and root to n2 paths):\n",
    "- Following is simple O(n) algorithm to find LCA of n1 and n2.\n",
    "\n",
    "\n",
    "1. Find path from root to n1 and store it in a vector or array.\n",
    "2. Find path from root to n2 and store it in another vector or array.\n",
    "3. Traverse both paths till the values in arrays are same. Return the common element just before the mismatch. \n",
    "\n",
    "\n",
    "**Resource:**\n",
    "- [iDeserve](https://www.youtube.com/watch?v=NBcqBddFbZw&list=PLamzFoFxwoNjPfxzaWqs7cZGsPYy0x_gI)\n",
    "- [G4G](https://www.geeksforgeeks.org/lowest-common-ancestor-binary-tree-set-1/)"
   ]
  },
  {
   "cell_type": "code",
   "execution_count": 1,
   "metadata": {},
   "outputs": [],
   "source": [
    "class node:\n",
    "    def __init__(self, key):\n",
    "        self.key = key\n",
    "        self.left = None\n",
    "        self.right = None\n",
    "\n",
    "def find_lowest_common_ancestor(root, A, B):\n",
    "    if root is None: return None\n",
    "    \n",
    "    if root.key == A or root.key == B:\n",
    "        return root\n",
    "    \n",
    "    left_lca = find_lowest_common_ancestor(root.left, A, B)\n",
    "    right_lca = find_lowest_common_ancestor(root.right, A, B)\n",
    "    \n",
    "    if left_lca and right_lca:\n",
    "        return root\n",
    "    \n",
    "    if left_lca is None:\n",
    "        return right_lca\n",
    "    else:\n",
    "        return left_lca"
   ]
  },
  {
   "cell_type": "code",
   "execution_count": 2,
   "metadata": {},
   "outputs": [],
   "source": [
    "def get_tree():\n",
    "    root = node(1)\n",
    "    root.left = node(2)\n",
    "    root.right = node(3)\n",
    "    root.left.left = node(4)\n",
    "    root.left.right = node(5)\n",
    "    root.left.right.left = node(7)\n",
    "    root.left.right.right = node(8)\n",
    "    return root\n",
    "\n"
   ]
  },
  {
   "cell_type": "code",
   "execution_count": 3,
   "metadata": {},
   "outputs": [
    {
     "data": {
      "text/plain": [
       "2"
      ]
     },
     "execution_count": 3,
     "metadata": {},
     "output_type": "execute_result"
    }
   ],
   "source": [
    "root = get_tree()\n",
    "find_lowest_common_ancestor(root, 4, 8).key"
   ]
  },
  {
   "cell_type": "markdown",
   "metadata": {},
   "source": [
    "### Tree Traversal"
   ]
  },
  {
   "cell_type": "code",
   "execution_count": 4,
   "metadata": {},
   "outputs": [],
   "source": [
    "class node:\n",
    "    def __init__(self, key):\n",
    "        self.key = key\n",
    "        self.left = None\n",
    "        self.right = None\n",
    "        \n",
    "root = get_tree()"
   ]
  },
  {
   "cell_type": "code",
   "execution_count": 5,
   "metadata": {},
   "outputs": [],
   "source": [
    "def inorder_traversal(root):\n",
    "    if root:\n",
    "        inorder_traversal(root.left)\n",
    "        print(root.key, end=\" \")\n",
    "        inorder_traversal(root.right)\n",
    "    \n",
    "def preorder_traversal(root):\n",
    "    if root:\n",
    "        print(root.key, end=\" \")\n",
    "        preorder_traversal(root.left)\n",
    "        preorder_traversal(root.right)\n",
    "    \n",
    "        \n",
    "def postorder_traversal(root):\n",
    "    if root:\n",
    "        postorder_traversal(root.left)\n",
    "        postorder_traversal(root.right)\n",
    "        print(root.key, end=\" \")"
   ]
  },
  {
   "cell_type": "markdown",
   "metadata": {},
   "source": [
    "#### Level Order Traversal\n",
    "\n",
    "```py\n",
    "Create an empty queue for level order traversal\n",
    "Enque the root\n",
    "While\n",
    "    Print from the queue\n",
    "    node = pop the first element\n",
    "    Enqueue node.left\n",
    "    Enqueue node.right\n",
    "```\n",
    "\n",
    "**Q:** What will happen if we enqueue `node.right` before `node.left`"
   ]
  },
  {
   "cell_type": "code",
   "execution_count": 6,
   "metadata": {},
   "outputs": [],
   "source": [
    "def level_order_traversal(root):\n",
    "    \n",
    "    if root is None: return root\n",
    "\n",
    "    q = []\n",
    "    q.append(root)\n",
    "    \n",
    "    while (len(q)>0):\n",
    "        print(q[0].key, end=\" \")\n",
    "        node = q.pop(0)\n",
    "        if node.left: q.append(node.left)\n",
    "        if node.right: q.append(node.right)"
   ]
  },
  {
   "cell_type": "code",
   "execution_count": 7,
   "metadata": {},
   "outputs": [
    {
     "name": "stdout",
     "output_type": "stream",
     "text": [
      "1 2 3 4 5 7 8 "
     ]
    }
   ],
   "source": [
    "root = get_tree()\n",
    "level_order_traversal(root)"
   ]
  },
  {
   "cell_type": "markdown",
   "metadata": {},
   "source": [
    "#### Get the height of a binary tree"
   ]
  },
  {
   "cell_type": "code",
   "execution_count": 8,
   "metadata": {},
   "outputs": [],
   "source": [
    "def get_height(root):\n",
    "    if root is None: return 0\n",
    "    return max(get_height(root.left), get_height(root.right)) + 1"
   ]
  },
  {
   "cell_type": "code",
   "execution_count": 9,
   "metadata": {},
   "outputs": [
    {
     "data": {
      "text/plain": [
       "4"
      ]
     },
     "execution_count": 9,
     "metadata": {},
     "output_type": "execute_result"
    }
   ],
   "source": [
    "root = get_tree()\n",
    "get_height(root)"
   ]
  },
  {
   "cell_type": "markdown",
   "metadata": {},
   "source": [
    "#### Level Order Traversal (method 2)"
   ]
  },
  {
   "cell_type": "code",
   "execution_count": 10,
   "metadata": {},
   "outputs": [],
   "source": [
    "def level_order_traversal_2(root:node, height:int):\n",
    "    for i in range(height):\n",
    "        print_given_level(root, i)\n",
    "        \n",
    "def print_given_level(root, height):\n",
    "    if root is None: return \n",
    "    if (height==0): print(root.key, end=\" \")\n",
    "        \n",
    "    print_given_level(root.left, height-1)\n",
    "    print_given_level(root.right, height-1)\n"
   ]
  },
  {
   "cell_type": "code",
   "execution_count": 11,
   "metadata": {},
   "outputs": [
    {
     "name": "stdout",
     "output_type": "stream",
     "text": [
      "1 2 3 4 5 7 8 "
     ]
    }
   ],
   "source": [
    "root = get_tree()\n",
    "height = get_height(root)\n",
    "level_order_traversal_2(root, height)"
   ]
  },
  {
   "cell_type": "markdown",
   "metadata": {},
   "source": [
    "#### Left View of Binary Tree"
   ]
  },
  {
   "cell_type": "markdown",
   "metadata": {},
   "source": [
    "### Check if one Tree is subset of another tree\n",
    "\n",
    "Say we have a big tree `T1` and a small tree `T2`. We want to see if `T2` is subtree of `T1`\n",
    "\n",
    "A tree `T2` is a subtree of tree `T1` if there exists a node `n` in `T1` such that the subtree at `n` is identical to `T2`. That is, if you cut the tree at node `n`, the 2 trees will be identical. \n",
    "\n",
    "**TIPS:** For each tree the following traversal pair uniquely identify them:\n",
    "1. (inorder,preorder)\n",
    "2. (inorder, postorder)\n",
    "\n",
    "So each tree has unique `(inorder, preorder)` or `(inorder, postorder)` pair. It's kind of their fingerprints. \n",
    "\n",
    "To solve the above proble this will help.\n",
    "\n",
    "**IDEA:**\n",
    "\n",
    "- get the (inrder, preorder) of tree `T1` and store them in list (ls_inorder_T1, ls_preorder_T1)\n",
    "- get the (inrder, preorder) of tree `T2` and store them in list (ls_inorder_T2, ls_preorder_T2)\n",
    "\n",
    "and \n",
    "1. check if `ls_inorder_T2` is subset/substring of `ls_inorder_T1` \n",
    "and \n",
    "2. check if `ls_preorder_T2` is subset/substring of `ls_preorder_T2`   \n",
    "\n",
    "if 1 and 2 are both true then T2 is a subtree of T1"
   ]
  },
  {
   "cell_type": "code",
   "execution_count": 21,
   "metadata": {},
   "outputs": [],
   "source": [
    "def get_tree_T1():\n",
    "    root = node(1)\n",
    "    root.left = node(2)\n",
    "    root.right = node(3)\n",
    "    root.left.left = node(4)\n",
    "    root.left.right = node(5)\n",
    "    root.left.right.left = node(7)\n",
    "    root.left.right.right = node(8)\n",
    "    return root\n",
    "\n",
    "def get_tree_T2():\n",
    "    root = node(2)\n",
    "    root.left = node(4)\n",
    "    root.right = node(5)\n",
    "    root.right.left = node(7)\n",
    "    root.right.right = node(8)\n",
    "    return root"
   ]
  },
  {
   "cell_type": "code",
   "execution_count": 22,
   "metadata": {},
   "outputs": [],
   "source": [
    "root1 = get_tree_T1()\n",
    "root2 = get_tree_T2()"
   ]
  },
  {
   "cell_type": "code",
   "execution_count": 23,
   "metadata": {},
   "outputs": [
    {
     "name": "stdout",
     "output_type": "stream",
     "text": [
      "4 2 7 5 8 1 3 "
     ]
    }
   ],
   "source": [
    "inorder_traversal(root1) "
   ]
  },
  {
   "cell_type": "code",
   "execution_count": 24,
   "metadata": {},
   "outputs": [
    {
     "name": "stdout",
     "output_type": "stream",
     "text": [
      "1 2 4 5 7 8 3 "
     ]
    }
   ],
   "source": [
    "preorder_traversal(root1)"
   ]
  },
  {
   "cell_type": "code",
   "execution_count": 25,
   "metadata": {},
   "outputs": [
    {
     "name": "stdout",
     "output_type": "stream",
     "text": [
      "4 2 7 5 8 "
     ]
    }
   ],
   "source": [
    "inorder_traversal(root2)"
   ]
  },
  {
   "cell_type": "code",
   "execution_count": 26,
   "metadata": {},
   "outputs": [
    {
     "name": "stdout",
     "output_type": "stream",
     "text": [
      "2 4 5 7 8 "
     ]
    }
   ],
   "source": [
    "preorder_traversal(root2)"
   ]
  },
  {
   "cell_type": "markdown",
   "metadata": {},
   "source": [
    "- We can see `inorder_traversal(root2)` is a subarray of `inorder_traversal(root1)`\n",
    "- Same for `preorder_traversal(root2)`and `preorder_traversal(root1)`\n",
    "\n",
    "**_Hence Proved_**"
   ]
  },
  {
   "cell_type": "code",
   "execution_count": 4,
   "metadata": {},
   "outputs": [
    {
     "name": "stdout",
     "output_type": "stream",
     "text": [
      "Level order traversal: [[12], [10, 30], [25, 40]]\n",
      "Left view: [12, 10, 25]\n",
      "Right view: [12, 30, 40]\n"
     ]
    }
   ],
   "source": [
    "from collections import deque\n",
    "\n",
    "\n",
    "class TreeNode:\n",
    "    def __init__(self, val):\n",
    "        self.val = val\n",
    "        self.left, self.right = None, None\n",
    "\n",
    "\n",
    "def traverse(root):\n",
    "    result = []\n",
    "    if root is None:\n",
    "        return result\n",
    "\n",
    "    queue = deque()\n",
    "    queue.append(root)\n",
    "    while queue:\n",
    "        levelSize = len(queue)\n",
    "        currentLevel = []\n",
    "        for _ in range(levelSize):\n",
    "            currentNode = queue.popleft()\n",
    "            # add the node to the current level\n",
    "            currentLevel.append(currentNode.val)\n",
    "            # insert the children of current node in the queue\n",
    "            if currentNode.left:\n",
    "                queue.append(currentNode.left)\n",
    "            if currentNode.right:\n",
    "                queue.append(currentNode.right)\n",
    "\n",
    "        result.append(currentLevel)\n",
    "\n",
    "    return result\n",
    "\n",
    "def left_view(root):\n",
    "    result = []\n",
    "    if root is None:\n",
    "        return result\n",
    "\n",
    "    queue = deque()\n",
    "    queue.append(root)\n",
    "    while queue:\n",
    "        levelSize = len(queue)\n",
    "        currentLevel = []\n",
    "        for _ in range(levelSize):\n",
    "            currentNode = queue.popleft()\n",
    "            # add the node to the current level\n",
    "            currentLevel.append(currentNode.val)\n",
    "            # insert the children of current node in the queue\n",
    "            if currentNode.left:\n",
    "                queue.append(currentNode.left)\n",
    "            if currentNode.right:\n",
    "                queue.append(currentNode.right)\n",
    "\n",
    "        result.append(currentLevel[0])\n",
    "\n",
    "    return result\n",
    "\n",
    "def right_view(root):\n",
    "    result = []\n",
    "    if root is None:\n",
    "        return result\n",
    "\n",
    "    queue = deque()\n",
    "    queue.append(root)\n",
    "    while queue:\n",
    "        levelSize = len(queue)\n",
    "        currentLevel = []\n",
    "        for _ in range(levelSize):\n",
    "            currentNode = queue.popleft()\n",
    "            # add the node to the current level\n",
    "            currentLevel.append(currentNode.val)\n",
    "            # insert the children of current node in the queue\n",
    "            if currentNode.left:\n",
    "                queue.append(currentNode.left)\n",
    "            if currentNode.right:\n",
    "                queue.append(currentNode.right)\n",
    "\n",
    "        result.append(currentLevel[-1])\n",
    "\n",
    "    return result\n",
    "\n",
    "\n",
    "def main():\n",
    "    root = TreeNode(12)\n",
    "    root.left = TreeNode(10)\n",
    "    root.right = TreeNode(30)\n",
    "    root.right.left = TreeNode(25)\n",
    "    root.right.right = TreeNode(40)\n",
    "    print(\"Level order traversal: \" + str(traverse(root)))\n",
    "    print(\"Left view: \" + str(left_view(root)))\n",
    "    print(\"Right view: \" + str(right_view(root)))\n",
    "\n",
    "\n",
    "main()"
   ]
  },
  {
   "cell_type": "code",
   "execution_count": null,
   "metadata": {},
   "outputs": [],
   "source": []
  }
 ],
 "metadata": {
  "hide_input": false,
  "kernelspec": {
   "display_name": "Python 3",
   "language": "python",
   "name": "python3"
  },
  "language_info": {
   "codemirror_mode": {
    "name": "ipython",
    "version": 3
   },
   "file_extension": ".py",
   "mimetype": "text/x-python",
   "name": "python",
   "nbconvert_exporter": "python",
   "pygments_lexer": "ipython3",
   "version": "3.6.9"
  },
  "toc": {
   "base_numbering": 1,
   "nav_menu": {},
   "number_sections": true,
   "sideBar": true,
   "skip_h1_title": false,
   "title_cell": "Table of Contents",
   "title_sidebar": "Contents",
   "toc_cell": false,
   "toc_position": {},
   "toc_section_display": true,
   "toc_window_display": true
  },
  "varInspector": {
   "cols": {
    "lenName": 16,
    "lenType": 16,
    "lenVar": 40
   },
   "kernels_config": {
    "python": {
     "delete_cmd_postfix": "",
     "delete_cmd_prefix": "del ",
     "library": "var_list.py",
     "varRefreshCmd": "print(var_dic_list())"
    },
    "r": {
     "delete_cmd_postfix": ") ",
     "delete_cmd_prefix": "rm(",
     "library": "var_list.r",
     "varRefreshCmd": "cat(var_dic_list()) "
    }
   },
   "types_to_exclude": [
    "module",
    "function",
    "builtin_function_or_method",
    "instance",
    "_Feature"
   ],
   "window_display": false
  }
 },
 "nbformat": 4,
 "nbformat_minor": 4
}
