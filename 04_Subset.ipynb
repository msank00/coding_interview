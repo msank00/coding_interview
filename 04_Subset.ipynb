{
 "cells": [
  {
   "cell_type": "markdown",
   "metadata": {},
   "source": [
    "# Find all subsets"
   ]
  },
  {
   "cell_type": "code",
   "execution_count": 6,
   "metadata": {},
   "outputs": [
    {
     "name": "stdout",
     "output_type": "stream",
     "text": [
      "Here is the list of subsets: [[], [1], [3], [1, 3]]\n",
      "Here is the list of subsets: [[], [1], [5], [1, 5], [3], [1, 3], [5, 3], [1, 5, 3]]\n"
     ]
    }
   ],
   "source": [
    "def find_subset(nums):\n",
    "    \n",
    "    subsets = []\n",
    "    subsets.append([])\n",
    "    \n",
    "    for cur_num in nums:\n",
    "        \n",
    "        n = len(subsets)\n",
    "        for i in range(n):\n",
    "            \n",
    "            new_set = list(subsets[i])\n",
    "            new_set.append(cur_num)\n",
    "            \n",
    "            subsets.append(new_set)\n",
    "    \n",
    "    return subsets\n",
    "\n",
    "def main():\n",
    "\n",
    "    print(\"Here is the list of subsets: \" + str(find_subset([1, 3])))\n",
    "    print(\"Here is the list of subsets: \" + str(find_subset([1, 5, 3])))\n",
    "\n",
    "\n",
    "main()\n"
   ]
  },
  {
   "cell_type": "markdown",
   "metadata": {},
   "source": [
    "# Find Distinct Subsets"
   ]
  },
  {
   "cell_type": "code",
   "execution_count": 7,
   "metadata": {},
   "outputs": [
    {
     "name": "stdout",
     "output_type": "stream",
     "text": [
      "Here is the list of subsets: [[], [1], [3], [1, 3], [3], [1, 3]]\n",
      "Here is the list of subsets: [[], [1], [5], [1, 5], [3], [1, 3], [5, 3], [1, 5, 3], [3], [1, 3], [5, 3], [1, 5, 3]]\n"
     ]
    }
   ],
   "source": [
    "def find_distinct_subset(nums):\n",
    "    \n",
    "    subsets = []\n",
    "    subsets.append([])\n",
    "    \n",
    "    for cur_num in nums:\n",
    "        \n",
    "        n = len(subsets)\n",
    "        for i in range(n):\n",
    "            \n",
    "            new_set = list(subsets[i])\n",
    "            if cur_num not in new_set:\n",
    "                new_set.append(cur_num)\n",
    "                subsets.append(new_set)\n",
    "    \n",
    "    return subsets\n",
    "\n",
    "def main2():\n",
    "\n",
    "    print(\"Here is the list of subsets: \" + str(find_distinct_subset([1, 3, 3])))\n",
    "    print(\"Here is the list of subsets: \" + str(find_distinct_subset([1, 5, 3, 3])))\n",
    "\n",
    "\n",
    "main2()"
   ]
  },
  {
   "cell_type": "code",
   "execution_count": null,
   "metadata": {},
   "outputs": [],
   "source": [
    "x`"
   ]
  }
 ],
 "metadata": {
  "kernelspec": {
   "display_name": "Python 3",
   "language": "python",
   "name": "python3"
  },
  "language_info": {
   "codemirror_mode": {
    "name": "ipython",
    "version": 3
   },
   "file_extension": ".py",
   "mimetype": "text/x-python",
   "name": "python",
   "nbconvert_exporter": "python",
   "pygments_lexer": "ipython3",
   "version": "3.6.9"
  }
 },
 "nbformat": 4,
 "nbformat_minor": 4
}
