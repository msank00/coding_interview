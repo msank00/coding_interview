{
 "cells": [
  {
   "cell_type": "markdown",
   "metadata": {},
   "source": [
    "# Disecting Dynamic Programming (DP)\n",
    "\n",
    "We pick one very easy dynamic programming problem named `0/1 Knapsack` Problem. The problem is apparently very simple. In all the resources book or online, people pick this problem for teaching DP. Where they proceed as follows:\n",
    "- Recursive Solution\n",
    "- Top Down approach with memoization\n",
    "- Bottom Up approach with Tabulation\n",
    "\n",
    "Before we move to the top-down and bottom-up approach, I want to spend some time on the first recursive solution. \n",
    "\n",
    "let's see what's the **logical flow** for solving this problem.\n",
    "\n",
    "![image](images/01_knapsack.png)\n",
    "[image_courtsey](https://www.educative.io/collection/page/5668639101419520/5633779737559040/5666387129270272)\n",
    "\n",
    "**TL;DR**: At each decision node, 2 branches are there. The recursive code actually programs the behaviour of each decision node.\n",
    "\n",
    "At each node 2 decision flow\n",
    "\n",
    "```python\n",
    "# DECESIION 1: select the current element\n",
    "if weight.current_element <= capacity:\n",
    "    include current element\n",
    "elif weight.current_element > capacity:\n",
    "    exclude current element\n",
    "\n",
    "# DECESIION 2: skip the current element\n",
    "exclude the current element\n",
    "```\n",
    "\n",
    "**Important point**: `both of these 2 decision branches have to be taken`. So while writing the `if-else` statement, one must be very careful.\n",
    "\n",
    "\n",
    "Below there are 3 resursive implementations\n",
    "- wrong implementation\n",
    "- correct implementation but not optimum\n",
    "- correct implementation but optimum"
   ]
  },
  {
   "cell_type": "code",
   "execution_count": 1,
   "metadata": {},
   "outputs": [],
   "source": [
    "from typing import List"
   ]
  },
  {
   "cell_type": "code",
   "execution_count": 14,
   "metadata": {},
   "outputs": [],
   "source": [
    "def knapsack_recur_wrong_1(weight, profit, capacity, idx):\n",
    "    if idx < 0 or idx >= len(profit):\n",
    "        return 0\n",
    "    \n",
    "    prft1 = 0\n",
    "    if weight[idx] <= capacity:\n",
    "        prft1 = profit[idx] + knapsack_recur_wrong_1(weight, profit, capacity - weight[idx], idx+1)\n",
    "    \n",
    "    prft2 = 0\n",
    "    if weight[idx] > capacity:\n",
    "        prft2 = knapsack_recur_wrong_1(weight, profit, capacity, idx+1)\n",
    "        \n",
    "    return max([prft1, prft2])\n",
    "\n",
    "def knapsack_recur_wrong_2(weight, profit, capacity, idx):\n",
    "    if idx < 0 or idx >= len(profit):\n",
    "        return 0\n",
    "    \n",
    "    if capacity < 0:\n",
    "        return 0\n",
    "    \n",
    "    # include\n",
    "    prft1 = profit[idx] + knapsack_recur_wrong_2(weight, profit, capacity - weight[idx], idx+1)\n",
    "    \n",
    "    # exclude\n",
    "    prft2 = knapsack_recur_wrong_2(weight, profit, capacity, idx+1)\n",
    "        \n",
    "    return max([prft1, prft2])\n",
    "\n",
    "def knapsack_recur_correct_optm(weight, profit, capacity, idx):\n",
    "    if idx < 0 or idx >= len(profit):\n",
    "        return 0\n",
    "    \n",
    "    prft1 = 0\n",
    "    if weight[idx] <= capacity:\n",
    "        prft1 = profit[idx] + knapsack_recur_correct_optm(weight, profit, capacity - weight[idx], idx+1)\n",
    "    \n",
    "    prft2 = 0\n",
    "    prft2 = knapsack_recur_correct_optm(weight, profit, capacity, idx+1)\n",
    "        \n",
    "    return max([prft1, prft2])\n",
    "\n",
    "def knapsack_recur_correct_notoptm(weight, profit, capacity, idx):\n",
    "    if idx < 0 or idx >= len(profit):\n",
    "        return 0\n",
    "    \n",
    "    # exclude the current item at idx\n",
    "    prft2 = 0\n",
    "    prft2 = knapsack_recur_correct_notoptm(weight, profit, capacity, idx+1)\n",
    "    \n",
    "    # considering the current item\n",
    "    #    if weight < capacity include else exclude \n",
    "    prft1 = 0\n",
    "    if weight[idx] <= capacity:\n",
    "        prft1 = profit[idx] + knapsack_recur_correct_notoptm(weight, profit, capacity - weight[idx], idx+1)\n",
    "    else:\n",
    "        prft1 = knapsack_recur_correct_notoptm(weight, profit, capacity, idx+1)\n",
    "    \n",
    "    return max([prft1, prft2])"
   ]
  },
  {
   "cell_type": "code",
   "execution_count": 2,
   "metadata": {},
   "outputs": [
    {
     "name": "stdout",
     "output_type": "stream",
     "text": [
      "----------------------------------------| capacity: 5 |----------------------------------------\n",
      "wrong 1 output: 7\n",
      "wrong 2 output: 32\n",
      "correct not-optimum output: 16\n",
      "correct optimum output: 16\n",
      "----------------------------------------| capacity: 7 |----------------------------------------\n",
      "wrong 1 output: 17\n",
      "wrong 2 output: 33\n",
      "correct not-optimum output: 22\n",
      "correct optimum output: 22\n",
      "----------------------------------------| capacity: 9 |----------------------------------------\n",
      "wrong 1 output: 17\n",
      "wrong 2 output: 33\n",
      "correct not-optimum output: 27\n",
      "correct optimum output: 27\n",
      "----------------------------------------| capacity: 10 |----------------------------------------\n",
      "wrong 1 output: 17\n",
      "wrong 2 output: 33\n",
      "correct not-optimum output: 32\n",
      "correct optimum output: 32\n"
     ]
    }
   ],
   "source": [
    "ls_profit = [1, 6, 10, 16]\n",
    "ls_weight = [1, 2, 3, 5]\n",
    "\n",
    "ls_capacity = [5,7,9,10]\n",
    "\n",
    "for i in ls_capacity:\n",
    "    capacity = i\n",
    "    print('-'*40+'| capacity: {} |'.format(capacity)+'-'*40)\n",
    "    print('wrong 1 output: {}'.format(knapsack_recur_wrong_1(ls_weight, ls_profit, capacity, 0)))\n",
    "    print('wrong 2 output: {}'.format(knapsack_recur_wrong_2(ls_weight, ls_profit, capacity, 0)))\n",
    "    print('correct not-optimum output: {}'.format(knapsack_recur_correct_notoptm(ls_weight, ls_profit, capacity, 0)))\n",
    "    print('correct optimum output: {}'.format(knapsack_recur_correct_optm(ls_weight, ls_profit, capacity, 0)))"
   ]
  },
  {
   "cell_type": "markdown",
   "metadata": {},
   "source": [
    "**Here are my questions:**\n",
    "- Q1. Where is the problem in `knapsack_recur_wrong_1()`?\n",
    "- Q2. Where is the problem in `knapsack_recur_wrong_2()`?\n",
    "- Q3. What is the optimization between the 2 correct implementation?\n",
    "\n",
    "------\n",
    "\n",
    "Now let's jump to the question answering session\n",
    "\n",
    "**Where is the problem in** `knapsack_recur_wrong_1()`?\n",
    "\n",
    "The 1st wrong implementation is actually not taking these 2 decision branches at each node. It's taking `either one of them`.\n",
    "\n",
    "![image](images/wrong_implementation.png)\n",
    "\n",
    "Which is wrong.\n",
    "\n",
    "**Where is the problem in** `knapsack_recur_wrong_2()`?\n",
    "\n",
    "It's not taking any decision, whether the current element weight is acceptable or not, while including the element. Therefore the profit of the element is always added in the inclusion scenario. Therefore, the total profit is always >= optimal profit. So wrong solution\n",
    "\n",
    "\n",
    "**What is the optimization between the 2 correct implementation?**\n",
    "\n",
    "Before anwering the question, let's see what's happening inside the yellow decision node (refer to the earlier image).\n",
    "\n",
    "![image](images/correct_implementation_1.png)\n",
    "\n",
    "Now instead of 2 exclude decision, only 1 is suffecient. That's the difference between optimum and notoptimum correct implementation.\n",
    "\n",
    "\n",
    "**FIN**"
   ]
  },
  {
   "cell_type": "code",
   "execution_count": 17,
   "metadata": {},
   "outputs": [],
   "source": [
    "def solve_knapsack(profit:List, weight:List, capacity:int):\n",
    "    return solve_knapsack_util(profit, weight, capacity, 0)\n",
    "\n",
    "def solve_knapsack_util(profit:List, weight:List, capacity:int, idx:int):\n",
    "    \"\"\"Returns profit\n",
    "    \"\"\"\n",
    "    #base check\n",
    "    if capacity <= 0 or idx >= len(profit): return 0\n",
    "    \n",
    "    #include: current index, used in profit calculation \n",
    "    profit_include = 0\n",
    "    if weight[idx] <= capacity:\n",
    "        profit_include = profit[idx] + solve_knapsack_util(profit, weight, capacity - weight[idx], idx+1) \n",
    "    \n",
    "    # exclude: current index not used in profit calculation\n",
    "    profit_exclude = solve_knapsack_util(profit, weight, capacity, idx+1) \n",
    "    \n",
    "    return max([profit_include, profit_exclude])"
   ]
  },
  {
   "cell_type": "code",
   "execution_count": 29,
   "metadata": {},
   "outputs": [
    {
     "name": "stdout",
     "output_type": "stream",
     "text": [
      "22\n",
      "17\n",
      "CPU times: user 0 ns, sys: 0 ns, total: 0 ns\n",
      "Wall time: 260 µs\n"
     ]
    }
   ],
   "source": [
    "%%time\n",
    "print(solve_knapsack([1, 6, 10, 16], [1, 2, 3, 5], 7))\n",
    "print(solve_knapsack([1, 6, 10, 16], [1, 2, 3, 5], 6))"
   ]
  },
  {
   "cell_type": "code",
   "execution_count": 52,
   "metadata": {},
   "outputs": [],
   "source": [
    "def solve_knapsack_TD(profit:List, weight:List, capacity:int):\n",
    "    \n",
    "    solution = [[-1 for i in range(capacity+1)] for j in range(len(profit))]\n",
    "    result = solve_knapsack_TD_util(solution, profit, weight, capacity, 0)\n",
    "    print(solution)\n",
    "    return result\n",
    "    \n",
    "def solve_knapsack_TD_util(solution:List[List[int]], profit:List, weight:List, capacity:int, idx:int):\n",
    "    \n",
    "    #base check\n",
    "    if capacity <= 0 or idx >= len(profit): return 0\n",
    "    \n",
    "    if solution[idx][capacity]!=-1: \n",
    "        print(\"HIT\")\n",
    "        return solution[idx][capacity]\n",
    "    \n",
    "    #include: current index, used in profit calculation \n",
    "    profit_include = 0\n",
    "    if weight[idx] <= capacity:\n",
    "        profit_include = profit[idx] + solve_knapsack_TD_util(solution, profit, weight, capacity - weight[idx], idx+1) \n",
    "        \n",
    "    # exclude: current index not used in profit calculation\n",
    "    profit_exclude = 0\n",
    "    profit_exclude = solve_knapsack_TD_util(solution, profit, weight, capacity, idx+1)\n",
    "    \n",
    "    solution[idx][capacity] = max([profit_include, profit_exclude])\n",
    "    \n",
    "    return solution[idx][capacity]\n",
    "\n",
    "def solve_knapsack_BU(profit:List, weight:List, capacity:int):\n",
    "    \n",
    "    # base cases:\n",
    "    n = len(weight)\n",
    "    if capacity <=0 or n==0 or n != len(profit): return 0\n",
    "    \n",
    "    # create solution matrix\n",
    "    solution = [[0 for i in range(capacity+1)] for j in range(n)]\n",
    "    \n",
    "    # fill: profit=0 if capacity=0\n",
    "    for i in range(n):\n",
    "        solution[i][0] = 0\n",
    "    \n",
    "    # if only single element and it's weight<capacity put it's profit\n",
    "    for c in range(0,capacity+1):\n",
    "        if weight[0] <= c:\n",
    "            solution[0][c] = profit[0]\n",
    "            \n",
    "    for i in range(1, n):\n",
    "        for c in range(1,capacity+1):\n",
    "            profit1, profit2 = 0, 0\n",
    "            if weight[i] <= c:\n",
    "                profit1 = profit[i] + solution[i-1][c - weight[i]]\n",
    "            \n",
    "            profit2 = solution[i-1][c]\n",
    "            \n",
    "            solution[i][c] = max(profit1, profit2)\n",
    "            \n",
    "    return solution[n-1][capacity]"
   ]
  },
  {
   "cell_type": "code",
   "execution_count": 48,
   "metadata": {},
   "outputs": [
    {
     "name": "stdout",
     "output_type": "stream",
     "text": [
      "HIT\n",
      "[[-1, -1, -1, -1, -1, -1, -1, 22], [-1, -1, -1, -1, -1, -1, 16, 22], [-1, -1, -1, -1, 10, 16, 16, 16], [-1, 0, 0, 0, 0, 16, 16, 16]]\n",
      "22\n",
      "HIT\n",
      "[[-1, -1, -1, -1, -1, -1, 17], [-1, -1, -1, -1, -1, 16, 16], [-1, -1, -1, 10, 10, 16, 16], [-1, 0, 0, 0, 0, 16, 16]]\n",
      "17\n",
      "CPU times: user 0 ns, sys: 0 ns, total: 0 ns\n",
      "Wall time: 472 µs\n"
     ]
    }
   ],
   "source": [
    "%%time\n",
    "print(solve_knapsack_TD([1, 6, 10, 16], [1, 2, 3, 5], 7))\n",
    "print(solve_knapsack_TD([1, 6, 10, 16], [1, 2, 3, 5], 6))"
   ]
  },
  {
   "cell_type": "code",
   "execution_count": 53,
   "metadata": {},
   "outputs": [
    {
     "name": "stdout",
     "output_type": "stream",
     "text": [
      "22\n",
      "17\n"
     ]
    }
   ],
   "source": [
    "print(solve_knapsack_BU([1, 6, 10, 16], [1, 2, 3, 5], 7))\n",
    "print(solve_knapsack_BU([1, 6, 10, 16], [1, 2, 3, 5], 6))"
   ]
  },
  {
   "cell_type": "code",
   "execution_count": null,
   "metadata": {},
   "outputs": [],
   "source": []
  }
 ],
 "metadata": {
  "kernelspec": {
   "display_name": "Python 3",
   "language": "python",
   "name": "python3"
  },
  "language_info": {
   "codemirror_mode": {
    "name": "ipython",
    "version": 3
   },
   "file_extension": ".py",
   "mimetype": "text/x-python",
   "name": "python",
   "nbconvert_exporter": "python",
   "pygments_lexer": "ipython3",
   "version": "3.6.9"
  },
  "toc": {
   "base_numbering": 1,
   "nav_menu": {},
   "number_sections": true,
   "sideBar": true,
   "skip_h1_title": false,
   "title_cell": "Table of Contents",
   "title_sidebar": "Contents",
   "toc_cell": false,
   "toc_position": {},
   "toc_section_display": true,
   "toc_window_display": false
  }
 },
 "nbformat": 4,
 "nbformat_minor": 4
}
