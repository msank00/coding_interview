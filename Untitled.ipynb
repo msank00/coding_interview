{
 "cells": [
  {
   "cell_type": "code",
   "execution_count": 14,
   "metadata": {},
   "outputs": [],
   "source": [
    "def segregate(nums:list):\n",
    "    n = len(nums)\n",
    "    start, end = 0, n-1\n",
    "    while start < end:\n",
    "        if nums[start] <=0: start+=1\n",
    "        if nums[end]>0: end-=1\n",
    "        if nums[start]>0 and nums[end]<0:\n",
    "            nums[start], nums[end] = nums[end], nums[start]\n",
    "            start +=1\n",
    "            end -=1\n",
    "    \n",
    "    return nums\n",
    "\n",
    "def find_first_missing_positive(nums:list):\n",
    "    return segregate(nums)"
   ]
  },
  {
   "cell_type": "code",
   "execution_count": 15,
   "metadata": {},
   "outputs": [
    {
     "data": {
      "text/plain": [
       "[-3, 1, 5, 40, 2]"
      ]
     },
     "execution_count": 15,
     "metadata": {},
     "output_type": "execute_result"
    }
   ],
   "source": [
    "find_first_missing_positive([-3, 1, 5, 40, 2])"
   ]
  },
  {
   "cell_type": "code",
   "execution_count": 20,
   "metadata": {},
   "outputs": [],
   "source": [
    "def segregate_2(nums:list):\n",
    "    n = len(nums)\n",
    "    start, end = 0, n-1\n",
    "    while start < end:\n",
    "        if nums[start] >n: start+=1\n",
    "        if nums[end]<=n: end-=1\n",
    "        if nums[start]<=n and nums[end]>n:\n",
    "            nums[start], nums[end] = nums[end], nums[start]\n",
    "            start +=1\n",
    "            end -=1\n",
    "    \n",
    "    return nums"
   ]
  },
  {
   "cell_type": "code",
   "execution_count": 22,
   "metadata": {},
   "outputs": [
    {
     "data": {
      "text/plain": [
       "[50, 40, 3, 2, 1]"
      ]
     },
     "execution_count": 22,
     "metadata": {},
     "output_type": "execute_result"
    }
   ],
   "source": [
    "segregate_2([1,2,3,40,50])"
   ]
  },
  {
   "cell_type": "code",
   "execution_count": 42,
   "metadata": {},
   "outputs": [],
   "source": [
    "def segregate_merged(nums:list):\n",
    "    n = len(nums)\n",
    "    start, end = 0, n-1\n",
    "    while start < end:\n",
    "        if nums[start] <=0 or nums[start] >n: start+=1\n",
    "        elif nums[end]>0 and nums[end]<=n: end-=1\n",
    "        else:\n",
    "            nums[start], nums[end] = nums[end], nums[start]\n",
    "            start +=1\n",
    "            end -=1\n",
    "    \n",
    "    return nums"
   ]
  },
  {
   "cell_type": "code",
   "execution_count": 43,
   "metadata": {},
   "outputs": [
    {
     "data": {
      "text/plain": [
       "[50, 0, -3, 4, 2, 1]"
      ]
     },
     "execution_count": 43,
     "metadata": {},
     "output_type": "execute_result"
    }
   ],
   "source": [
    "segregate_merged([1,2,-3,4,0,50])"
   ]
  },
  {
   "cell_type": "code",
   "execution_count": null,
   "metadata": {},
   "outputs": [],
   "source": []
  }
 ],
 "metadata": {
  "kernelspec": {
   "display_name": "Python (py36)",
   "language": "python",
   "name": "py36"
  },
  "language_info": {
   "codemirror_mode": {
    "name": "ipython",
    "version": 3
   },
   "file_extension": ".py",
   "mimetype": "text/x-python",
   "name": "python",
   "nbconvert_exporter": "python",
   "pygments_lexer": "ipython3",
   "version": "3.6.9"
  }
 },
 "nbformat": 4,
 "nbformat_minor": 4
}
