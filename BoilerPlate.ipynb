{
 "cells": [
  {
   "cell_type": "markdown",
   "metadata": {},
   "source": [
    "# Boilerplate Code Type 1\n",
    "\n",
    "## Gold Mine Problem\n",
    "\n",
    "- [link](https://practice.geeksforgeeks.org/problems/gold-mine-problem/0)"
   ]
  },
  {
   "cell_type": "code",
   "execution_count": 2,
   "metadata": {},
   "outputs": [],
   "source": [
    "#code\n",
    "from typing import List, Dict\n",
    "import numpy as np\n",
    "# import inbuilt standard input output  \n",
    "from sys import stdin, stdout \n",
    "\n",
    "def getMaxGold(gold:List[List], \n",
    "               n_row:int, \n",
    "               n_col:int):\n",
    "    \n",
    "    sol = [ [0 for i in range(n_col)] for j in range(n_row)]\n",
    "    \n",
    "    for col in range(n_col-1, -1, -1):\n",
    "        for row in range(n_row):\n",
    "            \n",
    "            # extreme right, can't get the right subproblem solution\n",
    "            if (col == n_col -1): right = 0\n",
    "            else: right = sol[row][col+1]\n",
    "                \n",
    "            # top row and extreme right: can't get the right upward subproblem solution\n",
    "            if row == 0 or col == n_col - 1: right_up = 0\n",
    "            else: right_up = sol[row-1][col+1]\n",
    "                \n",
    "            # bottom row and extreme right: can't get the right down subproblem solution\n",
    "            if row == n_row - 1 or col == n_col - 1: right_down = 0\n",
    "            else: right_down = sol[row+1][col+1]\n",
    "                \n",
    "            sol[row][col] = gold[row][col] + max(right, right_up, right_down)\n",
    "    \n",
    "    return max(max(sol))\n",
    "    \n",
    " \n",
    "def get_input_matrix(mat_shape, mat_value):\n",
    "    \n",
    "    i = 0\n",
    "    \n",
    "    input_mat = [[0 for col in range(mat_shape[1])] for row in range(mat_shape[0]) ]\n",
    "    \n",
    "    for row in range(mat_shape[0]):\n",
    "        for col in range(mat_shape[1]):\n",
    "            input_mat[row][col] = mat_value[i]\n",
    "            i += 1\n",
    "            \n",
    "    return input_mat\n",
    "\n",
    "\n",
    "\n",
    "def main(): \n",
    "  \n",
    "    # input via readline method \n",
    "    n_tests = int(stdin.readline()) \n",
    "  \n",
    "    # array input similar method \n",
    "    for test_case in range(n_tests):\n",
    "        \n",
    "        mat_shape = [int(x) for x in stdin.readline().split()]\n",
    "        mat_values = [int(x) for x in stdin.readline().split()]\n",
    "        \n",
    "        input_mat = get_input_matrix(mat_shape, mat_values)\n",
    "        output_val = getMaxGold(input_mat, mat_shape[0], mat_shape[1])\n",
    "  \n",
    "        stdout.write(str(output_val)+\"\\n\") \n",
    "  \n",
    "# # call the main method \n",
    "# if __name__ == \"__main__\": \n",
    "#     main()"
   ]
  },
  {
   "cell_type": "markdown",
   "metadata": {},
   "source": [
    "# Boilerplate Code Type 2\n",
    "\n",
    "## Equilibrium point \n",
    "\n",
    "- [link](https://practice.geeksforgeeks.org/problems/equilibrium-point/0)"
   ]
  },
  {
   "cell_type": "code",
   "execution_count": 3,
   "metadata": {},
   "outputs": [],
   "source": [
    "#code\n",
    "from typing import List\n",
    "from sys import stdin, stdout\n",
    "\n",
    "def get_equilibrium_point(arr:List, arr_size:int):\n",
    "    \n",
    "    n = arr_size\n",
    "    if n==1: return 1\n",
    "    elif n>=3:\n",
    "        left_sum = arr[0]\n",
    "        idx = 1\n",
    "        right_sum = sum(arr[2:])\n",
    "\n",
    "        while idx <n-1:\n",
    "            if left_sum == right_sum: return idx+1\n",
    "\n",
    "            left_sum += arr[idx]\n",
    "            idx += 1\n",
    "            right_sum -= arr[idx]\n",
    "\n",
    "        return -1\n",
    "    return -1\n",
    "\n",
    "\n",
    "def main(): \n",
    "  \n",
    "    # input via readline method \n",
    "    n_tests = int(stdin.readline()) \n",
    "  \n",
    "    # array input similar method \n",
    "    for test_case in range(n_tests):\n",
    "        \n",
    "        arr_size = int(stdin.readline())\n",
    "        arr_values = [int(x) for x in stdin.readline().split()]\n",
    "        \n",
    "        \n",
    "        output_val = get_equilibrium_point(arr_values, arr_size)\n",
    "  \n",
    "        stdout.write(str(output_val)+\"\\n\") \n",
    "  \n",
    "# # call the main method \n",
    "# if __name__ == \"__main__\": \n",
    "#     main()"
   ]
  },
  {
   "cell_type": "markdown",
   "metadata": {},
   "source": [
    "# Boilerplate Code Type 3"
   ]
  },
  {
   "cell_type": "code",
   "execution_count": 8,
   "metadata": {},
   "outputs": [
    {
     "name": "stdin",
     "output_type": "stream",
     "text": [
      " 1\n",
      " 5 2\n"
     ]
    },
    {
     "name": "stdout",
     "output_type": "stream",
     "text": [
      "3\n"
     ]
    }
   ],
   "source": [
    "def josephus(n,k): \n",
    "    \n",
    "    if n==1: return 1\n",
    "    return (josephus(n-1,k)+k-1)%n+1\n",
    "\n",
    "def main():\n",
    "    \n",
    "    T=int(input())\n",
    "    \n",
    "    for i in range(T):\n",
    "        \n",
    "        nk=[int(x) for x in input().strip().split()]\n",
    "        n=nk[0]\n",
    "        k=nk[1]\n",
    "        \n",
    "        print(josephus(n,k))\n",
    "        \n",
    "       \n",
    "if __name__==\"__main__\":\n",
    "    main()"
   ]
  },
  {
   "cell_type": "code",
   "execution_count": null,
   "metadata": {},
   "outputs": [],
   "source": []
  }
 ],
 "metadata": {
  "kernelspec": {
   "display_name": "Python [conda env:py36] *",
   "language": "python",
   "name": "conda-env-py36-py"
  },
  "language_info": {
   "codemirror_mode": {
    "name": "ipython",
    "version": 3
   },
   "file_extension": ".py",
   "mimetype": "text/x-python",
   "name": "python",
   "nbconvert_exporter": "python",
   "pygments_lexer": "ipython3",
   "version": "3.6.9"
  },
  "toc-autonumbering": true,
  "toc-showmarkdowntxt": false,
  "toc-showtags": false
 },
 "nbformat": 4,
 "nbformat_minor": 4
}
