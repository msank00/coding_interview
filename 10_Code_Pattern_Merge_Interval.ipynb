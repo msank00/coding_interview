{
 "cells": [
  {
   "cell_type": "markdown",
   "metadata": {},
   "source": [
    "# Merge all the overlapping intervals\n",
    "\n",
    "Given a list of intervals, merge all the overlapping intervals to produce a list that has only mutually exclusive intervals.\n",
    "\n",
    "**Example 1:**\n",
    "\n",
    "```java\n",
    "Intervals: [[1,4], [2,5], [7,9]]\n",
    "Output: [[1,5], [7,9]]\n",
    "Explanation: Since the first two intervals [1,4] and [2,5] overlap, we merged them into one [1,5].\n",
    "```"
   ]
  },
  {
   "cell_type": "code",
   "execution_count": 20,
   "metadata": {},
   "outputs": [
    {
     "name": "stdout",
     "output_type": "stream",
     "text": [
      ">> *****TEST CASE 1: Merged intervals: \n",
      ">\t=====BEFORE SORTING=====\n",
      "[1, 4] [2, 5] [7, 9] \n",
      ">\t=====AFTER SORTING=====\n",
      "[1, 4] [2, 5] [7, 9] \n",
      "[1, 5][7, 9]\n",
      "\n",
      ">> *****TEST CASE 2: Merged intervals: \n",
      ">\t=====BEFORE SORTING=====\n",
      "[6, 7] [2, 4] [5, 9] \n",
      ">\t=====AFTER SORTING=====\n",
      "[2, 4] [5, 9] [6, 7] \n",
      "[2, 4][5, 9]\n",
      "\n",
      ">> *****TEST CASE 3: Merged intervals: \n",
      ">\t=====BEFORE SORTING=====\n",
      "[1, 4] [2, 6] [3, 5] \n",
      ">\t=====AFTER SORTING=====\n",
      "[1, 4] [2, 6] [3, 5] \n",
      "[1, 6]\n"
     ]
    }
   ],
   "source": [
    "from __future__ import print_function\n",
    "from typing import List\n",
    "\n",
    "\n",
    "class Interval:\n",
    "    def __init__(self, start:int, end:int):\n",
    "        self.start = start\n",
    "        self.end = end\n",
    "\n",
    "    def print_interval(self):\n",
    "        print(\"[\" + str(self.start) + \", \" + str(self.end) + \"]\", end='')\n",
    "        \n",
    "    def __repr__(self):\n",
    "        return \"[\" + str(self.start) + \", \" + str(self.end) + \"]\"\n",
    "\n",
    "\n",
    "def merge(intervals: List[Interval]):\n",
    "    if len(intervals) < 2:\n",
    "        return intervals\n",
    "\n",
    "    # sort the intervals on the start time\n",
    "    print(\">\\t=====BEFORE SORTING=====\")\n",
    "    for i in intervals:\n",
    "        print(i, end=\" \")\n",
    "    print()\n",
    "        \n",
    "    intervals.sort(key=lambda x: x.start)\n",
    "    \n",
    "    print(\">\\t=====AFTER SORTING=====\")\n",
    "    for i in intervals:\n",
    "        print(i, end=\" \")\n",
    "    print()\n",
    "\n",
    "    mergedIntervals = []\n",
    "    start = intervals[0].start\n",
    "    end = intervals[0].end\n",
    "    for i in range(1, len(intervals)):\n",
    "        interval = intervals[i]\n",
    "        if interval.start <= end:  # overlapping intervals, adjust the 'end'\n",
    "            end = max(interval.end, end)\n",
    "        else:  # non-overlapping interval, add the previous internval and reset\n",
    "            mergedIntervals.append(Interval(start, end))\n",
    "            start = interval.start\n",
    "            end = interval.end\n",
    "\n",
    "    # add the last interval\n",
    "    mergedIntervals.append(Interval(start, end))\n",
    "    return mergedIntervals\n",
    "\n",
    "\n",
    "def main():\n",
    "    print(\">> *****TEST CASE 1: Merged intervals: \")\n",
    "    for i in merge([Interval(1, 4), Interval(2, 5), Interval(7, 9)]):\n",
    "        i.print_interval()\n",
    "    print()\n",
    "\n",
    "    print(\"\\n>> *****TEST CASE 2: Merged intervals: \")\n",
    "    for i in merge([Interval(6, 7), Interval(2, 4), Interval(5, 9)]):\n",
    "        i.print_interval()\n",
    "    print()\n",
    "\n",
    "    print(\"\\n>> *****TEST CASE 3: Merged intervals: \")\n",
    "    for i in merge([Interval(1, 4), Interval(2, 6), Interval(3, 5)]):\n",
    "        i.print_interval()\n",
    "    print()\n",
    "\n",
    "\n",
    "main()\n"
   ]
  },
  {
   "cell_type": "markdown",
   "metadata": {},
   "source": [
    "## Python list sort with key"
   ]
  },
  {
   "cell_type": "code",
   "execution_count": 33,
   "metadata": {},
   "outputs": [],
   "source": [
    "ls_a = [[5,7], [9,4], [3,10]]"
   ]
  },
  {
   "cell_type": "code",
   "execution_count": 34,
   "metadata": {},
   "outputs": [],
   "source": [
    "ls_a.sort(key=lambda x: x[0])"
   ]
  },
  {
   "cell_type": "code",
   "execution_count": 35,
   "metadata": {},
   "outputs": [
    {
     "data": {
      "text/plain": [
       "[[3, 10], [5, 7], [9, 4]]"
      ]
     },
     "execution_count": 35,
     "metadata": {},
     "output_type": "execute_result"
    }
   ],
   "source": [
    "ls_a"
   ]
  },
  {
   "cell_type": "markdown",
   "metadata": {},
   "source": [
    "# Insert Interval \n",
    "\n",
    "Problem Statement\n",
    "\n",
    "Given a list of non-overlapping intervals sorted by their start time, insert a given interval at the correct position and merge all necessary intervals to produce a list that has only mutually exclusive intervals.\n",
    "\n",
    "**Example 1:**\n",
    "\n",
    "```java\n",
    "Input: Intervals=[[1,3], [5,7], [8,12]], New Interval=[4,6]\n",
    "Output: [[1,3], [4,7], [8,12]]\n",
    "Explanation: After insertion, since [4,6] overlaps with [5,7], we merged them into one [4,7].\n",
    "```\n",
    "\n",
    "**Example 2:**\n",
    "\n",
    "```java\n",
    "Input: Intervals=[[1,3], [5,7], [8,12]], New Interval=[4,10]\n",
    "Output: [[1,3], [4,12]]\n",
    "Explanation: After insertion, since [4,10] overlaps with [5,7] & [8,12], we merged them into [4,12].\n",
    "```\n",
    "\n",
    "**Example 3:**\n",
    "```java\n",
    "Input: Intervals=[[2,3],[5,7]], New Interval=[1,4]\n",
    "Output: [[1,4], [5,7]]\n",
    "Explanation: After insertion, since [1,4] overlaps with [2,3], we merged them into one [1,4].\n",
    "``` "
   ]
  },
  {
   "cell_type": "code",
   "execution_count": 50,
   "metadata": {},
   "outputs": [
    {
     "name": "stdout",
     "output_type": "stream",
     "text": [
      "Intervals after inserting the new interval: [[1, 3], [4, 7], [8, 12]]\n",
      "Intervals after inserting the new interval: [[1, 3], [4, 12]]\n",
      "Intervals after inserting the new interval: [[1, 4], [5, 7]]\n"
     ]
    }
   ],
   "source": [
    "def insert(intervals, new_interval):\n",
    "    merged = []\n",
    "    # TODO: Write your code here\n",
    "    if len(intervals) == 0: return merged.append(new_interval)\n",
    "    \n",
    "    # add new interval\n",
    "    intervals.append(new_interval)\n",
    "    \n",
    "    # sort by start time\n",
    "    intervals.sort(key=lambda x: x[0])\n",
    "    \n",
    "    # merge all interval\n",
    "    start = intervals[0][0]\n",
    "    end = intervals[0][1]\n",
    "    \n",
    "    for interval in intervals:\n",
    "        if interval[0] <= end:\n",
    "            end = max(end, interval[1])\n",
    "        else:\n",
    "            merged.append([start, end])\n",
    "            start = interval[0]\n",
    "            end = interval[1]\n",
    "\n",
    "    merged.append([start, end])\n",
    "    return merged\n",
    "\n",
    "\n",
    "def main():\n",
    "    print(\"Intervals after inserting the new interval: \" + str(insert([[1, 3], [5, 7], [8, 12]], [4, 6])))\n",
    "    print(\"Intervals after inserting the new interval: \" + str(insert([[1, 3], [5, 7], [8, 12]], [4, 10])))\n",
    "    print(\"Intervals after inserting the new interval: \" + str(insert([[2, 3], [5, 7]], [1, 4])))\n",
    "\n",
    "\n",
    "main()\n"
   ]
  },
  {
   "cell_type": "code",
   "execution_count": 52,
   "metadata": {},
   "outputs": [],
   "source": [
    "def insert_1(intervals: List[List[int]], newInterval: List[int]) -> List[List[int]]:\n",
    "\n",
    "    sol = []\n",
    "    n = len(intervals)\n",
    "\n",
    "    if n == 0: return [newInterval]\n",
    "    if len(newInterval) == 0: return intervals\n",
    "\n",
    "    i = 0\n",
    "    start = 0\n",
    "    end = 1\n",
    "\n",
    "    while i < n and intervals[i][end] < newInterval[start]:\n",
    "        sol.append(intervals[i])\n",
    "        i += 1\n",
    "\n",
    "    while i < n and intervals[i][start] <= newInterval[end]:\n",
    "        newInterval[start] = min(intervals[i][start],newInterval[start])\n",
    "        newInterval[end] = max(intervals[i][end],newInterval[end])\n",
    "        i += 1\n",
    "\n",
    "    sol.append(newInterval)\n",
    "\n",
    "    while i < n:\n",
    "        sol.append(intervals[i])\n",
    "        i += 1\n",
    "\n",
    "    return sol"
   ]
  },
  {
   "cell_type": "code",
   "execution_count": 54,
   "metadata": {},
   "outputs": [
    {
     "data": {
      "text/plain": [
       "[[1, 3], [4, 7], [8, 12]]"
      ]
     },
     "execution_count": 54,
     "metadata": {},
     "output_type": "execute_result"
    }
   ],
   "source": [
    "insert_1([[1, 3], [5, 7], [8, 12]], [4, 6])"
   ]
  },
  {
   "cell_type": "code",
   "execution_count": null,
   "metadata": {},
   "outputs": [],
   "source": []
  }
 ],
 "metadata": {
  "kernelspec": {
   "display_name": "Python [conda env:py36] *",
   "language": "python",
   "name": "conda-env-py36-py"
  },
  "language_info": {
   "codemirror_mode": {
    "name": "ipython",
    "version": 3
   },
   "file_extension": ".py",
   "mimetype": "text/x-python",
   "name": "python",
   "nbconvert_exporter": "python",
   "pygments_lexer": "ipython3",
   "version": "3.6.9"
  },
  "toc-autonumbering": true
 },
 "nbformat": 4,
 "nbformat_minor": 4
}
