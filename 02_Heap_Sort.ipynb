{
 "cells": [
  {
   "cell_type": "markdown",
   "metadata": {},
   "source": [
    "- [Blog](https://msank00.github.io/blog/2019/10/22/blog_800_Crack_the_Code)"
   ]
  },
  {
   "cell_type": "code",
   "execution_count": 28,
   "metadata": {},
   "outputs": [],
   "source": [
    "# creating the max heap\n",
    "def heapify(arr:list,arr_len:int, start_ind:int):\n",
    "    \"\"\"\n",
    "    Args:\n",
    "        arr_len (int): length of the array\n",
    "        start_ind (int): start index, from where to start the heapify operation\n",
    "    \n",
    "    Return:\n",
    "        it's call by reference operation, so the input arr is modified by default in the callee function\n",
    "        the returned array is heapified from the initial starting index to the end of the array. \n",
    "    \"\"\"\n",
    "    parent = start_ind\n",
    "    largest = parent\n",
    "    left_child = 2*parent+1\n",
    "    right_child = 2*parent+2\n",
    "    \n",
    "    \n",
    "    \n",
    "    if left_child < arr_len and arr[largest] < arr[left_child]:\n",
    "        largest = left_child\n",
    "    \n",
    "    if right_child < arr_len and arr[largest] < arr[right_child]:\n",
    "        largest = right_child\n",
    "    \n",
    "    # check if the largest_idx != parent_idx\n",
    "    if largest != parent:\n",
    "        arr[largest] , arr[parent] = arr[parent], arr[largest]\n",
    "        heapify(arr, arr_len, largest)"
   ]
  },
  {
   "cell_type": "code",
   "execution_count": 36,
   "metadata": {},
   "outputs": [],
   "source": [
    "def heapsort(arr):\n",
    "    \"\"\"\n",
    "    Step 1: Build the initial max-heap.\n",
    "    Do this in bottom up fashion. Last array element is your leaf \n",
    "    element and go upwords to do the heapify operation in the for loop. Before you move to the previous tree level\n",
    "    make sure the current node and all it's decendents are properly heapified.\n",
    "    \n",
    "    Step 2: Do sorting on the max_heaped Array\n",
    "    In the max heap, the arr[root] is the max element. Swap it with the last element. After the swapping\n",
    "    except the last element in the array, the max heap property is lost for the remaining elements in the array\n",
    "    starting from root. So do heapify for arr[root to last_index-1] element. The last_index is decresed in a foor loop.  \n",
    "    \n",
    "    \"\"\"\n",
    "    n = len(arr)\n",
    "    # applying Step 1\n",
    "    for i in range(n, -1, -1):\n",
    "        heapify(arr, n, i)\n",
    "    \n",
    "    # applying Step 2\n",
    "    for i in range(n-1, -1, -1):\n",
    "        arr[0], arr[i] = arr[i], arr[0]\n",
    "        heapify(arr,i,0) "
   ]
  },
  {
   "cell_type": "code",
   "execution_count": 35,
   "metadata": {},
   "outputs": [
    {
     "name": "stdout",
     "output_type": "stream",
     "text": [
      "[5, 6, 7, 11, 12, 13]\n"
     ]
    }
   ],
   "source": [
    "arr = [ 12, 11, 13, 5, 6, 7] \n",
    "heapsort(arr)\n",
    "print(arr)"
   ]
  },
  {
   "cell_type": "code",
   "execution_count": null,
   "metadata": {},
   "outputs": [],
   "source": []
  }
 ],
 "metadata": {
  "kernelspec": {
   "display_name": "Python 3",
   "language": "python",
   "name": "python3"
  },
  "language_info": {
   "codemirror_mode": {
    "name": "ipython",
    "version": 3
   },
   "file_extension": ".py",
   "mimetype": "text/x-python",
   "name": "python",
   "nbconvert_exporter": "python",
   "pygments_lexer": "ipython3",
   "version": "3.6.9"
  }
 },
 "nbformat": 4,
 "nbformat_minor": 4
}
