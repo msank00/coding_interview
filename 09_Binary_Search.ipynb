{
 "cells": [
  {
   "cell_type": "code",
   "execution_count": 9,
   "metadata": {},
   "outputs": [],
   "source": [
    "from typing import List, Dict"
   ]
  },
  {
   "cell_type": "code",
   "execution_count": 18,
   "metadata": {},
   "outputs": [
    {
     "name": "stdout",
     "output_type": "stream",
     "text": [
      "2\n",
      "4\n",
      "0\n",
      "-1\n"
     ]
    }
   ],
   "source": [
    "def binary_search(arr, key):\n",
    "    \n",
    "    start, end = 0, len(arr) - 1\n",
    "    \n",
    "    sort_order = arr[start] < arr[end]\n",
    "    \n",
    "    while start <= end:\n",
    "        mid = start + (end - start) // 2\n",
    "        if arr[mid] == key: return mid\n",
    "        \n",
    "        if sort_order:\n",
    "            if key > arr[mid]: start = mid + 1\n",
    "            else: end = mid - 1\n",
    "        else:\n",
    "            if key > arr[mid]: end = mid - 1\n",
    "            else: start = mid + 1\n",
    "\n",
    "    return -1\n",
    "\n",
    "def main():\n",
    "    print(binary_search([4, 6, 10], 10))\n",
    "    print(binary_search([1, 2, 3, 4, 5, 6, 7], 5))\n",
    "    print(binary_search([10, 6, 4], 10))\n",
    "    print(binary_search([10, 6, 4], 14))\n",
    "\n",
    "\n",
    "main()"
   ]
  },
  {
   "cell_type": "markdown",
   "metadata": {},
   "source": [
    "# Binary Search in Infinite Array\n",
    "Given an infinite sorted array (or an array with unknown size), find if a given number ‘key’ is present in the array. Write a function to return the index of the ‘key’ if it is present in the array, otherwise return -1."
   ]
  },
  {
   "cell_type": "code",
   "execution_count": 35,
   "metadata": {},
   "outputs": [
    {
     "name": "stdout",
     "output_type": "stream",
     "text": [
      "6\n",
      "-1\n",
      "4\n",
      "-1\n"
     ]
    }
   ],
   "source": [
    "import math\n",
    "\n",
    "class ArrayReader:\n",
    "\n",
    "    def __init__(self, arr:List):\n",
    "        self.arr = arr\n",
    "\n",
    "    def get(self, index:int):\n",
    "        if index >= len(self.arr):\n",
    "            return math.inf\n",
    "        return self.arr[index]\n",
    "\n",
    "\n",
    "def search_in_infinite_array(reader: ArrayReader, key:int):\n",
    "        \n",
    "    start, end = 0, 1\n",
    "    while reader.get(end) < key:\n",
    "        newStart = end + 1\n",
    "        end += (end - start + 1) * 2\n",
    "        # increase to double the bounds size\n",
    "        start = newStart\n",
    "\n",
    "    return binary_search(reader.arr[0:end],key)\n",
    "    \n",
    "\n",
    "\n",
    "def main3():\n",
    "    reader = ArrayReader([4, 6, 8, 10, 12, 14, 16, 18, 20, 22, 24, 26, 28, 30])\n",
    "    print(search_in_infinite_array(reader, 16))\n",
    "    print(search_in_infinite_array(reader, 11))\n",
    "    reader = ArrayReader([1, 3, 8, 10, 15])\n",
    "    print(search_in_infinite_array(reader, 15))\n",
    "    print(search_in_infinite_array(reader, 200))\n",
    "\n",
    "\n",
    "main3()"
   ]
  },
  {
   "cell_type": "code",
   "execution_count": null,
   "metadata": {},
   "outputs": [],
   "source": []
  }
 ],
 "metadata": {
  "kernelspec": {
   "display_name": "Python 3",
   "language": "python",
   "name": "python3"
  },
  "language_info": {
   "codemirror_mode": {
    "name": "ipython",
    "version": 3
   },
   "file_extension": ".py",
   "mimetype": "text/x-python",
   "name": "python",
   "nbconvert_exporter": "python",
   "pygments_lexer": "ipython3",
   "version": "3.6.9"
  }
 },
 "nbformat": 4,
 "nbformat_minor": 4
}
