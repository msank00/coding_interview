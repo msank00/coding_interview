{
 "cells": [
  {
   "cell_type": "markdown",
   "metadata": {},
   "source": [
    "# Topological Sort\n",
    "\n",
    "\n",
    "![image](https://upload.wikimedia.org/wikipedia/commons/thumb/0/03/Directed_acyclic_graph_2.svg/270px-Directed_acyclic_graph_2.svg.png)\n",
    "\n",
    "\n",
    "Directed acyclic graph 2.svg\n",
    "The graph shown above has many valid topological sorts, including:\n",
    "\n",
    "```py\n",
    "5, 7, 3, 11, 8, 2, 9, 10 (visual left-to-right, top-to-bottom)\n",
    "3, 5, 7, 8, 11, 2, 9, 10 (smallest-numbered available vertex first)\n",
    "5, 7, 3, 8, 11, 10, 9, 2 (fewest edges first)\n",
    "7, 5, 11, 3, 10, 8, 9, 2 (largest-numbered available vertex first)\n",
    "5, 7, 11, 2, 3, 8, 9, 10 (attempting top-to-bottom, left-to-right)\n",
    "3, 7, 8, 5, 11, 10, 2, 9 (arbitrary)\n",
    "```"
   ]
  },
  {
   "cell_type": "code",
   "execution_count": 70,
   "metadata": {},
   "outputs": [
    {
     "name": "stdout",
     "output_type": "stream",
     "text": [
      "Topological sort: [3, 2, 0, 1]\n",
      "Topological sort: [4, 2, 3, 0, 1]\n",
      "Topological sort: [5, 6, 3, 4, 0, 2, 1]\n"
     ]
    }
   ],
   "source": [
    "from typing import List, Dict\n",
    "from collections import deque\n",
    "\n",
    "def init_graph(n_vertices:int, adj_list):\n",
    "    \"\"\"Initialize empty graph and indegree\"\"\"\n",
    "    indegree = {i:0 for i in range(n_vertices)}\n",
    "    graph = {i:[] for i in range(n_vertices)}\n",
    "    return indegree, graph\n",
    "\n",
    "def build_graph(indegree:Dict, graph: Dict, adj_list:List[List]):\n",
    "    \"\"\"Build graph and update the indegree\"\"\"\n",
    "    for edge in adj_list:\n",
    "        source, destination = edge[0], edge[1]\n",
    "        graph[source].append(destination)\n",
    "        indegree[destination] += 1\n",
    "        \n",
    "    return indegree, graph\n",
    "\n",
    "def topological_sort(indegree: Dict, graph:Dict)->List:\n",
    "    \n",
    "    # c. Find all sources i.e., all vertices with 0 in-degrees\n",
    "    sources = deque()\n",
    "    for key in indegree:\n",
    "        if indegree[key] == 0:\n",
    "            sources.append(key)\n",
    "    \n",
    "    sorted_list = []\n",
    "    \n",
    "    # d. For each source, add it to the sortedOrder and subtract one from all of its children's in-degrees\n",
    "    # if a child's in-degree becomes zero, add it to the sources queue\n",
    "    while sources:\n",
    "        \n",
    "        vertex = sources.popleft()\n",
    "        sorted_list.append(vertex)\n",
    "        \n",
    "        # get the node's children to decrement their in-degrees\n",
    "        for child in graph[vertex]:\n",
    "            indegree[child] -= 1\n",
    "            \n",
    "            if indegree[child] == 0:\n",
    "                sources.append(child)\n",
    "    \n",
    "    # topological sort is not possible as the graph has a cycle\n",
    "    n_vertices = len(indegree)\n",
    "    if len(sorted_list) != n_vertices: \n",
    "        print(\"[WARNING]: Topological sort is not possible as the graph has a cycle\")\n",
    "        return []\n",
    "    \n",
    "    return sorted_list\n",
    "\n",
    "def topological_sort_util(n_vertices:int, adj_list:List[List])->List:\n",
    "    \n",
    "    if n_vertices <= 0: return []\n",
    "    indegree, graph = init_graph(n_vertices, adj_list)\n",
    "    indegree, graph = build_graph(indegree, graph, adj_list)\n",
    "    return topological_sort(indegree, graph)\n",
    "    \n",
    "\n",
    "def main():\n",
    "    print(\"Topological sort: {}\".format(str(topological_sort_util(4, [[3, 2], [3, 0], [2, 0], [2, 1]]))))\n",
    "    print(\"Topological sort: {}\".format(str(topological_sort_util(5, [[4, 2], [4, 3], [2, 0], [2, 1], [3, 1]]))))\n",
    "    print(\"Topological sort: {}\".format(str(topological_sort_util(7, [[6, 4], [6, 2], [5, 3], [5, 4], [3, 0], [3, 1], [3, 2], [4, 1]]))))\n",
    "\n",
    "main()"
   ]
  },
  {
   "cell_type": "markdown",
   "metadata": {},
   "source": [
    "# Find if a given Directed Graph has a cycle in it or not."
   ]
  },
  {
   "cell_type": "markdown",
   "metadata": {},
   "source": [
    "- Find topological sort\n",
    "\n",
    "```py\n",
    "if len(sorted_list) != n_vertices: \n",
    "        print(\"[WARNING]: Topological sort is not possible as the graph has a cycle\")\n",
    "        return []\n",
    "```"
   ]
  },
  {
   "cell_type": "code",
   "execution_count": 76,
   "metadata": {},
   "outputs": [
    {
     "name": "stdout",
     "output_type": "stream",
     "text": [
      "Is scheduling possible: True\n",
      "Is scheduling possible: False\n",
      "Is scheduling possible: True\n"
     ]
    }
   ],
   "source": [
    "def is_scheduling_possible(indegree: Dict, graph: Dict):\n",
    "    \n",
    "    sorted_list = []\n",
    "    sources = deque()\n",
    "    for key in indegree.keys():\n",
    "        if indegree[key] == 0:\n",
    "            sources.append(key)\n",
    "            \n",
    "    while sources:\n",
    "        \n",
    "        vertex = sources.popleft()\n",
    "        sorted_list.append(vertex)\n",
    "        \n",
    "        for child in graph[vertex]:\n",
    "            \n",
    "            indegree[child] -= 1\n",
    "            \n",
    "            if indegree[child] == 0: sources.append(child)\n",
    "    \n",
    "    n_vertex = len(indegree)\n",
    "    if len(sorted_list) != n_vertex:\n",
    "        return False\n",
    "    else:\n",
    "        return True\n",
    "            \n",
    "\n",
    "def is_scheduling_possible_util(n_tasks:int, prerequisites:List[List]):\n",
    "    if n_tasks <= 0: return False\n",
    "    indegree, graph = init_graph(n_tasks, prerequisites)\n",
    "    indegree, graph = build_graph(indegree, graph, prerequisites)\n",
    "    return is_scheduling_possible(indegree, graph)\n",
    "    \n",
    "\n",
    "\n",
    "def main():\n",
    "    print(\"Is scheduling possible: \" + str(is_scheduling_possible_util(3, [[0, 1], [1, 2]])))\n",
    "    print(\"Is scheduling possible: \" + str(is_scheduling_possible_util(3, [[0, 1], [1, 2], [2, 0]])))\n",
    "    print(\"Is scheduling possible: \" + str(is_scheduling_possible_util(6, [[0, 4], [1, 4], [3, 2], [1, 3]])))\n",
    "\n",
    "main()"
   ]
  },
  {
   "cell_type": "code",
   "execution_count": null,
   "metadata": {},
   "outputs": [],
   "source": []
  }
 ],
 "metadata": {
  "kernelspec": {
   "display_name": "Python 3",
   "language": "python",
   "name": "python3"
  },
  "language_info": {
   "codemirror_mode": {
    "name": "ipython",
    "version": 3
   },
   "file_extension": ".py",
   "mimetype": "text/x-python",
   "name": "python",
   "nbconvert_exporter": "python",
   "pygments_lexer": "ipython3",
   "version": "3.6.9"
  }
 },
 "nbformat": 4,
 "nbformat_minor": 4
}
