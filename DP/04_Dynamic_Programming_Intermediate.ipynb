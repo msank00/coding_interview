{
 "cells": [
  {
   "cell_type": "code",
   "execution_count": 1,
   "metadata": {},
   "outputs": [],
   "source": [
    "import sys"
   ]
  },
  {
   "cell_type": "markdown",
   "metadata": {},
   "source": [
    "# Minimum insertions in a string to make it a palindrome\n",
    "\n",
    "Will the above approach work if we make insertions instead of deletions?\n",
    "\n",
    "Yes, the length of the Longest Palindromic Subsequence is the best palindromic subsequence we can have. Let’s take a few examples:\n",
    "\n",
    "**Example 1:**\n",
    "\n",
    "```java\n",
    "Input: \"abdbca\"   \n",
    "Output: 1  \n",
    "```\n",
    "\n",
    "Explanation: By inserting “c”, we get a palindrome “acbdbca”.\n",
    "\n",
    "**Example 2:**\n",
    "\n",
    "```java\n",
    "Input: = \"cddpd\"  \n",
    "Output: 2\n",
    "```"
   ]
  },
  {
   "cell_type": "markdown",
   "metadata": {},
   "source": [
    "## Recursive Solution"
   ]
  },
  {
   "cell_type": "code",
   "execution_count": 14,
   "metadata": {},
   "outputs": [],
   "source": [
    "def min_insert(st:str, start_idx:int, end_idx:int):\n",
    "    \n",
    "    #base solution\n",
    "    if start_idx > end_idx: return sys.maxsize\n",
    "    if start_idx == end_idx: return 0\n",
    "    if start_idx == end_idx - 1:\n",
    "        if st[start_idx] == st[end_idx]: return 0\n",
    "        else: return 1\n",
    "        \n",
    "    if st[start_idx] == st[end_idx]:\n",
    "        return min_insert(st, start_idx+1, end_idx-1)\n",
    "    else:\n",
    "        return 1 + min(min_insert(st, start_idx+1, end_idx), min_insert(st, start_idx, end_idx-1))"
   ]
  },
  {
   "cell_type": "code",
   "execution_count": 15,
   "metadata": {},
   "outputs": [
    {
     "data": {
      "text/plain": [
       "2"
      ]
     },
     "execution_count": 15,
     "metadata": {},
     "output_type": "execute_result"
    }
   ],
   "source": [
    "test_str = \"pqr\"\n",
    "n = len(test_str)\n",
    "min_insert(test_str, 0, n-1)"
   ]
  },
  {
   "cell_type": "markdown",
   "metadata": {},
   "source": [
    "## TopDown with Memoization"
   ]
  },
  {
   "cell_type": "code",
   "execution_count": 16,
   "metadata": {},
   "outputs": [],
   "source": [
    "def min_insert_top_down(st:str):\n",
    "    n = len(st)\n",
    "    dp = [[sys.maxsize for i in range(n)] for j in range(n)]\n",
    "    \n",
    "    return min_insert_top_down_recursive(st, dp, 0, n-1)\n",
    "\n",
    "def min_insert_top_down_recursive(st:str, dp, start_idx:int, end_idx:int):\n",
    "    #base solution\n",
    "    if start_idx > end_idx: return sys.maxsize\n",
    "    if start_idx == end_idx: return 0\n",
    "    if start_idx == end_idx - 1:\n",
    "        if st[start_idx] == st[end_idx]: return 0\n",
    "        else: return 1\n",
    "        \n",
    "    if dp[start_idx][end_idx] == sys.maxsize:\n",
    "        if st[start_idx] == st[end_idx]:\n",
    "            dp[start_idx][end_idx] = min_insert_top_down_recursive(st, dp, start_idx+1, end_idx-1)\n",
    "        else:\n",
    "            dp[start_idx][end_idx] = 1 + min(min_insert_top_down_recursive(st,dp, start_idx+1, end_idx), \n",
    "                                             min_insert_top_down_recursive(st,dp, start_idx, end_idx-1))\n",
    "        \n",
    "    return dp[start_idx][end_idx]\n",
    "    "
   ]
  },
  {
   "cell_type": "code",
   "execution_count": 17,
   "metadata": {},
   "outputs": [
    {
     "data": {
      "text/plain": [
       "2"
      ]
     },
     "execution_count": 17,
     "metadata": {},
     "output_type": "execute_result"
    }
   ],
   "source": [
    "test_str = \"pqr\"\n",
    "min_insert_top_down(test_str)"
   ]
  },
  {
   "cell_type": "code",
   "execution_count": null,
   "metadata": {},
   "outputs": [],
   "source": []
  }
 ],
 "metadata": {
  "kernelspec": {
   "display_name": "Python [conda env:py36] *",
   "language": "python",
   "name": "conda-env-py36-py"
  },
  "language_info": {
   "codemirror_mode": {
    "name": "ipython",
    "version": 3
   },
   "file_extension": ".py",
   "mimetype": "text/x-python",
   "name": "python",
   "nbconvert_exporter": "python",
   "pygments_lexer": "ipython3",
   "version": "3.6.9"
  },
  "toc-autonumbering": true
 },
 "nbformat": 4,
 "nbformat_minor": 4
}
