{
 "cells": [
  {
   "cell_type": "markdown",
   "metadata": {},
   "source": [
    "# Minimum Subset Sum\n",
    "\n",
    "Given a set of positive numbers, partition the set into two subsets with minimum difference between their subset sums.\n",
    "\n",
    "\n",
    "## Example 1:\n",
    "\n",
    "```java\n",
    "Input: {1, 2, 3, 9}\n",
    "Output: 3\n",
    "Explanation: We can partition the given set into two subsets where minimum absolute difference \n",
    "between the sum of numbers is '3'. Following are the two subsets: {1, 2, 3} & {9}.\n",
    "```\n",
    "\n",
    "## Example 2:\n",
    "\n",
    "```java\n",
    "Input: {1, 2, 7, 1, 5}\n",
    "Output: 0\n",
    "Explanation: We can partition the given set into two subsets where minimum absolute difference \n",
    "between the sum of number is '0'. Following are the two subsets: {1, 2, 5} & {7, 1}.\n",
    "```\n",
    "\n",
    "## Example 3:\n",
    "\n",
    "```java\n",
    "Input: {1, 3, 100, 4}\n",
    "Output: 92\n",
    "Explanation: We can partition the given set into two subsets where minimum absolute difference \n",
    "between the sum of numbers is '92'. Here are the two subsets: {1, 3, 4} & {100}.\n",
    "```"
   ]
  },
  {
   "cell_type": "code",
   "execution_count": 3,
   "metadata": {},
   "outputs": [
    {
     "name": "stdout",
     "output_type": "stream",
     "text": [
      "Can partition: 3\n",
      "Can partition: 0\n",
      "Can partition: 92\n"
     ]
    }
   ],
   "source": [
    "from typing import List\n",
    "\n",
    "def min_subset_sum(num:List):\n",
    "    total_sum = sum(num)\n",
    "    n = len(num)\n",
    "    target_sum = total_sum//2\n",
    "    closest_sum = min_subset_sum_util(num, target_sum)\n",
    "    return abs(total_sum - 2*closest_sum)\n",
    "    \n",
    "def fill_base_solution(dp:List[List[int]], target_sum:int,n:int, num:List):\n",
    "    # populate the s=0 columns, as we can always form '0' sum with an empty set\n",
    "    for i in range(0, n):\n",
    "        dp[i][0] = True\n",
    "\n",
    "    # with only one number, we can form a subset only when the required sum is equal to that number\n",
    "    for s in range(0, target_sum + 1):\n",
    "        dp[0][s] = num[0] == s\n",
    "        \n",
    "    return dp\n",
    "    \n",
    "def min_subset_sum_util(num:List, target_sum:int):\n",
    "    n = len(num)\n",
    "    dp = [[False for x in range(target_sum+1)] for y in range(n)]\n",
    "\n",
    "    dp = fill_base_solution(dp,target_sum,n,num)\n",
    "    \n",
    "\n",
    "    # process all subsets for all sums\n",
    "    for i in range(1, n):\n",
    "        for j in range(1, target_sum + 1):\n",
    "            # excluding number at index i\n",
    "            sol_exclude = dp[i - 1][j]\n",
    "\n",
    "            # including number at index i\n",
    "            sol_include = False\n",
    "            if num[i] <= j: sol_include = dp[i - 1][j - num[i]]\n",
    "            dp[i][j] = sol_exclude or sol_include\n",
    "\n",
    "    \n",
    "    closest_sum = get_closest_sum(dp,n,target_sum)\n",
    "    return closest_sum\n",
    "\n",
    "def get_closest_sum(dp:List[List[int]],n:int,target_sum:int):\n",
    "    # find the largest index in the last row which is true\n",
    "    for s in range(target_sum, -1, -1):\n",
    "        if dp[n - 1][s]:\n",
    "            return s\n",
    "            \n",
    "    return 0\n",
    "    \n",
    "\n",
    "def main():\n",
    "    print(\"Can partition: \" + str(min_subset_sum([1, 2, 3, 9])))\n",
    "    print(\"Can partition: \" + str(min_subset_sum([1, 2, 7, 1, 5])))\n",
    "    print(\"Can partition: \" + str(min_subset_sum([1, 3, 100, 4])))\n",
    "\n",
    "\n",
    "main()"
   ]
  },
  {
   "cell_type": "code",
   "execution_count": null,
   "metadata": {},
   "outputs": [],
   "source": []
  }
 ],
 "metadata": {
  "hide_input": false,
  "kernelspec": {
   "display_name": "Python [conda env:py36] *",
   "language": "python",
   "name": "conda-env-py36-py"
  },
  "language_info": {
   "codemirror_mode": {
    "name": "ipython",
    "version": 3
   },
   "file_extension": ".py",
   "mimetype": "text/x-python",
   "name": "python",
   "nbconvert_exporter": "python",
   "pygments_lexer": "ipython3",
   "version": "3.6.9"
  },
  "toc": {
   "base_numbering": 1,
   "nav_menu": {},
   "number_sections": true,
   "sideBar": true,
   "skip_h1_title": false,
   "title_cell": "Table of Contents",
   "title_sidebar": "Contents",
   "toc_cell": false,
   "toc_position": {},
   "toc_section_display": true,
   "toc_window_display": true
  },
  "varInspector": {
   "cols": {
    "lenName": 16,
    "lenType": 16,
    "lenVar": 40
   },
   "kernels_config": {
    "python": {
     "delete_cmd_postfix": "",
     "delete_cmd_prefix": "del ",
     "library": "var_list.py",
     "varRefreshCmd": "print(var_dic_list())"
    },
    "r": {
     "delete_cmd_postfix": ") ",
     "delete_cmd_prefix": "rm(",
     "library": "var_list.r",
     "varRefreshCmd": "cat(var_dic_list()) "
    }
   },
   "types_to_exclude": [
    "module",
    "function",
    "builtin_function_or_method",
    "instance",
    "_Feature"
   ],
   "window_display": false
  }
 },
 "nbformat": 4,
 "nbformat_minor": 2
}
