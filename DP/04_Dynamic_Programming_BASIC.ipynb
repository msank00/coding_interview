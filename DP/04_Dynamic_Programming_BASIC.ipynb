{
 "cells": [
  {
   "cell_type": "markdown",
   "metadata": {},
   "source": [
    "# Basic Dynamic Programming Problems\n",
    "- [Question Source: G4G](https://www.geeksforgeeks.org/dynamic-programming/)"
   ]
  },
  {
   "cell_type": "code",
   "execution_count": 31,
   "metadata": {},
   "outputs": [],
   "source": [
    "from typing import List, Dict\n",
    "import numpy as np\n",
    "import sys"
   ]
  },
  {
   "cell_type": "markdown",
   "metadata": {
    "toc-hr-collapsed": false
   },
   "source": [
    "## Q: Friends Pairing Problem\n",
    "\n",
    "Given n friends, each one can remain single or can be paired up with some other friend. Each friend can be paired only once. Find out the total number of ways in which friends can remain single or can be paired up. \n",
    "\n",
    "```py\n",
    "Input  : n = 3\n",
    "Output : 4\n",
    "\n",
    "Explanation\n",
    "{1}, {2}, {3} : all single\n",
    "{1}, {2, 3} : 2 and 3 paired but 1 is single.\n",
    "{1, 2}, {3} : 1 and 2 are paired but 3 is single.\n",
    "{1, 3}, {2} : 1 and 3 are paired but 2 is single.\n",
    "Note that {1, 2} and {2, 1} are considered same.\n",
    "```\n",
    "\n",
    "idea:\n",
    "- if 1 person only 1 way possible\n",
    "- if > 1, i can include the person in pairing or i can keep him as single\n",
    "\n"
   ]
  },
  {
   "cell_type": "markdown",
   "metadata": {},
   "source": [
    "### Recursive Solutoin"
   ]
  },
  {
   "cell_type": "code",
   "execution_count": null,
   "metadata": {},
   "outputs": [],
   "source": [
    "def friend_pairing_rec1(n:int):\n",
    "    \n",
    "    if n <= 0: return 0\n",
    "    if n == 1: return 1\n",
    "    if n == 2: return 2\n",
    "    \n",
    "    # recursive condition\n",
    "    # situation 1. keep one person single and solve for the rest \n",
    "    # situation 2. keep 2 person (either pair or single) and solve for the rest\n",
    "    \n",
    "    return 1+friend_pairing(n-1)+friend_pairing(n-2)\n",
    "\n",
    "def friend_pairing_rec2(n:int):\n",
    "    \n",
    "    if n <= 0: return 0\n",
    "    if n == 1: return 1\n",
    "    if n == 2: return 2\n",
    "    \n",
    "    # recursive condition\n",
    "    # situation 1. keep one person single and solve for the rest \n",
    "    # situation 2. keep 2 person (either pair or single) and solve for the rest\n",
    "    \n",
    "    return 1+friend_pairing(n-1)+(n-1)*friend_pairing(n-2)"
   ]
  },
  {
   "cell_type": "markdown",
   "metadata": {},
   "source": [
    "- solution 1: `friend_pairing_rec1()` [my solution]\n",
    "- solution 2: `friend_pairing_rec2()`\n",
    "\n",
    "**NOTE:**\n",
    "however, solution 1 is incorrect. beacuse situation 2 can be done not by `friend_pairing(n-2)` \n",
    "but by `(n-1)*friend_pairing(n-2)`. Because you can create the first pair by `(n-1)` ways, i.e, you pick the first person and he can be paired with anyone from `n-1`, so first pair can be possible in `n-1` ways and then multiplied by `friend_pairing(n-2)`"
   ]
  },
  {
   "cell_type": "code",
   "execution_count": null,
   "metadata": {},
   "outputs": [],
   "source": [
    "friend_pairing_rec1(4), friend_pairing_rec2(4)"
   ]
  },
  {
   "cell_type": "markdown",
   "metadata": {},
   "source": [
    "### Dynamic Formulation"
   ]
  },
  {
   "cell_type": "code",
   "execution_count": null,
   "metadata": {},
   "outputs": [],
   "source": [
    "def friend_pairing_dp(n_person:int):\n",
    "    \n",
    "    solution = [0]*(n_person+1)\n",
    "    \n",
    "    for i in range(n_person+1):\n",
    "        if i <=2:\n",
    "            solution[i] = i\n",
    "        else:\n",
    "            solution[i] = solution[i-1] + (i - 1)*solution[i-2]\n",
    "            \n",
    "    return solution[-1]"
   ]
  },
  {
   "cell_type": "code",
   "execution_count": null,
   "metadata": {},
   "outputs": [],
   "source": [
    "friend_pairing_dp(4)"
   ]
  },
  {
   "cell_type": "markdown",
   "metadata": {},
   "source": [
    "## Gold Mine Problem\n",
    "\n",
    "Given a gold mine of `n*m` dimensions. Each field in this mine contains a positive integer which is the amount of gold in tons. Initially the miner is at first column but can be at any row. He can move only (`right->`,`right up /`,`right down\\`) that is from a given cell, the miner can move to the cell `diagonally up`, `towards the right` or right or `diagonally down towards the right`. Find out `maximum amount of gold he can collect`. \n",
    "\n",
    "**Asked in Flipkart**"
   ]
  },
  {
   "cell_type": "code",
   "execution_count": null,
   "metadata": {},
   "outputs": [],
   "source": [
    "def getMaxGold(gold:List[List], \n",
    "               n_row:int, \n",
    "               n_col:int):\n",
    "    \n",
    "    sol = [ [0 for i in range(n_col)] for j in range(n_row)]\n",
    "    \n",
    "    for col in range(n_col-1, -1, -1):\n",
    "        for row in range(n_row):\n",
    "            \n",
    "            # extreme right, can't get the right subproblem solution\n",
    "            if (col == n_col -1): right = 0\n",
    "            else: right = sol[row][col+1]\n",
    "                \n",
    "            # top row and extreme right: can't get the right upward subproblem solution\n",
    "            if row == 0 or col == n_col - 1: right_up = 0\n",
    "            else: right_up = sol[row-1][col+1]\n",
    "                \n",
    "            # bottom row and extreme right: can't get the right down subproblem solution\n",
    "            if row == n_row - 1 or col == n_col - 1: right_down = 0\n",
    "            else: right_down = sol[row+1][col+1]\n",
    "                \n",
    "            sol[row][col] = gold[row][col] + max(right, right_up, right_down)\n",
    "    \n",
    "    return sol"
   ]
  },
  {
   "cell_type": "code",
   "execution_count": null,
   "metadata": {},
   "outputs": [],
   "source": [
    "# Driver code \n",
    "gold = [\n",
    "    [1, 3, 1, 5], \n",
    "    [2, 2, 4, 1], \n",
    "    [5, 0, 2, 3], \n",
    "    [0, 6, 1, 2]\n",
    "] \n",
    "\n",
    "gold_mat = np.matrix(gold)\n",
    "n_row = gold_mat.shape[0]\n",
    "n_col = gold_mat.shape[1]\n",
    "  \n",
    "max(max(getMaxGold(gold, n_row, n_col)))"
   ]
  },
  {
   "cell_type": "markdown",
   "metadata": {},
   "source": [
    "## Cutting a Rod\n",
    "\n",
    "Given a rod of length n inches and an array of prices that contains prices of all pieces of size smaller than n. Determine the maximum value obtainable by cutting up the rod and selling the pieces. For example, if length of the rod is 8 and the values of different pieces are given as following, then the maximum obtainable value is 22 (by cutting in two pieces of lengths 2 and 6)\n",
    "\n",
    "```\n",
    "length   | 1   2   3   4   5   6   7   8  \n",
    "--------------------------------------------\n",
    "price    | 1   5   8   9  10  17  17  20\n",
    "```\n",
    "\n",
    "And if the prices are as following, then the maximum obtainable value is 24 (by cutting in eight pieces of length 1)\n",
    "\n",
    "```\n",
    "length   | 1   2   3   4   5   6   7   8  \n",
    "--------------------------------------------\n",
    "price    | 3   5   8   9  10  17  17  20\n",
    "```"
   ]
  },
  {
   "cell_type": "markdown",
   "metadata": {},
   "source": [
    "### Idea\n",
    "\n",
    "- $i^{th}$ subproblem solution contains solution for the rod length upto $i$ inches\n",
    "- for a rod of `i` inches you can put a cut at position `j` where $0 \\lt j \\lt i$\n",
    "- for $j^{th}$ cutpoint, solution is `price[j] + solution(rod_length - j)`"
   ]
  },
  {
   "cell_type": "code",
   "execution_count": 4,
   "metadata": {},
   "outputs": [],
   "source": [
    "import sys"
   ]
  },
  {
   "cell_type": "code",
   "execution_count": null,
   "metadata": {},
   "outputs": [],
   "source": [
    "def cutting_rod(length:List, price:List):\n",
    "    \n",
    "    total_rod_length = length[-1]\n",
    "\n",
    "    sol = [0 for i in range(total_rod_length+1)]\n",
    "    sol[0] = 0\n",
    "\n",
    "    for rod_length in range(1,total_rod_length+1):\n",
    "        max_val = -sys.maxsize\n",
    "        for cutpoint in range(rod_length):\n",
    "            max_val = max(max_val, price[cutpoint]+sol[rod_length - cutpoint - 1])\n",
    "\n",
    "        sol[rod_length] = max_val\n",
    "\n",
    "    return sol[-1]"
   ]
  },
  {
   "cell_type": "code",
   "execution_count": null,
   "metadata": {},
   "outputs": [],
   "source": [
    "length = [1,2,3,4,5,6,7,8]\n",
    "price = [3,5,8,9,10,17,17,20] \n",
    "cutting_rod(length, price)"
   ]
  },
  {
   "cell_type": "markdown",
   "metadata": {},
   "source": [
    "\n",
    "## Egg Dropping Puzzle\n",
    "\n",
    "There are `n number of eggs` and building which has `k floors`. Write an algorithm to find the `minimum number of drops` is required `to know the floor from which if egg is dropped, it will break`.\n",
    "\n",
    "- [Q link](https://algorithms.tutorialhorizon.com/dynamic-programming-egg-dropping-problem/)"
   ]
  },
  {
   "cell_type": "markdown",
   "metadata": {},
   "source": [
    "###  Optimal Substructure:\n",
    "\n",
    "When we drop an egg from a floor x, there can be two cases.\n",
    "\n",
    "**(1) The egg breaks**\n",
    "- If the egg breaks after dropping from xth floor, then we only need to check for floors lower than x with remaining eggs; so the problem reduces to `x-1` floors and `n-1` eggs\n",
    "\n",
    "**(2) The egg doesn’t break**\n",
    "- If the egg doesn’t break after dropping from the xth floor, then we only need to check for floors higher than x; so the problem reduces to `k-x` floors and `n` eggs."
   ]
  },
  {
   "cell_type": "markdown",
   "metadata": {},
   "source": [
    "### Basic Idea\n",
    "\n",
    "**Approach:**\n",
    "\n",
    "N eggs, k floors\n",
    "\n",
    "Recursion:  try dropping an egg from each floor from 1 to k and calculate the `minimum number of dropping needed` in worst case.\n",
    "\n",
    "- Base cases\n",
    "  - Eggs: `1`, floors: `x` : play safe and drop from floor 1, if egg does not break then drop from floor 2 and so on. So in worst case `x` times an egg needs to be dropped to find the solution.\n",
    "  - Floors = 0: No trials are required.\n",
    "  - Floors = 1: 1 trails is required.\n",
    "- For rest of the case, if an egg is dropped from `xth` floor then there are only 2 outcomes which are possible. Either `egg will break` OR `egg will not break`.\n",
    "  - If Egg breaks: check the floors lower than x. So problem is reduced is n-1 eggs and x-1 floors.\n",
    "  - If egg does not break: check the floors higher than x floors with all the n eggs are remaining. So problem is reduced to n eggs and k-x floors."
   ]
  },
  {
   "cell_type": "markdown",
   "metadata": {},
   "source": [
    "### Key Idea:\n",
    "\n",
    "- Final output is `minimum number of drops`\n",
    "- Solve this problem for `each floor` and get the `max` number of drops needed\n",
    "  - therefore, there is a `for` loop in the recursion and there exist a `3rd for` loop in the DP solution\n",
    "- Then take the `min` out of all the solution for each floor"
   ]
  },
  {
   "cell_type": "code",
   "execution_count": 32,
   "metadata": {},
   "outputs": [],
   "source": [
    "def egg_drop_rec(n_eggs:int, k_floors:int):\n",
    "    \n",
    "    # If there are no floors, then no trials \n",
    "    # needed. OR if there is one floor, one \n",
    "    # trial needed. \n",
    "    if k_floors == 1 or k_floors == 0: return k_floors\n",
    "    \n",
    "    # We need k trials for one egg and k floors \n",
    "    if n_eggs == 1: return k_floors\n",
    "    \n",
    "    \n",
    "    min_trial = sys.maxsize\n",
    "    \n",
    "    for i in range(1,k_floors+1):\n",
    "        res = 1+max(egg_drop_rec(n_eggs-1, i -1), egg_drop_rec(n_eggs, k_floors - i))\n",
    "        if res < min_trial: min_trial = res\n",
    "        \n",
    "    return min_trial"
   ]
  },
  {
   "cell_type": "code",
   "execution_count": 33,
   "metadata": {},
   "outputs": [],
   "source": [
    "def egg_drop_dp(n_eggs:int, k_floors:int):\n",
    "    \n",
    "    sol = [[0 for i in range(k_floors+1)] for j in range(n_eggs+1)] \n",
    "    \n",
    "    # base case 1:\n",
    "    # if there are no floors no trials\n",
    "    # if there are 1 floor, 1 trial\n",
    "    for egg in range(1,n_eggs+1):\n",
    "        sol[egg][1] = 1\n",
    "        sol[egg][0] = 0\n",
    "        \n",
    "    # base case 2\n",
    "    # if there are 1 egg and k floor: then k trials\n",
    "    for floor in range(1,k_floors+1):\n",
    "        sol[1][floor] = floor\n",
    "        \n",
    "    for egg in range(2,n_eggs+1):\n",
    "        for floor in range(2,k_floors+1):\n",
    "            \n",
    "            \n",
    "            sol[egg][floor] = sys.maxsize\n",
    "            \n",
    "            for floor_idx in range(1, floor+1):\n",
    "                res = 1+max(sol[egg-1][floor_idx - 1],sol[egg][floor - floor_idx])\n",
    "                if res < sol[egg][floor]: sol[egg][floor] = res\n",
    "                    \n",
    "    return sol[-1][-1]\n",
    "    "
   ]
  },
  {
   "cell_type": "code",
   "execution_count": 30,
   "metadata": {},
   "outputs": [
    {
     "data": {
      "text/plain": [
       "4"
      ]
     },
     "execution_count": 30,
     "metadata": {},
     "output_type": "execute_result"
    }
   ],
   "source": [
    "n_eggs = 2\n",
    "k_floors = 10\n",
    "egg_drop_rec(n_eggs,k_floors)"
   ]
  },
  {
   "cell_type": "code",
   "execution_count": null,
   "metadata": {},
   "outputs": [],
   "source": []
  }
 ],
 "metadata": {
  "hide_input": false,
  "kernelspec": {
   "display_name": "Python [conda env:py36] *",
   "language": "python",
   "name": "conda-env-py36-py"
  },
  "language_info": {
   "codemirror_mode": {
    "name": "ipython",
    "version": 3
   },
   "file_extension": ".py",
   "mimetype": "text/x-python",
   "name": "python",
   "nbconvert_exporter": "python",
   "pygments_lexer": "ipython3",
   "version": "3.6.9"
  },
  "toc": {
   "base_numbering": 1,
   "nav_menu": {},
   "number_sections": true,
   "sideBar": true,
   "skip_h1_title": false,
   "title_cell": "Table of Contents",
   "title_sidebar": "Contents",
   "toc_cell": false,
   "toc_position": {},
   "toc_section_display": true,
   "toc_window_display": true
  },
  "toc-autonumbering": true,
  "toc-showmarkdowntxt": false,
  "toc-showtags": false,
  "varInspector": {
   "cols": {
    "lenName": 16,
    "lenType": 16,
    "lenVar": 40
   },
   "kernels_config": {
    "python": {
     "delete_cmd_postfix": "",
     "delete_cmd_prefix": "del ",
     "library": "var_list.py",
     "varRefreshCmd": "print(var_dic_list())"
    },
    "r": {
     "delete_cmd_postfix": ") ",
     "delete_cmd_prefix": "rm(",
     "library": "var_list.r",
     "varRefreshCmd": "cat(var_dic_list()) "
    }
   },
   "types_to_exclude": [
    "module",
    "function",
    "builtin_function_or_method",
    "instance",
    "_Feature"
   ],
   "window_display": false
  }
 },
 "nbformat": 4,
 "nbformat_minor": 4
}
