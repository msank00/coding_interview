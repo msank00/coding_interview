{
 "cells": [
  {
   "cell_type": "code",
   "execution_count": 5,
   "metadata": {},
   "outputs": [
    {
     "name": "stdout",
     "output_type": "stream",
     "text": [
      "14\n"
     ]
    }
   ],
   "source": [
    "from typing import List\n",
    "def rod_cutting(lengths:List, price:List, target_length:int):\n",
    "    \"\"\"Returns maximum price\n",
    "    \"\"\"\n",
    "    if len(lengths) != len(price): return -1\n",
    "    return rod_cutting_util(lengths, price, target_length, 0)\n",
    "\n",
    "def rod_cutting_util(lengths:List, price:List, target_length:int, idx:int):\n",
    "    \"\"\"Returns maximum price\n",
    "    \"\"\"\n",
    "    # base condition\n",
    "    if target_length <= 0 or idx>=len(price): return 0\n",
    "    \n",
    "    #include and unobunded so don't increase idx\n",
    "    price_include = 0\n",
    "    if lengths[idx]<=target_length:\n",
    "        price_include = price[idx] + rod_cutting_util(lengths,\n",
    "                                                      price,\n",
    "                                                      target_length - lengths[idx],idx)\n",
    "    price_exclude = rod_cutting_util(lengths, price, target_length, idx + 1)\n",
    "    \n",
    "    return max(price_include, price_exclude)\n",
    "\n",
    "print(rod_cutting([1, 2, 3, 4, 5], [2, 6, 7, 10, 13], 5))"
   ]
  },
  {
   "cell_type": "code",
   "execution_count": null,
   "metadata": {},
   "outputs": [],
   "source": []
  }
 ],
 "metadata": {
  "kernelspec": {
   "display_name": "Python [conda env:py36] *",
   "language": "python",
   "name": "conda-env-py36-py"
  },
  "language_info": {
   "codemirror_mode": {
    "name": "ipython",
    "version": 3
   },
   "file_extension": ".py",
   "mimetype": "text/x-python",
   "name": "python",
   "nbconvert_exporter": "python",
   "pygments_lexer": "ipython3",
   "version": "3.6.9"
  }
 },
 "nbformat": 4,
 "nbformat_minor": 4
}
