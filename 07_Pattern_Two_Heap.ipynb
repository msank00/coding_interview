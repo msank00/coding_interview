{
 "cells": [
  {
   "cell_type": "markdown",
   "metadata": {},
   "source": [
    "# Find the Median of a Number Stream (medium)\n",
    "**Problem Statement:** Design a class to calculate the median of a number stream. The class should have the following two methods:\n",
    "\n",
    "- `insertNum(int num)`: stores the number in the class\n",
    "- `findMedian()`: returns the median of all numbers inserted in the class\n",
    "\n",
    "If the count of numbers inserted in the class is even, the median will be the average of the middle two numbers.\n",
    "\n",
    "## Example 1:\n",
    "\n",
    "```java\n",
    "1. insertNum(3)\n",
    "2. insertNum(1)\n",
    "3. findMedian() -> output: 2\n",
    "4. insertNum(5)\n",
    "5. findMedian() -> output: 3\n",
    "6. insertNum(4)\n",
    "7. findMedian() -> output: 3.5\n",
    "```"
   ]
  },
  {
   "cell_type": "code",
   "execution_count": 15,
   "metadata": {},
   "outputs": [],
   "source": [
    "from heapq import heappush, heappop"
   ]
  },
  {
   "cell_type": "code",
   "execution_count": 20,
   "metadata": {},
   "outputs": [],
   "source": [
    "class MedianOfStream:\n",
    "    \n",
    "    maxHeap = [] # first half of the number\n",
    "    minHeap = [] # second half of the number\n",
    "    def insert_num(self, num:int):\n",
    "        # maxHeap will have 1 element extra than meanHeap\n",
    "        if not self.maxHeap or -self.maxHeap[0]>=num:\n",
    "            heappush(self.maxHeap, -num)\n",
    "        else:\n",
    "            heappush(self.minHeap, num)\n",
    "        \n",
    "        self.balance(self.maxHeap, self.minHeap)\n",
    "    \n",
    "    def balance(self, maxHeap, minHeap):\n",
    "        \n",
    "        # balance the 2 heap\n",
    "        \n",
    "        if len(self.maxHeap) > len(self.minHeap) + 1:\n",
    "            heappush(self.minHeap, -heappop(self.maxHeap))\n",
    "        elif len(self.maxHeap) < len(self.minHeap):\n",
    "            heappush(self.maxHeap, -heappop(self.minHeap))\n",
    "            \n",
    "    \n",
    "    def find_median(self):\n",
    "        if len(self.maxHeap) == len(self.minHeap):\n",
    "            return ((-self.maxHeap[0])+self.minHeap[0])/2.0\n",
    "        else:\n",
    "            return (-self.maxHeap[0]) / 1.0"
   ]
  },
  {
   "cell_type": "markdown",
   "metadata": {},
   "source": [
    "**Note:** The default implementation of heap in python is `minHeap`. So to use `minHeap` as `maxHeap` \n",
    "- while push, negate the number first\n",
    "- while pop/return top, negate after pop or return to make the returned number positive"
   ]
  },
  {
   "cell_type": "code",
   "execution_count": 21,
   "metadata": {},
   "outputs": [
    {
     "name": "stdout",
     "output_type": "stream",
     "text": [
      "The median is: 2.0\n",
      "The median is: 3.0\n",
      "The median is: 3.5\n"
     ]
    }
   ],
   "source": [
    "def main():\n",
    "    medianOfAStream = MedianOfStream()\n",
    "    medianOfAStream.insert_num(3)\n",
    "    medianOfAStream.insert_num(1)\n",
    "    print(\"The median is: \" + str(medianOfAStream.find_median()))\n",
    "    medianOfAStream.insert_num(5)\n",
    "    print(\"The median is: \" + str(medianOfAStream.find_median()))\n",
    "    medianOfAStream.insert_num(4)\n",
    "    print(\"The median is: \" + str(medianOfAStream.find_median()))\n",
    "    \n",
    "main()"
   ]
  },
  {
   "cell_type": "code",
   "execution_count": null,
   "metadata": {},
   "outputs": [],
   "source": []
  }
 ],
 "metadata": {
  "kernelspec": {
   "display_name": "Python 3",
   "language": "python",
   "name": "python3"
  },
  "language_info": {
   "codemirror_mode": {
    "name": "ipython",
    "version": 3
   },
   "file_extension": ".py",
   "mimetype": "text/x-python",
   "name": "python",
   "nbconvert_exporter": "python",
   "pygments_lexer": "ipython3",
   "version": "3.6.9"
  },
  "toc": {
   "base_numbering": 1,
   "nav_menu": {},
   "number_sections": true,
   "sideBar": true,
   "skip_h1_title": false,
   "title_cell": "Table of Contents",
   "title_sidebar": "Contents",
   "toc_cell": false,
   "toc_position": {},
   "toc_section_display": true,
   "toc_window_display": true
  }
 },
 "nbformat": 4,
 "nbformat_minor": 2
}
