{
 "cells": [
  {
   "cell_type": "markdown",
   "metadata": {},
   "source": [
    "# Linkedlist problems"
   ]
  },
  {
   "cell_type": "code",
   "execution_count": 1,
   "metadata": {},
   "outputs": [],
   "source": [
    "class LinkedList:\n",
    "    def __init__(self, data:int):\n",
    "        self.data = data\n",
    "        self.next = None"
   ]
  },
  {
   "cell_type": "code",
   "execution_count": 33,
   "metadata": {},
   "outputs": [],
   "source": [
    "def get_regular_linklist():\n",
    "    head = LinkedList(1)\n",
    "    head.next = LinkedList(2)\n",
    "    head.next.next = LinkedList(3)\n",
    "    head.next.next.next = LinkedList(4) \n",
    "    head.next.next.next.next = LinkedList(5) \n",
    "    head.next.next.next.next.next = LinkedList(6)\n",
    "    head.next.next.next.next.next.next = LinkedList(7)\n",
    "    \n",
    "    return head"
   ]
  },
  {
   "cell_type": "code",
   "execution_count": 34,
   "metadata": {},
   "outputs": [],
   "source": [
    "def get_circular_linklist():\n",
    "    head = LinkedList(1)\n",
    "    head.next = LinkedList(2)\n",
    "    head.next.next = LinkedList(3)\n",
    "    head.next.next.next = LinkedList(4) \n",
    "    head.next.next.next.next = LinkedList(5) \n",
    "    head.next.next.next.next.next = LinkedList(6)\n",
    "    head.next.next.next.next.next.next = LinkedList(7)\n",
    "    head.next.next.next.next.next.next.next = head.next.next.next\n",
    "    \n",
    "    return head"
   ]
  },
  {
   "cell_type": "markdown",
   "metadata": {},
   "source": [
    "# Print the Linkedlist"
   ]
  },
  {
   "cell_type": "code",
   "execution_count": 37,
   "metadata": {},
   "outputs": [],
   "source": [
    "def print_linklist(head: LinkedList):\n",
    "    while head:\n",
    "        print(f\"{head.data}\")\n",
    "        head = head.next"
   ]
  },
  {
   "cell_type": "markdown",
   "metadata": {},
   "source": [
    "# Find middle element of the linkedlist"
   ]
  },
  {
   "cell_type": "code",
   "execution_count": 4,
   "metadata": {},
   "outputs": [],
   "source": [
    "def print_middle(head: LinkedList):\n",
    "    slow = head\n",
    "    fast = head\n",
    "    \n",
    "    while (fast and fast.next):\n",
    "        fast = fast.next.next\n",
    "        slow = slow.next\n",
    "    \n",
    "    return slow.data"
   ]
  },
  {
   "cell_type": "markdown",
   "metadata": {},
   "source": [
    "# Check if a linked list is circular or not"
   ]
  },
  {
   "cell_type": "code",
   "execution_count": 24,
   "metadata": {},
   "outputs": [],
   "source": [
    "def check_circular_list(head: LinkedList):\n",
    "    slow = head\n",
    "    fast = head\n",
    "    print(f\"slow: {slow.data}, fast: {fast.data}\")\n",
    "    \n",
    "    while (fast and fast.next):\n",
    "        fast = fast.next.next\n",
    "        slow = slow.next\n",
    "        print(f\"slow: {slow.data}, fast: {fast.data}\")\n",
    "        \n",
    "        if (slow.data == fast.data):\n",
    "            print(\"It's a circular list\")\n",
    "            return 1\n",
    "    \n",
    "    print(\"not a cirucular list\")\n",
    "    return -1"
   ]
  },
  {
   "cell_type": "markdown",
   "metadata": {},
   "source": [
    "# Reverse linklist"
   ]
  },
  {
   "cell_type": "code",
   "execution_count": 38,
   "metadata": {},
   "outputs": [],
   "source": [
    "def rever_linklist(head: LinkedList):\n",
    "    print(\"before reversing\")\n",
    "    print_linklist(head)\n",
    "    \n",
    "    prev = None\n",
    "    cur = head\n",
    "    cur_next = cur.next\n",
    "    \n",
    "    while cur_next:\n",
    "        cur.next = prev\n",
    "        prev = cur\n",
    "        cur = cur_next\n",
    "        cur_next = cur.next\n",
    "    \n",
    "    cur.next = prev\n",
    "    head = cur\n",
    "    \n",
    "    print(\"after reversing\")\n",
    "    print_linklist(head)"
   ]
  },
  {
   "cell_type": "code",
   "execution_count": 29,
   "metadata": {},
   "outputs": [],
   "source": []
  },
  {
   "cell_type": "code",
   "execution_count": 32,
   "metadata": {},
   "outputs": [
    {
     "name": "stdout",
     "output_type": "stream",
     "text": [
      "slow: 1, fast: 1\n",
      "slow: 2, fast: 3\n",
      "slow: 3, fast: 5\n",
      "slow: 4, fast: 7\n",
      "not a cirucular list\n"
     ]
    },
    {
     "data": {
      "text/plain": [
       "-1"
      ]
     },
     "execution_count": 32,
     "metadata": {},
     "output_type": "execute_result"
    }
   ],
   "source": [
    "check_circular_list(get_regular_linklist())"
   ]
  },
  {
   "cell_type": "code",
   "execution_count": 12,
   "metadata": {},
   "outputs": [
    {
     "name": "stdout",
     "output_type": "stream",
     "text": [
      "1\n",
      "2\n",
      "3\n",
      "4\n",
      "5\n",
      "6\n",
      "7\n"
     ]
    }
   ],
   "source": [
    "print_linklist(head)"
   ]
  },
  {
   "cell_type": "code",
   "execution_count": 39,
   "metadata": {},
   "outputs": [
    {
     "name": "stdout",
     "output_type": "stream",
     "text": [
      "before reversing\n",
      "1\n",
      "2\n",
      "3\n",
      "4\n",
      "5\n",
      "6\n",
      "7\n",
      "after reversing\n",
      "7\n",
      "6\n",
      "5\n",
      "4\n",
      "3\n",
      "2\n",
      "1\n"
     ]
    }
   ],
   "source": [
    "rever_linklist(get_regular_linklist())"
   ]
  },
  {
   "cell_type": "code",
   "execution_count": 13,
   "metadata": {},
   "outputs": [
    {
     "data": {
      "text/plain": [
       "4"
      ]
     },
     "execution_count": 13,
     "metadata": {},
     "output_type": "execute_result"
    }
   ],
   "source": [
    "print_middle(head)"
   ]
  },
  {
   "cell_type": "code",
   "execution_count": null,
   "metadata": {},
   "outputs": [],
   "source": []
  }
 ],
 "metadata": {
  "hide_input": false,
  "kernelspec": {
   "display_name": "Python [conda env:py36] *",
   "language": "python",
   "name": "conda-env-py36-py"
  },
  "language_info": {
   "codemirror_mode": {
    "name": "ipython",
    "version": 3
   },
   "file_extension": ".py",
   "mimetype": "text/x-python",
   "name": "python",
   "nbconvert_exporter": "python",
   "pygments_lexer": "ipython3",
   "version": "3.6.9"
  },
  "toc": {
   "base_numbering": 1,
   "nav_menu": {},
   "number_sections": true,
   "sideBar": true,
   "skip_h1_title": false,
   "title_cell": "Table of Contents",
   "title_sidebar": "Contents",
   "toc_cell": false,
   "toc_position": {
    "height": "calc(100% - 180px)",
    "left": "10px",
    "top": "150px",
    "width": "165px"
   },
   "toc_section_display": true,
   "toc_window_display": true
  },
  "varInspector": {
   "cols": {
    "lenName": 16,
    "lenType": 16,
    "lenVar": 40
   },
   "kernels_config": {
    "python": {
     "delete_cmd_postfix": "",
     "delete_cmd_prefix": "del ",
     "library": "var_list.py",
     "varRefreshCmd": "print(var_dic_list())"
    },
    "r": {
     "delete_cmd_postfix": ") ",
     "delete_cmd_prefix": "rm(",
     "library": "var_list.r",
     "varRefreshCmd": "cat(var_dic_list()) "
    }
   },
   "types_to_exclude": [
    "module",
    "function",
    "builtin_function_or_method",
    "instance",
    "_Feature"
   ],
   "window_display": false
  }
 },
 "nbformat": 4,
 "nbformat_minor": 4
}
