{
 "cells": [
  {
   "cell_type": "markdown",
   "metadata": {},
   "source": [
    "# Basic Dynamic Programming Problems\n",
    "- [Question Source: G4G](https://www.geeksforgeeks.org/dynamic-programming/)"
   ]
  },
  {
   "cell_type": "markdown",
   "metadata": {},
   "source": [
    "## Q: Friends Pairing Problem\n",
    "\n",
    "Given n friends, each one can remain single or can be paired up with some other friend. Each friend can be paired only once. Find out the total number of ways in which friends can remain single or can be paired up. \n",
    "\n",
    "```py\n",
    "Input  : n = 3\n",
    "Output : 4\n",
    "\n",
    "Explanation\n",
    "{1}, {2}, {3} : all single\n",
    "{1}, {2, 3} : 2 and 3 paired but 1 is single.\n",
    "{1, 2}, {3} : 1 and 2 are paired but 3 is single.\n",
    "{1, 3}, {2} : 1 and 3 are paired but 2 is single.\n",
    "Note that {1, 2} and {2, 1} are considered same.\n",
    "```\n",
    "\n",
    "idea:\n",
    "- if 1 person only 1 way possible\n",
    "- if > 1, i can include the person in pairing or i can keep him as single\n",
    "\n"
   ]
  },
  {
   "cell_type": "markdown",
   "metadata": {},
   "source": [
    "### Recursive Solutoin"
   ]
  },
  {
   "cell_type": "code",
   "execution_count": 12,
   "metadata": {},
   "outputs": [],
   "source": [
    "def friend_pairing_rec1(n:int):\n",
    "    \n",
    "    if n <= 0: return 0\n",
    "    if n == 1: return 1\n",
    "    if n == 2: return 2\n",
    "    \n",
    "    # recursive condition\n",
    "    # situation 1. keep one person single and solve for the rest \n",
    "    # situation 2. keep 2 person (either pair or single) and solve for the rest\n",
    "    \n",
    "    return 1+friend_pairing(n-1)+friend_pairing(n-2)\n",
    "\n",
    "def friend_pairing_rec2(n:int):\n",
    "    \n",
    "    if n <= 0: return 0\n",
    "    if n == 1: return 1\n",
    "    if n == 2: return 2\n",
    "    \n",
    "    # recursive condition\n",
    "    # situation 1. keep one person single and solve for the rest \n",
    "    # situation 2. keep 2 person (either pair or single) and solve for the rest\n",
    "    \n",
    "    return 1+friend_pairing(n-1)+(n-1)*friend_pairing(n-2)"
   ]
  },
  {
   "cell_type": "markdown",
   "metadata": {},
   "source": [
    "- solution 1: `friend_pairing_rec1()` [my solution]\n",
    "- solution 2: `friend_pairing_rec2()`\n",
    "\n",
    "**NOTE:**\n",
    "however, solution 1 is incorrect. beacuse situation 2 can be done not by `friend_pairing(n-2)` \n",
    "but by `(n-1)*friend_pairing(n-2)`. Because you can create the first pair by `(n-1)` ways, i.e, you pick the first person and he can be paired with anyone from `n-1`, so first pair can be possible in `n-1` ways and then multiplied by `friend_pairing(n-2)`"
   ]
  },
  {
   "cell_type": "code",
   "execution_count": 15,
   "metadata": {},
   "outputs": [
    {
     "data": {
      "text/plain": [
       "(6, 10)"
      ]
     },
     "execution_count": 15,
     "metadata": {},
     "output_type": "execute_result"
    }
   ],
   "source": [
    "friend_pairing_rec1(4), friend_pairing_rec2(4)"
   ]
  },
  {
   "cell_type": "markdown",
   "metadata": {},
   "source": [
    "### Dynamic Formulation"
   ]
  },
  {
   "cell_type": "code",
   "execution_count": 16,
   "metadata": {},
   "outputs": [],
   "source": [
    "def friend_pairing_dp(n_person:int):\n",
    "    \n",
    "    solution = [0]*(n_person+1)\n",
    "    \n",
    "    for i in range(n_person+1):\n",
    "        if i <=2:\n",
    "            solution[i] = i\n",
    "        else:\n",
    "            solution[i] = solution[i-1] + (i - 1)*solution[i-2]\n",
    "            \n",
    "    return solution[-1]"
   ]
  },
  {
   "cell_type": "code",
   "execution_count": 19,
   "metadata": {},
   "outputs": [
    {
     "data": {
      "text/plain": [
       "10"
      ]
     },
     "execution_count": 19,
     "metadata": {},
     "output_type": "execute_result"
    }
   ],
   "source": [
    "friend_pairing_dp(4)"
   ]
  },
  {
   "cell_type": "code",
   "execution_count": null,
   "metadata": {},
   "outputs": [],
   "source": []
  }
 ],
 "metadata": {
  "hide_input": false,
  "kernelspec": {
   "display_name": "Python [conda env:py36]",
   "language": "python",
   "name": "conda-env-py36-py"
  },
  "language_info": {
   "codemirror_mode": {
    "name": "ipython",
    "version": 3
   },
   "file_extension": ".py",
   "mimetype": "text/x-python",
   "name": "python",
   "nbconvert_exporter": "python",
   "pygments_lexer": "ipython3",
   "version": "3.6.8"
  },
  "toc": {
   "base_numbering": 1,
   "nav_menu": {},
   "number_sections": true,
   "sideBar": true,
   "skip_h1_title": false,
   "title_cell": "Table of Contents",
   "title_sidebar": "Contents",
   "toc_cell": false,
   "toc_position": {},
   "toc_section_display": true,
   "toc_window_display": true
  },
  "varInspector": {
   "cols": {
    "lenName": 16,
    "lenType": 16,
    "lenVar": 40
   },
   "kernels_config": {
    "python": {
     "delete_cmd_postfix": "",
     "delete_cmd_prefix": "del ",
     "library": "var_list.py",
     "varRefreshCmd": "print(var_dic_list())"
    },
    "r": {
     "delete_cmd_postfix": ") ",
     "delete_cmd_prefix": "rm(",
     "library": "var_list.r",
     "varRefreshCmd": "cat(var_dic_list()) "
    }
   },
   "types_to_exclude": [
    "module",
    "function",
    "builtin_function_or_method",
    "instance",
    "_Feature"
   ],
   "window_display": false
  }
 },
 "nbformat": 4,
 "nbformat_minor": 2
}
